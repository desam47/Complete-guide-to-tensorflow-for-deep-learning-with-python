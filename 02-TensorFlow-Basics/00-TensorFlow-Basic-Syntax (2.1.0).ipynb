{
 "cells": [
  {
   "cell_type": "markdown",
   "metadata": {},
   "source": [
    "# TensorFlow Basics"
   ]
  },
  {
   "cell_type": "code",
   "execution_count": 1,
   "metadata": {
    "ExecuteTime": {
     "end_time": "2020-05-01T16:00:12.041671Z",
     "start_time": "2020-05-01T16:00:10.422083Z"
    }
   },
   "outputs": [],
   "source": [
    "import tensorflow as tf"
   ]
  },
  {
   "cell_type": "code",
   "execution_count": 2,
   "metadata": {
    "ExecuteTime": {
     "end_time": "2020-05-01T16:00:12.113353Z",
     "start_time": "2020-05-01T16:00:12.105101Z"
    }
   },
   "outputs": [
    {
     "name": "stdout",
     "output_type": "stream",
     "text": [
      "2.1.0\n"
     ]
    }
   ],
   "source": [
    "# Make sure you are using 1.3 for exact sytnax matching!\n",
    "print(tf.__version__)"
   ]
  },
  {
   "cell_type": "markdown",
   "metadata": {},
   "source": [
    "## Tensors"
   ]
  },
  {
   "cell_type": "markdown",
   "metadata": {
    "ExecuteTime": {
     "end_time": "2020-05-01T11:02:51.791908Z",
     "start_time": "2020-05-01T11:02:51.354278Z"
    }
   },
   "source": [
    "## Create a tensor of n-dimension"
   ]
  },
  {
   "cell_type": "code",
   "execution_count": 3,
   "metadata": {
    "ExecuteTime": {
     "end_time": "2020-05-01T16:00:14.007857Z",
     "start_time": "2020-05-01T16:00:13.960957Z"
    }
   },
   "outputs": [],
   "source": [
    "# Default name\n",
    "r1 = tf.constant(1, tf.int16) "
   ]
  },
  {
   "cell_type": "code",
   "execution_count": 4,
   "metadata": {
    "ExecuteTime": {
     "end_time": "2020-05-01T16:00:18.665287Z",
     "start_time": "2020-05-01T16:00:18.661153Z"
    }
   },
   "outputs": [
    {
     "name": "stdout",
     "output_type": "stream",
     "text": [
      "tf.Tensor(1, shape=(), dtype=int16)\n"
     ]
    }
   ],
   "source": [
    "print(r1)"
   ]
  },
  {
   "cell_type": "code",
   "execution_count": 5,
   "metadata": {
    "ExecuteTime": {
     "end_time": "2020-05-01T16:00:33.071397Z",
     "start_time": "2020-05-01T16:00:33.058918Z"
    }
   },
   "outputs": [
    {
     "name": "stdout",
     "output_type": "stream",
     "text": [
      "1\n"
     ]
    }
   ],
   "source": [
    "tf.print(r1)"
   ]
  },
  {
   "cell_type": "code",
   "execution_count": 7,
   "metadata": {
    "ExecuteTime": {
     "end_time": "2020-05-01T16:01:08.170022Z",
     "start_time": "2020-05-01T16:01:08.163020Z"
    }
   },
   "outputs": [
    {
     "name": "stdout",
     "output_type": "stream",
     "text": [
      "tf.Tensor(1, shape=(), dtype=int32)\n"
     ]
    }
   ],
   "source": [
    "# Named my_scalar\n",
    "r2 = tf.constant(1, name = \"my_scalar\") \n",
    "print(r2)"
   ]
  },
  {
   "cell_type": "code",
   "execution_count": 11,
   "metadata": {
    "ExecuteTime": {
     "end_time": "2020-05-01T16:02:13.940804Z",
     "start_time": "2020-05-01T16:02:13.933214Z"
    }
   },
   "outputs": [
    {
     "name": "stdout",
     "output_type": "stream",
     "text": [
      "tf.Tensor(1.12345, shape=(), dtype=float32)\n",
      "tf.Tensor(b'Dipesh', shape=(), dtype=string)\n"
     ]
    }
   ],
   "source": [
    "# Decimal\n",
    "r1_decimal = tf.constant(1.12345)\n",
    "print(r1_decimal)\n",
    "# String\n",
    "r1_string = tf.constant(\"Dipesh\")\n",
    "print(r1_string)"
   ]
  },
  {
   "cell_type": "code",
   "execution_count": null,
   "metadata": {
    "ExecuteTime": {
     "end_time": "2020-05-01T11:02:52.258353Z",
     "start_time": "2020-05-01T11:02:52.182409Z"
    }
   },
   "outputs": [],
   "source": [
    "tf.print(result)"
   ]
  },
  {
   "cell_type": "markdown",
   "metadata": {},
   "source": [
    "### A tensor of dimension n can be created as follow:"
   ]
  },
  {
   "cell_type": "code",
   "execution_count": 15,
   "metadata": {
    "ExecuteTime": {
     "end_time": "2020-05-01T16:03:40.157097Z",
     "start_time": "2020-05-01T16:03:40.143411Z"
    }
   },
   "outputs": [
    {
     "name": "stdout",
     "output_type": "stream",
     "text": [
      "tf.Tensor([1 3 5], shape=(3,), dtype=int32)\n",
      "tf.Tensor([ True  True False], shape=(3,), dtype=bool)\n"
     ]
    }
   ],
   "source": [
    "## Rank 1\n",
    "r1_vector = tf.constant([1,3,5])\n",
    "print(r1_vector)\n",
    "r2_boolean = tf.constant([True, True, False])\n",
    "print(r2_boolean)"
   ]
  },
  {
   "cell_type": "code",
   "execution_count": 17,
   "metadata": {
    "ExecuteTime": {
     "end_time": "2020-05-01T16:04:44.129122Z",
     "start_time": "2020-05-01T16:04:44.108013Z"
    }
   },
   "outputs": [
    {
     "name": "stdout",
     "output_type": "stream",
     "text": [
      "tf.Tensor(\n",
      "[[1 2]\n",
      " [3 4]], shape=(2, 2), dtype=int32)\n"
     ]
    }
   ],
   "source": [
    "## Rank 2\n",
    "r2_matrix = tf.constant([ [1, 2],\n",
    "                          [3, 4] ])\n",
    "print(r2_matrix)"
   ]
  },
  {
   "cell_type": "code",
   "execution_count": 19,
   "metadata": {
    "ExecuteTime": {
     "end_time": "2020-05-01T16:05:27.793857Z",
     "start_time": "2020-05-01T16:05:27.774937Z"
    }
   },
   "outputs": [
    {
     "name": "stdout",
     "output_type": "stream",
     "text": [
      "tf.Tensor(\n",
      "[[[1 2]\n",
      "  [3 4]\n",
      "  [5 6]]], shape=(1, 3, 2), dtype=int32)\n"
     ]
    }
   ],
   "source": [
    "## Rank 3\n",
    "r3_matrix = tf.constant([ [[1, 2],\n",
    "                           [3, 4], \n",
    "                           [5, 6]] ])\n",
    "print(r3_matrix)"
   ]
  },
  {
   "cell_type": "markdown",
   "metadata": {
    "ExecuteTime": {
     "end_time": "2020-05-01T15:52:31.181669Z",
     "start_time": "2020-05-01T15:52:31.172926Z"
    }
   },
   "source": [
    "### Shape of tensor"
   ]
  },
  {
   "cell_type": "code",
   "execution_count": 21,
   "metadata": {
    "ExecuteTime": {
     "end_time": "2020-05-01T16:06:21.118696Z",
     "start_time": "2020-05-01T16:06:21.102841Z"
    }
   },
   "outputs": [
    {
     "data": {
      "text/plain": [
       "TensorShape([3, 2])"
      ]
     },
     "execution_count": 21,
     "metadata": {},
     "output_type": "execute_result"
    }
   ],
   "source": [
    "# Shape of tensor\n",
    "m_shape = tf.constant([ [10, 11],\n",
    "                        [12, 13],\n",
    "                        [14, 15] ]                      \n",
    "                     ) \n",
    "m_shape.shape"
   ]
  },
  {
   "cell_type": "code",
   "execution_count": 22,
   "metadata": {
    "ExecuteTime": {
     "end_time": "2020-05-01T16:06:52.547955Z",
     "start_time": "2020-05-01T16:06:52.520721Z"
    }
   },
   "outputs": [
    {
     "name": "stdout",
     "output_type": "stream",
     "text": [
      "tf.Tensor([0. 0. 0. 0. 0. 0. 0. 0. 0. 0.], shape=(10,), dtype=float32)\n"
     ]
    }
   ],
   "source": [
    "# Create a vector of 0\n",
    "print(tf.zeros(10))"
   ]
  },
  {
   "cell_type": "code",
   "execution_count": 23,
   "metadata": {
    "ExecuteTime": {
     "end_time": "2020-05-01T16:07:28.129954Z",
     "start_time": "2020-05-01T16:07:28.100963Z"
    }
   },
   "outputs": [
    {
     "name": "stdout",
     "output_type": "stream",
     "text": [
      "tf.Tensor(\n",
      "[[1. 1. 1. 1. 1. 1. 1. 1. 1. 1.]\n",
      " [1. 1. 1. 1. 1. 1. 1. 1. 1. 1.]\n",
      " [1. 1. 1. 1. 1. 1. 1. 1. 1. 1.]\n",
      " [1. 1. 1. 1. 1. 1. 1. 1. 1. 1.]\n",
      " [1. 1. 1. 1. 1. 1. 1. 1. 1. 1.]\n",
      " [1. 1. 1. 1. 1. 1. 1. 1. 1. 1.]\n",
      " [1. 1. 1. 1. 1. 1. 1. 1. 1. 1.]\n",
      " [1. 1. 1. 1. 1. 1. 1. 1. 1. 1.]\n",
      " [1. 1. 1. 1. 1. 1. 1. 1. 1. 1.]\n",
      " [1. 1. 1. 1. 1. 1. 1. 1. 1. 1.]], shape=(10, 10), dtype=float32)\n"
     ]
    }
   ],
   "source": [
    "# Create a vector of 1\n",
    "print(tf.ones([10, 10]))"
   ]
  },
  {
   "cell_type": "code",
   "execution_count": 24,
   "metadata": {
    "ExecuteTime": {
     "end_time": "2020-05-01T16:07:50.978698Z",
     "start_time": "2020-05-01T16:07:50.957468Z"
    }
   },
   "outputs": [
    {
     "name": "stdout",
     "output_type": "stream",
     "text": [
      "tf.Tensor([1. 1. 1.], shape=(3,), dtype=float32)\n"
     ]
    }
   ],
   "source": [
    "# Create a vector of ones with the same number of rows as m_shape\n",
    "print(tf.ones(m_shape.shape[0]))"
   ]
  },
  {
   "cell_type": "code",
   "execution_count": 25,
   "metadata": {
    "ExecuteTime": {
     "end_time": "2020-05-01T16:08:05.178956Z",
     "start_time": "2020-05-01T16:08:05.137202Z"
    }
   },
   "outputs": [
    {
     "name": "stdout",
     "output_type": "stream",
     "text": [
      "tf.Tensor([1. 1.], shape=(2,), dtype=float32)\n"
     ]
    }
   ],
   "source": [
    "# Create a vector of ones with the same number of column as m_shape\n",
    "print(tf.ones(m_shape.shape[1]))"
   ]
  },
  {
   "cell_type": "code",
   "execution_count": 26,
   "metadata": {
    "ExecuteTime": {
     "end_time": "2020-05-01T16:08:47.202832Z",
     "start_time": "2020-05-01T16:08:47.189581Z"
    }
   },
   "outputs": [
    {
     "name": "stdout",
     "output_type": "stream",
     "text": [
      "tf.Tensor(\n",
      "[[1. 1.]\n",
      " [1. 1.]\n",
      " [1. 1.]], shape=(3, 2), dtype=float32)\n"
     ]
    }
   ],
   "source": [
    "print(tf.ones(m_shape.shape))"
   ]
  },
  {
   "cell_type": "code",
   "execution_count": 27,
   "metadata": {
    "ExecuteTime": {
     "end_time": "2020-05-01T16:09:11.028010Z",
     "start_time": "2020-05-01T16:09:11.009751Z"
    }
   },
   "outputs": [
    {
     "name": "stdout",
     "output_type": "stream",
     "text": [
      "<dtype: 'int32'>\n"
     ]
    }
   ],
   "source": [
    "print(m_shape.dtype)"
   ]
  },
  {
   "cell_type": "code",
   "execution_count": 28,
   "metadata": {
    "ExecuteTime": {
     "end_time": "2020-05-01T16:09:25.016952Z",
     "start_time": "2020-05-01T16:09:25.005135Z"
    }
   },
   "outputs": [
    {
     "name": "stdout",
     "output_type": "stream",
     "text": [
      "<dtype: 'float32'>\n",
      "<dtype: 'int32'>\n"
     ]
    }
   ],
   "source": [
    "# Change type of data\n",
    "type_float = tf.constant(3.123456789, tf.float32)\n",
    "type_int = tf.cast(type_float, dtype=tf.int32)\n",
    "print(type_float.dtype)\n",
    "print(type_int.dtype)"
   ]
  },
  {
   "cell_type": "markdown",
   "metadata": {},
   "source": [
    "## Operations"
   ]
  },
  {
   "cell_type": "code",
   "execution_count": 34,
   "metadata": {
    "ExecuteTime": {
     "end_time": "2020-05-01T16:11:31.155913Z",
     "start_time": "2020-05-01T16:11:31.146734Z"
    }
   },
   "outputs": [
    {
     "name": "stdout",
     "output_type": "stream",
     "text": [
      "tf.Tensor([1.4142135], shape=(1,), dtype=float32)\n"
     ]
    }
   ],
   "source": [
    "x = tf.constant([2.0])\n",
    "print(tf.sqrt(x))"
   ]
  },
  {
   "cell_type": "code",
   "execution_count": 35,
   "metadata": {
    "ExecuteTime": {
     "end_time": "2020-05-01T16:11:44.938588Z",
     "start_time": "2020-05-01T16:11:44.926176Z"
    }
   },
   "outputs": [
    {
     "name": "stdout",
     "output_type": "stream",
     "text": [
      "tf.Tensor([[4 6]], shape=(1, 2), dtype=int32)\n"
     ]
    }
   ],
   "source": [
    "# Add\n",
    "tensor_a = tf.constant([[1,2]])\n",
    "tensor_b = tf.constant([[3, 4]])\n",
    "\n",
    "tensor_add = tf.add(tensor_a, tensor_b)\n",
    "print(tensor_add)"
   ]
  },
  {
   "cell_type": "code",
   "execution_count": 36,
   "metadata": {
    "ExecuteTime": {
     "end_time": "2020-05-01T16:12:32.832891Z",
     "start_time": "2020-05-01T16:12:32.828780Z"
    }
   },
   "outputs": [
    {
     "name": "stdout",
     "output_type": "stream",
     "text": [
      "tf.Tensor([[3 8]], shape=(1, 2), dtype=int32)\n"
     ]
    }
   ],
   "source": [
    "# Multiply\n",
    "tensor_multiply = tf.multiply(tensor_a, tensor_b)\n",
    "print(tensor_multiply)"
   ]
  },
  {
   "cell_type": "code",
   "execution_count": null,
   "metadata": {
    "ExecuteTime": {
     "end_time": "2020-05-01T11:02:53.161756Z",
     "start_time": "2020-05-01T11:02:53.062662Z"
    }
   },
   "outputs": [],
   "source": [
    "myones = tf.ones((4,4))"
   ]
  },
  {
   "cell_type": "code",
   "execution_count": null,
   "metadata": {
    "ExecuteTime": {
     "end_time": "2020-05-01T11:02:53.306359Z",
     "start_time": "2020-05-01T11:02:53.165461Z"
    }
   },
   "outputs": [],
   "source": [
    "myrandn = tf.random.normal((4,4),mean=0,stddev=0.5)"
   ]
  },
  {
   "cell_type": "code",
   "execution_count": null,
   "metadata": {
    "ExecuteTime": {
     "end_time": "2020-05-01T11:02:53.400078Z",
     "start_time": "2020-05-01T11:02:53.317513Z"
    }
   },
   "outputs": [],
   "source": [
    "myrandu = tf.random.uniform((4,4),minval=0,maxval=1)"
   ]
  },
  {
   "cell_type": "code",
   "execution_count": null,
   "metadata": {
    "ExecuteTime": {
     "end_time": "2020-05-01T11:02:53.438406Z",
     "start_time": "2020-05-01T11:02:53.402499Z"
    }
   },
   "outputs": [],
   "source": [
    "my_ops = [const,fill_mat,myzeros,myones,myrandn,myrandu]"
   ]
  },
  {
   "cell_type": "code",
   "execution_count": null,
   "metadata": {
    "ExecuteTime": {
     "end_time": "2020-05-01T11:02:53.533722Z",
     "start_time": "2020-05-01T11:02:53.440480Z"
    }
   },
   "outputs": [],
   "source": [
    "print(my_ops)"
   ]
  },
  {
   "cell_type": "markdown",
   "metadata": {},
   "source": [
    "## Variables"
   ]
  },
  {
   "cell_type": "code",
   "execution_count": 45,
   "metadata": {
    "ExecuteTime": {
     "end_time": "2020-05-01T16:31:18.743893Z",
     "start_time": "2020-05-01T16:31:18.725238Z"
    }
   },
   "outputs": [
    {
     "name": "stdout",
     "output_type": "stream",
     "text": [
      "(1, 2)\n"
     ]
    }
   ],
   "source": [
    "# Create a Variable\n",
    "## Create 2 Randomized values\n",
    "var = tf.Variable([[1, 2]])\n",
    "print(var.shape)"
   ]
  },
  {
   "cell_type": "code",
   "execution_count": 48,
   "metadata": {
    "ExecuteTime": {
     "end_time": "2020-05-01T16:36:28.134385Z",
     "start_time": "2020-05-01T16:36:28.120206Z"
    }
   },
   "outputs": [
    {
     "name": "stdout",
     "output_type": "stream",
     "text": [
      "(2, 2)\n"
     ]
    }
   ],
   "source": [
    "# Create a Variable\n",
    "## Create 2 Randomized values\n",
    "var = tf.Variable([[1, 2],[3, 4]])\n",
    "print(var.shape)"
   ]
  },
  {
   "cell_type": "code",
   "execution_count": null,
   "metadata": {},
   "outputs": [],
   "source": []
  }
 ],
 "metadata": {
  "kernelspec": {
   "display_name": "Python 3",
   "language": "python",
   "name": "python3"
  },
  "language_info": {
   "codemirror_mode": {
    "name": "ipython",
    "version": 3
   },
   "file_extension": ".py",
   "mimetype": "text/x-python",
   "name": "python",
   "nbconvert_exporter": "python",
   "pygments_lexer": "ipython3",
   "version": "3.7.7"
  },
  "varInspector": {
   "cols": {
    "lenName": 16,
    "lenType": 16,
    "lenVar": 40
   },
   "kernels_config": {
    "python": {
     "delete_cmd_postfix": "",
     "delete_cmd_prefix": "del ",
     "library": "var_list.py",
     "varRefreshCmd": "print(var_dic_list())"
    },
    "r": {
     "delete_cmd_postfix": ") ",
     "delete_cmd_prefix": "rm(",
     "library": "var_list.r",
     "varRefreshCmd": "cat(var_dic_list()) "
    }
   },
   "types_to_exclude": [
    "module",
    "function",
    "builtin_function_or_method",
    "instance",
    "_Feature"
   ],
   "window_display": false
  }
 },
 "nbformat": 4,
 "nbformat_minor": 2
}
