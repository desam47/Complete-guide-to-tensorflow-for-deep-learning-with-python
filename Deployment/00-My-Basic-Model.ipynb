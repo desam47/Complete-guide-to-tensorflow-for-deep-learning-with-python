{
 "cells": [
  {
   "cell_type": "markdown",
   "metadata": {},
   "source": [
    "<a href=\"https://www.pieriandata.com\"><img src=\"../Pierian_Data_Logo.PNG\"></a>\n",
    "<strong><center>Copyright by Pierian Data Inc.</center></strong> \n",
    "<strong><center>Created by Jose Marcial Portilla.</center></strong>"
   ]
  },
  {
   "cell_type": "markdown",
   "metadata": {},
   "source": [
    "# DEPLOYMENT\n",
    "\n",
    "**Welcome to deployment section! In this section of the course, we will go through the entire deployment process, starting as if you had to create a servicable model from scratch, then deploy it for others to use, either through API or a web form.**\n",
    "\n",
    "# Data\n",
    "\n",
    "For this example we use the very common data set: [iris dataset](https://en.wikipedia.org/wiki/Iris_flower_data_set), which is about flowers. \n",
    "\n",
    "From Wikipedia:\n",
    "The Iris flower data set or Fisher's Iris data set is a multivariate data set introduced by the British statistician and biologist Ronald Fisher in his 1936 paper The use of multiple measurements in taxonomic problems as an example of linear discriminant analysis.[1] It is sometimes called Anderson's Iris data set because Edgar Anderson collected the data to quantify the morphologic variation of Iris flowers of three related species.[2] Two of the three species were collected in the Gaspé Peninsula \"all from the same pasture, and picked on the same day and measured at the same time by the same person with the same apparatus\".[3]\n",
    "\n",
    "The data set consists of 50 samples from each of three species of Iris (Iris setosa, Iris virginica and Iris versicolor). Four features were measured from each sample: the length and the width of the sepals and petals, in centimeters. "
   ]
  },
  {
   "cell_type": "code",
   "execution_count": 20,
   "metadata": {
    "ExecuteTime": {
     "end_time": "2020-05-06T20:15:57.667478Z",
     "start_time": "2020-05-06T20:15:57.663644Z"
    }
   },
   "outputs": [],
   "source": [
    "import numpy as np\n",
    "import pandas as pd"
   ]
  },
  {
   "cell_type": "code",
   "execution_count": 21,
   "metadata": {
    "ExecuteTime": {
     "end_time": "2020-05-06T20:15:57.820716Z",
     "start_time": "2020-05-06T20:15:57.812757Z"
    }
   },
   "outputs": [],
   "source": [
    "iris = pd.read_csv(\"../DATA/iris.csv\")"
   ]
  },
  {
   "cell_type": "code",
   "execution_count": 22,
   "metadata": {
    "ExecuteTime": {
     "end_time": "2020-05-06T20:15:57.957743Z",
     "start_time": "2020-05-06T20:15:57.939330Z"
    }
   },
   "outputs": [
    {
     "data": {
      "text/html": [
       "<div>\n",
       "<style scoped>\n",
       "    .dataframe tbody tr th:only-of-type {\n",
       "        vertical-align: middle;\n",
       "    }\n",
       "\n",
       "    .dataframe tbody tr th {\n",
       "        vertical-align: top;\n",
       "    }\n",
       "\n",
       "    .dataframe thead th {\n",
       "        text-align: right;\n",
       "    }\n",
       "</style>\n",
       "<table border=\"1\" class=\"dataframe\">\n",
       "  <thead>\n",
       "    <tr style=\"text-align: right;\">\n",
       "      <th></th>\n",
       "      <th>sepal_length</th>\n",
       "      <th>sepal_width</th>\n",
       "      <th>petal_length</th>\n",
       "      <th>petal_width</th>\n",
       "      <th>species</th>\n",
       "    </tr>\n",
       "  </thead>\n",
       "  <tbody>\n",
       "    <tr>\n",
       "      <th>0</th>\n",
       "      <td>5.1</td>\n",
       "      <td>3.5</td>\n",
       "      <td>1.4</td>\n",
       "      <td>0.2</td>\n",
       "      <td>setosa</td>\n",
       "    </tr>\n",
       "    <tr>\n",
       "      <th>1</th>\n",
       "      <td>4.9</td>\n",
       "      <td>3.0</td>\n",
       "      <td>1.4</td>\n",
       "      <td>0.2</td>\n",
       "      <td>setosa</td>\n",
       "    </tr>\n",
       "    <tr>\n",
       "      <th>2</th>\n",
       "      <td>4.7</td>\n",
       "      <td>3.2</td>\n",
       "      <td>1.3</td>\n",
       "      <td>0.2</td>\n",
       "      <td>setosa</td>\n",
       "    </tr>\n",
       "    <tr>\n",
       "      <th>3</th>\n",
       "      <td>4.6</td>\n",
       "      <td>3.1</td>\n",
       "      <td>1.5</td>\n",
       "      <td>0.2</td>\n",
       "      <td>setosa</td>\n",
       "    </tr>\n",
       "    <tr>\n",
       "      <th>4</th>\n",
       "      <td>5.0</td>\n",
       "      <td>3.6</td>\n",
       "      <td>1.4</td>\n",
       "      <td>0.2</td>\n",
       "      <td>setosa</td>\n",
       "    </tr>\n",
       "  </tbody>\n",
       "</table>\n",
       "</div>"
      ],
      "text/plain": [
       "   sepal_length  sepal_width  petal_length  petal_width species\n",
       "0           5.1          3.5           1.4          0.2  setosa\n",
       "1           4.9          3.0           1.4          0.2  setosa\n",
       "2           4.7          3.2           1.3          0.2  setosa\n",
       "3           4.6          3.1           1.5          0.2  setosa\n",
       "4           5.0          3.6           1.4          0.2  setosa"
      ]
     },
     "execution_count": 22,
     "metadata": {},
     "output_type": "execute_result"
    }
   ],
   "source": [
    "iris.head()"
   ]
  },
  {
   "cell_type": "markdown",
   "metadata": {},
   "source": [
    "## Data Processing"
   ]
  },
  {
   "cell_type": "markdown",
   "metadata": {},
   "source": [
    "### Features and Target"
   ]
  },
  {
   "cell_type": "code",
   "execution_count": 23,
   "metadata": {
    "ExecuteTime": {
     "end_time": "2020-05-06T20:15:58.354972Z",
     "start_time": "2020-05-06T20:15:58.348374Z"
    }
   },
   "outputs": [
    {
     "data": {
      "text/plain": [
       "Index(['sepal_length', 'sepal_width', 'petal_length', 'petal_width',\n",
       "       'species'],\n",
       "      dtype='object')"
      ]
     },
     "execution_count": 23,
     "metadata": {},
     "output_type": "execute_result"
    }
   ],
   "source": [
    "iris.columns"
   ]
  },
  {
   "cell_type": "code",
   "execution_count": 24,
   "metadata": {
    "ExecuteTime": {
     "end_time": "2020-05-06T20:15:58.525767Z",
     "start_time": "2020-05-06T20:15:58.520533Z"
    }
   },
   "outputs": [],
   "source": [
    "X = iris.drop('species',axis=1)\n",
    "y = iris['species']"
   ]
  },
  {
   "cell_type": "code",
   "execution_count": 25,
   "metadata": {
    "ExecuteTime": {
     "end_time": "2020-05-06T20:15:58.642461Z",
     "start_time": "2020-05-06T20:15:58.638433Z"
    }
   },
   "outputs": [
    {
     "data": {
      "text/plain": [
       "array(['setosa', 'versicolor', 'virginica'], dtype=object)"
      ]
     },
     "execution_count": 25,
     "metadata": {},
     "output_type": "execute_result"
    }
   ],
   "source": [
    "y.unique()"
   ]
  },
  {
   "cell_type": "code",
   "execution_count": 26,
   "metadata": {
    "ExecuteTime": {
     "end_time": "2020-05-06T20:15:58.778621Z",
     "start_time": "2020-05-06T20:15:58.775430Z"
    }
   },
   "outputs": [],
   "source": [
    "# Lots of ways to one hot encode\n",
    "# https://stackoverflow.com/questions/47573293/unable-to-transform-string-column-to-categorical-matrix-using-keras-and-sklearn\n",
    "# https://stackoverflow.com/questions/35107559/one-hot-encoding-of-string-categorical-features"
   ]
  },
  {
   "cell_type": "code",
   "execution_count": 27,
   "metadata": {
    "ExecuteTime": {
     "end_time": "2020-05-06T20:15:58.921660Z",
     "start_time": "2020-05-06T20:15:58.917208Z"
    }
   },
   "outputs": [],
   "source": [
    "from sklearn.preprocessing import LabelBinarizer\n",
    "encoder = LabelBinarizer()\n",
    "y = encoder.fit_transform(y)"
   ]
  },
  {
   "cell_type": "code",
   "execution_count": 28,
   "metadata": {
    "ExecuteTime": {
     "end_time": "2020-05-06T20:15:59.061571Z",
     "start_time": "2020-05-06T20:15:59.057335Z"
    }
   },
   "outputs": [],
   "source": [
    "from sklearn.model_selection import train_test_split\n",
    "from sklearn.preprocessing import MinMaxScaler"
   ]
  },
  {
   "cell_type": "code",
   "execution_count": 29,
   "metadata": {
    "ExecuteTime": {
     "end_time": "2020-05-06T20:15:59.221303Z",
     "start_time": "2020-05-06T20:15:59.214364Z"
    }
   },
   "outputs": [],
   "source": [
    "X_train, X_test, y_train, y_test = train_test_split(X, y, test_size=0.2, random_state=101)"
   ]
  },
  {
   "cell_type": "markdown",
   "metadata": {},
   "source": [
    "### Scaling"
   ]
  },
  {
   "cell_type": "code",
   "execution_count": 30,
   "metadata": {
    "ExecuteTime": {
     "end_time": "2020-05-06T20:15:59.923352Z",
     "start_time": "2020-05-06T20:15:59.912968Z"
    }
   },
   "outputs": [],
   "source": [
    "scaler = MinMaxScaler()"
   ]
  },
  {
   "cell_type": "code",
   "execution_count": 31,
   "metadata": {
    "ExecuteTime": {
     "end_time": "2020-05-06T20:16:00.428086Z",
     "start_time": "2020-05-06T20:16:00.411818Z"
    }
   },
   "outputs": [
    {
     "data": {
      "text/plain": [
       "MinMaxScaler(copy=True, feature_range=(0, 1))"
      ]
     },
     "execution_count": 31,
     "metadata": {},
     "output_type": "execute_result"
    }
   ],
   "source": [
    "scaler.fit(X_train)"
   ]
  },
  {
   "cell_type": "code",
   "execution_count": 32,
   "metadata": {
    "ExecuteTime": {
     "end_time": "2020-05-06T20:16:00.945272Z",
     "start_time": "2020-05-06T20:16:00.925961Z"
    }
   },
   "outputs": [],
   "source": [
    "scaled_X_train = scaler.transform(X_train)"
   ]
  },
  {
   "cell_type": "code",
   "execution_count": 33,
   "metadata": {
    "ExecuteTime": {
     "end_time": "2020-05-06T20:16:01.472845Z",
     "start_time": "2020-05-06T20:16:01.457252Z"
    }
   },
   "outputs": [],
   "source": [
    "scaled_X_test = scaler.transform(X_test)"
   ]
  },
  {
   "cell_type": "markdown",
   "metadata": {},
   "source": [
    "## Model\n",
    "\n",
    "\n",
    "### Creating the Model"
   ]
  },
  {
   "cell_type": "code",
   "execution_count": 34,
   "metadata": {
    "ExecuteTime": {
     "end_time": "2020-05-06T20:16:03.496701Z",
     "start_time": "2020-05-06T20:16:03.489029Z"
    }
   },
   "outputs": [],
   "source": [
    "from tensorflow.keras.models import Sequential\n",
    "from tensorflow.keras.layers import Dense"
   ]
  },
  {
   "cell_type": "code",
   "execution_count": 35,
   "metadata": {
    "ExecuteTime": {
     "end_time": "2020-05-06T20:16:04.424433Z",
     "start_time": "2020-05-06T20:16:04.339816Z"
    }
   },
   "outputs": [],
   "source": [
    "model = Sequential()\n",
    "model.add(Dense(units=4,activation='relu',input_shape=[4,]))\n",
    "\n",
    "# Last layer for multi-class classification of 3 species\n",
    "model.add(Dense(units=3,activation='softmax'))\n",
    "\n",
    "model.compile(optimizer='adam',\n",
    "              loss='categorical_crossentropy',metrics=['accuracy'])"
   ]
  },
  {
   "cell_type": "markdown",
   "metadata": {},
   "source": [
    "## Model Training"
   ]
  },
  {
   "cell_type": "code",
   "execution_count": 36,
   "metadata": {
    "ExecuteTime": {
     "end_time": "2020-05-06T20:16:06.690896Z",
     "start_time": "2020-05-06T20:16:06.677431Z"
    }
   },
   "outputs": [],
   "source": [
    "from tensorflow.keras.callbacks import EarlyStopping"
   ]
  },
  {
   "cell_type": "code",
   "execution_count": 37,
   "metadata": {
    "ExecuteTime": {
     "end_time": "2020-05-06T20:16:07.574362Z",
     "start_time": "2020-05-06T20:16:07.569715Z"
    }
   },
   "outputs": [],
   "source": [
    "early_stop = EarlyStopping(patience=10)"
   ]
  },
  {
   "cell_type": "code",
   "execution_count": 38,
   "metadata": {
    "ExecuteTime": {
     "end_time": "2020-05-06T20:16:15.373267Z",
     "start_time": "2020-05-06T20:16:08.631711Z"
    }
   },
   "outputs": [
    {
     "name": "stdout",
     "output_type": "stream",
     "text": [
      "Train on 120 samples, validate on 30 samples\n",
      "Epoch 1/300\n",
      "120/120 [==============================] - 0s 3ms/sample - loss: 1.1322 - accuracy: 0.3167 - val_loss: 1.1471 - val_accuracy: 0.4000\n",
      "Epoch 2/300\n",
      "120/120 [==============================] - 0s 126us/sample - loss: 1.1254 - accuracy: 0.3167 - val_loss: 1.1412 - val_accuracy: 0.4000\n",
      "Epoch 3/300\n",
      "120/120 [==============================] - 0s 234us/sample - loss: 1.1182 - accuracy: 0.3167 - val_loss: 1.1351 - val_accuracy: 0.4000\n",
      "Epoch 4/300\n",
      "120/120 [==============================] - 0s 176us/sample - loss: 1.1112 - accuracy: 0.3167 - val_loss: 1.1291 - val_accuracy: 0.4000\n",
      "Epoch 5/300\n",
      "120/120 [==============================] - 0s 180us/sample - loss: 1.1043 - accuracy: 0.3167 - val_loss: 1.1232 - val_accuracy: 0.4000\n",
      "Epoch 6/300\n",
      "120/120 [==============================] - 0s 111us/sample - loss: 1.0979 - accuracy: 0.3167 - val_loss: 1.1175 - val_accuracy: 0.4000\n",
      "Epoch 7/300\n",
      "120/120 [==============================] - 0s 219us/sample - loss: 1.0913 - accuracy: 0.3083 - val_loss: 1.1118 - val_accuracy: 0.3667\n",
      "Epoch 8/300\n",
      "120/120 [==============================] - 0s 188us/sample - loss: 1.0850 - accuracy: 0.3083 - val_loss: 1.1061 - val_accuracy: 0.3667\n",
      "Epoch 9/300\n",
      "120/120 [==============================] - 0s 203us/sample - loss: 1.0791 - accuracy: 0.3083 - val_loss: 1.1005 - val_accuracy: 0.3667\n",
      "Epoch 10/300\n",
      "120/120 [==============================] - 0s 176us/sample - loss: 1.0727 - accuracy: 0.3583 - val_loss: 1.0950 - val_accuracy: 0.4333\n",
      "Epoch 11/300\n",
      "120/120 [==============================] - 0s 198us/sample - loss: 1.0667 - accuracy: 0.3750 - val_loss: 1.0898 - val_accuracy: 0.4000\n",
      "Epoch 12/300\n",
      "120/120 [==============================] - 0s 214us/sample - loss: 1.0608 - accuracy: 0.4083 - val_loss: 1.0846 - val_accuracy: 0.4000\n",
      "Epoch 13/300\n",
      "120/120 [==============================] - 0s 155us/sample - loss: 1.0555 - accuracy: 0.4333 - val_loss: 1.0793 - val_accuracy: 0.4000\n",
      "Epoch 14/300\n",
      "120/120 [==============================] - 0s 164us/sample - loss: 1.0497 - accuracy: 0.4500 - val_loss: 1.0743 - val_accuracy: 0.4000\n",
      "Epoch 15/300\n",
      "120/120 [==============================] - 0s 232us/sample - loss: 1.0442 - accuracy: 0.4417 - val_loss: 1.0695 - val_accuracy: 0.4000\n",
      "Epoch 16/300\n",
      "120/120 [==============================] - 0s 179us/sample - loss: 1.0392 - accuracy: 0.4500 - val_loss: 1.0645 - val_accuracy: 0.4667\n",
      "Epoch 17/300\n",
      "120/120 [==============================] - 0s 188us/sample - loss: 1.0341 - accuracy: 0.4667 - val_loss: 1.0598 - val_accuracy: 0.4667\n",
      "Epoch 18/300\n",
      "120/120 [==============================] - 0s 208us/sample - loss: 1.0291 - accuracy: 0.4500 - val_loss: 1.0555 - val_accuracy: 0.5000\n",
      "Epoch 19/300\n",
      "120/120 [==============================] - 0s 204us/sample - loss: 1.0243 - accuracy: 0.4750 - val_loss: 1.0513 - val_accuracy: 0.5333\n",
      "Epoch 20/300\n",
      "120/120 [==============================] - 0s 173us/sample - loss: 1.0191 - accuracy: 0.4750 - val_loss: 1.0473 - val_accuracy: 0.5333\n",
      "Epoch 21/300\n",
      "120/120 [==============================] - 0s 157us/sample - loss: 1.0147 - accuracy: 0.4750 - val_loss: 1.0431 - val_accuracy: 0.5333\n",
      "Epoch 22/300\n",
      "120/120 [==============================] - 0s 148us/sample - loss: 1.0098 - accuracy: 0.4500 - val_loss: 1.0390 - val_accuracy: 0.4667\n",
      "Epoch 23/300\n",
      "120/120 [==============================] - 0s 215us/sample - loss: 1.0051 - accuracy: 0.4500 - val_loss: 1.0348 - val_accuracy: 0.4667\n",
      "Epoch 24/300\n",
      "120/120 [==============================] - 0s 137us/sample - loss: 1.0005 - accuracy: 0.4583 - val_loss: 1.0309 - val_accuracy: 0.4333\n",
      "Epoch 25/300\n",
      "120/120 [==============================] - 0s 186us/sample - loss: 0.9960 - accuracy: 0.4583 - val_loss: 1.0269 - val_accuracy: 0.4000\n",
      "Epoch 26/300\n",
      "120/120 [==============================] - 0s 196us/sample - loss: 0.9912 - accuracy: 0.4417 - val_loss: 1.0230 - val_accuracy: 0.4000\n",
      "Epoch 27/300\n",
      "120/120 [==============================] - 0s 241us/sample - loss: 0.9865 - accuracy: 0.4500 - val_loss: 1.0190 - val_accuracy: 0.4000\n",
      "Epoch 28/300\n",
      "120/120 [==============================] - 0s 163us/sample - loss: 0.9821 - accuracy: 0.4333 - val_loss: 1.0152 - val_accuracy: 0.4000\n",
      "Epoch 29/300\n",
      "120/120 [==============================] - 0s 222us/sample - loss: 0.9776 - accuracy: 0.4500 - val_loss: 1.0114 - val_accuracy: 0.4000\n",
      "Epoch 30/300\n",
      "120/120 [==============================] - 0s 199us/sample - loss: 0.9731 - accuracy: 0.4750 - val_loss: 1.0075 - val_accuracy: 0.4333\n",
      "Epoch 31/300\n",
      "120/120 [==============================] - 0s 163us/sample - loss: 0.9687 - accuracy: 0.4667 - val_loss: 1.0035 - val_accuracy: 0.4000\n",
      "Epoch 32/300\n",
      "120/120 [==============================] - 0s 196us/sample - loss: 0.9644 - accuracy: 0.4833 - val_loss: 0.9995 - val_accuracy: 0.4000\n",
      "Epoch 33/300\n",
      "120/120 [==============================] - 0s 183us/sample - loss: 0.9597 - accuracy: 0.4833 - val_loss: 0.9957 - val_accuracy: 0.4667\n",
      "Epoch 34/300\n",
      "120/120 [==============================] - 0s 159us/sample - loss: 0.9555 - accuracy: 0.4583 - val_loss: 0.9919 - val_accuracy: 0.4333\n",
      "Epoch 35/300\n",
      "120/120 [==============================] - 0s 159us/sample - loss: 0.9510 - accuracy: 0.4833 - val_loss: 0.9880 - val_accuracy: 0.4333\n",
      "Epoch 36/300\n",
      "120/120 [==============================] - 0s 234us/sample - loss: 0.9464 - accuracy: 0.4917 - val_loss: 0.9843 - val_accuracy: 0.4333\n",
      "Epoch 37/300\n",
      "120/120 [==============================] - 0s 246us/sample - loss: 0.9421 - accuracy: 0.5000 - val_loss: 0.9804 - val_accuracy: 0.4333\n",
      "Epoch 38/300\n",
      "120/120 [==============================] - 0s 280us/sample - loss: 0.9380 - accuracy: 0.5000 - val_loss: 0.9767 - val_accuracy: 0.4333\n",
      "Epoch 39/300\n",
      "120/120 [==============================] - 0s 144us/sample - loss: 0.9334 - accuracy: 0.5083 - val_loss: 0.9728 - val_accuracy: 0.4333\n",
      "Epoch 40/300\n",
      "120/120 [==============================] - 0s 183us/sample - loss: 0.9292 - accuracy: 0.5167 - val_loss: 0.9688 - val_accuracy: 0.4333\n",
      "Epoch 41/300\n",
      "120/120 [==============================] - 0s 231us/sample - loss: 0.9250 - accuracy: 0.5333 - val_loss: 0.9649 - val_accuracy: 0.4333\n",
      "Epoch 42/300\n",
      "120/120 [==============================] - 0s 255us/sample - loss: 0.9204 - accuracy: 0.5417 - val_loss: 0.9611 - val_accuracy: 0.4333\n",
      "Epoch 43/300\n",
      "120/120 [==============================] - 0s 204us/sample - loss: 0.9160 - accuracy: 0.5417 - val_loss: 0.9574 - val_accuracy: 0.4333\n",
      "Epoch 44/300\n",
      "120/120 [==============================] - 0s 222us/sample - loss: 0.9117 - accuracy: 0.5500 - val_loss: 0.9537 - val_accuracy: 0.4000\n",
      "Epoch 45/300\n",
      "120/120 [==============================] - 0s 163us/sample - loss: 0.9074 - accuracy: 0.5667 - val_loss: 0.9500 - val_accuracy: 0.4000\n",
      "Epoch 46/300\n",
      "120/120 [==============================] - 0s 140us/sample - loss: 0.9031 - accuracy: 0.5833 - val_loss: 0.9461 - val_accuracy: 0.4000\n",
      "Epoch 47/300\n",
      "120/120 [==============================] - 0s 266us/sample - loss: 0.8989 - accuracy: 0.5833 - val_loss: 0.9425 - val_accuracy: 0.4333\n",
      "Epoch 48/300\n",
      "120/120 [==============================] - 0s 173us/sample - loss: 0.8944 - accuracy: 0.6083 - val_loss: 0.9387 - val_accuracy: 0.4333\n",
      "Epoch 49/300\n",
      "120/120 [==============================] - 0s 224us/sample - loss: 0.8900 - accuracy: 0.6083 - val_loss: 0.9349 - val_accuracy: 0.4667\n",
      "Epoch 50/300\n",
      "120/120 [==============================] - 0s 271us/sample - loss: 0.8858 - accuracy: 0.6167 - val_loss: 0.9310 - val_accuracy: 0.4667\n",
      "Epoch 51/300\n",
      "120/120 [==============================] - 0s 133us/sample - loss: 0.8817 - accuracy: 0.6167 - val_loss: 0.9272 - val_accuracy: 0.4667\n",
      "Epoch 52/300\n",
      "120/120 [==============================] - 0s 158us/sample - loss: 0.8772 - accuracy: 0.6333 - val_loss: 0.9235 - val_accuracy: 0.4667\n",
      "Epoch 53/300\n",
      "120/120 [==============================] - 0s 300us/sample - loss: 0.8730 - accuracy: 0.6417 - val_loss: 0.9197 - val_accuracy: 0.4667\n",
      "Epoch 54/300\n",
      "120/120 [==============================] - 0s 139us/sample - loss: 0.8687 - accuracy: 0.6583 - val_loss: 0.9160 - val_accuracy: 0.4667\n",
      "Epoch 55/300\n",
      "120/120 [==============================] - 0s 184us/sample - loss: 0.8645 - accuracy: 0.6583 - val_loss: 0.9124 - val_accuracy: 0.4667\n",
      "Epoch 56/300\n"
     ]
    },
    {
     "name": "stdout",
     "output_type": "stream",
     "text": [
      "120/120 [==============================] - 0s 222us/sample - loss: 0.8602 - accuracy: 0.6583 - val_loss: 0.9087 - val_accuracy: 0.4667\n",
      "Epoch 57/300\n",
      "120/120 [==============================] - 0s 156us/sample - loss: 0.8561 - accuracy: 0.6583 - val_loss: 0.9049 - val_accuracy: 0.5000\n",
      "Epoch 58/300\n",
      "120/120 [==============================] - 0s 220us/sample - loss: 0.8517 - accuracy: 0.6583 - val_loss: 0.9012 - val_accuracy: 0.5000\n",
      "Epoch 59/300\n",
      "120/120 [==============================] - 0s 141us/sample - loss: 0.8475 - accuracy: 0.6583 - val_loss: 0.8977 - val_accuracy: 0.5667\n",
      "Epoch 60/300\n",
      "120/120 [==============================] - 0s 156us/sample - loss: 0.8432 - accuracy: 0.6583 - val_loss: 0.8939 - val_accuracy: 0.5667\n",
      "Epoch 61/300\n",
      "120/120 [==============================] - 0s 149us/sample - loss: 0.8391 - accuracy: 0.6667 - val_loss: 0.8904 - val_accuracy: 0.5667\n",
      "Epoch 62/300\n",
      "120/120 [==============================] - 0s 127us/sample - loss: 0.8350 - accuracy: 0.6667 - val_loss: 0.8866 - val_accuracy: 0.5667\n",
      "Epoch 63/300\n",
      "120/120 [==============================] - 0s 159us/sample - loss: 0.8306 - accuracy: 0.6667 - val_loss: 0.8829 - val_accuracy: 0.6000\n",
      "Epoch 64/300\n",
      "120/120 [==============================] - 0s 166us/sample - loss: 0.8267 - accuracy: 0.6750 - val_loss: 0.8791 - val_accuracy: 0.6000\n",
      "Epoch 65/300\n",
      "120/120 [==============================] - 0s 139us/sample - loss: 0.8226 - accuracy: 0.6750 - val_loss: 0.8755 - val_accuracy: 0.6000\n",
      "Epoch 66/300\n",
      "120/120 [==============================] - 0s 139us/sample - loss: 0.8182 - accuracy: 0.6750 - val_loss: 0.8718 - val_accuracy: 0.6000\n",
      "Epoch 67/300\n",
      "120/120 [==============================] - 0s 185us/sample - loss: 0.8142 - accuracy: 0.6750 - val_loss: 0.8681 - val_accuracy: 0.6000\n",
      "Epoch 68/300\n",
      "120/120 [==============================] - 0s 162us/sample - loss: 0.8102 - accuracy: 0.6750 - val_loss: 0.8644 - val_accuracy: 0.6000\n",
      "Epoch 69/300\n",
      "120/120 [==============================] - 0s 154us/sample - loss: 0.8061 - accuracy: 0.6750 - val_loss: 0.8607 - val_accuracy: 0.6000\n",
      "Epoch 70/300\n",
      "120/120 [==============================] - 0s 174us/sample - loss: 0.8021 - accuracy: 0.6833 - val_loss: 0.8571 - val_accuracy: 0.6000\n",
      "Epoch 71/300\n",
      "120/120 [==============================] - 0s 160us/sample - loss: 0.7979 - accuracy: 0.6833 - val_loss: 0.8536 - val_accuracy: 0.6000\n",
      "Epoch 72/300\n",
      "120/120 [==============================] - 0s 200us/sample - loss: 0.7940 - accuracy: 0.6833 - val_loss: 0.8500 - val_accuracy: 0.6000\n",
      "Epoch 73/300\n",
      "120/120 [==============================] - 0s 144us/sample - loss: 0.7899 - accuracy: 0.6833 - val_loss: 0.8464 - val_accuracy: 0.6000\n",
      "Epoch 74/300\n",
      "120/120 [==============================] - 0s 172us/sample - loss: 0.7861 - accuracy: 0.6833 - val_loss: 0.8429 - val_accuracy: 0.6000\n",
      "Epoch 75/300\n",
      "120/120 [==============================] - 0s 175us/sample - loss: 0.7822 - accuracy: 0.6833 - val_loss: 0.8395 - val_accuracy: 0.6000\n",
      "Epoch 76/300\n",
      "120/120 [==============================] - 0s 154us/sample - loss: 0.7782 - accuracy: 0.6833 - val_loss: 0.8360 - val_accuracy: 0.6000\n",
      "Epoch 77/300\n",
      "120/120 [==============================] - 0s 141us/sample - loss: 0.7743 - accuracy: 0.6833 - val_loss: 0.8324 - val_accuracy: 0.6000\n",
      "Epoch 78/300\n",
      "120/120 [==============================] - 0s 146us/sample - loss: 0.7705 - accuracy: 0.6833 - val_loss: 0.8289 - val_accuracy: 0.6000\n",
      "Epoch 79/300\n",
      "120/120 [==============================] - 0s 146us/sample - loss: 0.7667 - accuracy: 0.6833 - val_loss: 0.8255 - val_accuracy: 0.6000\n",
      "Epoch 80/300\n",
      "120/120 [==============================] - 0s 139us/sample - loss: 0.7628 - accuracy: 0.6833 - val_loss: 0.8220 - val_accuracy: 0.6000\n",
      "Epoch 81/300\n",
      "120/120 [==============================] - 0s 170us/sample - loss: 0.7591 - accuracy: 0.6833 - val_loss: 0.8186 - val_accuracy: 0.6000\n",
      "Epoch 82/300\n",
      "120/120 [==============================] - 0s 170us/sample - loss: 0.7553 - accuracy: 0.6833 - val_loss: 0.8151 - val_accuracy: 0.6000\n",
      "Epoch 83/300\n",
      "120/120 [==============================] - 0s 139us/sample - loss: 0.7516 - accuracy: 0.6833 - val_loss: 0.8117 - val_accuracy: 0.6000\n",
      "Epoch 84/300\n",
      "120/120 [==============================] - 0s 154us/sample - loss: 0.7478 - accuracy: 0.6833 - val_loss: 0.8083 - val_accuracy: 0.6000\n",
      "Epoch 85/300\n",
      "120/120 [==============================] - 0s 162us/sample - loss: 0.7442 - accuracy: 0.6833 - val_loss: 0.8050 - val_accuracy: 0.6000\n",
      "Epoch 86/300\n",
      "120/120 [==============================] - 0s 194us/sample - loss: 0.7405 - accuracy: 0.6833 - val_loss: 0.8016 - val_accuracy: 0.6000\n",
      "Epoch 87/300\n",
      "120/120 [==============================] - 0s 150us/sample - loss: 0.7368 - accuracy: 0.6833 - val_loss: 0.7983 - val_accuracy: 0.6000\n",
      "Epoch 88/300\n",
      "120/120 [==============================] - 0s 151us/sample - loss: 0.7332 - accuracy: 0.6833 - val_loss: 0.7949 - val_accuracy: 0.6000\n",
      "Epoch 89/300\n",
      "120/120 [==============================] - 0s 166us/sample - loss: 0.7297 - accuracy: 0.6833 - val_loss: 0.7916 - val_accuracy: 0.6000\n",
      "Epoch 90/300\n",
      "120/120 [==============================] - 0s 153us/sample - loss: 0.7261 - accuracy: 0.6833 - val_loss: 0.7882 - val_accuracy: 0.6000\n",
      "Epoch 91/300\n",
      "120/120 [==============================] - 0s 156us/sample - loss: 0.7226 - accuracy: 0.6833 - val_loss: 0.7849 - val_accuracy: 0.6000\n",
      "Epoch 92/300\n",
      "120/120 [==============================] - 0s 135us/sample - loss: 0.7191 - accuracy: 0.6833 - val_loss: 0.7815 - val_accuracy: 0.6000\n",
      "Epoch 93/300\n",
      "120/120 [==============================] - 0s 173us/sample - loss: 0.7156 - accuracy: 0.6833 - val_loss: 0.7782 - val_accuracy: 0.6000\n",
      "Epoch 94/300\n",
      "120/120 [==============================] - 0s 152us/sample - loss: 0.7120 - accuracy: 0.6833 - val_loss: 0.7750 - val_accuracy: 0.6000\n",
      "Epoch 95/300\n",
      "120/120 [==============================] - 0s 142us/sample - loss: 0.7087 - accuracy: 0.6833 - val_loss: 0.7717 - val_accuracy: 0.6000\n",
      "Epoch 96/300\n",
      "120/120 [==============================] - 0s 136us/sample - loss: 0.7052 - accuracy: 0.6833 - val_loss: 0.7685 - val_accuracy: 0.6000\n",
      "Epoch 97/300\n",
      "120/120 [==============================] - 0s 160us/sample - loss: 0.7018 - accuracy: 0.6833 - val_loss: 0.7654 - val_accuracy: 0.6000\n",
      "Epoch 98/300\n",
      "120/120 [==============================] - 0s 142us/sample - loss: 0.6985 - accuracy: 0.6833 - val_loss: 0.7622 - val_accuracy: 0.6000\n",
      "Epoch 99/300\n",
      "120/120 [==============================] - 0s 140us/sample - loss: 0.6951 - accuracy: 0.6833 - val_loss: 0.7590 - val_accuracy: 0.6000\n",
      "Epoch 100/300\n",
      "120/120 [==============================] - 0s 140us/sample - loss: 0.6919 - accuracy: 0.6833 - val_loss: 0.7557 - val_accuracy: 0.6000\n",
      "Epoch 101/300\n",
      "120/120 [==============================] - 0s 144us/sample - loss: 0.6886 - accuracy: 0.6833 - val_loss: 0.7527 - val_accuracy: 0.6000\n",
      "Epoch 102/300\n",
      "120/120 [==============================] - 0s 227us/sample - loss: 0.6853 - accuracy: 0.6833 - val_loss: 0.7496 - val_accuracy: 0.6000\n",
      "Epoch 103/300\n",
      "120/120 [==============================] - 0s 156us/sample - loss: 0.6820 - accuracy: 0.6833 - val_loss: 0.7465 - val_accuracy: 0.6000\n",
      "Epoch 104/300\n",
      "120/120 [==============================] - 0s 202us/sample - loss: 0.6788 - accuracy: 0.6833 - val_loss: 0.7435 - val_accuracy: 0.6000\n",
      "Epoch 105/300\n",
      "120/120 [==============================] - 0s 182us/sample - loss: 0.6757 - accuracy: 0.6833 - val_loss: 0.7404 - val_accuracy: 0.6000\n",
      "Epoch 106/300\n",
      "120/120 [==============================] - 0s 166us/sample - loss: 0.6725 - accuracy: 0.6833 - val_loss: 0.7374 - val_accuracy: 0.6000\n",
      "Epoch 107/300\n",
      "120/120 [==============================] - 0s 162us/sample - loss: 0.6694 - accuracy: 0.6833 - val_loss: 0.7345 - val_accuracy: 0.6000\n",
      "Epoch 108/300\n",
      "120/120 [==============================] - 0s 179us/sample - loss: 0.6663 - accuracy: 0.6833 - val_loss: 0.7315 - val_accuracy: 0.6000\n",
      "Epoch 109/300\n",
      "120/120 [==============================] - 0s 142us/sample - loss: 0.6633 - accuracy: 0.6833 - val_loss: 0.7285 - val_accuracy: 0.6000\n",
      "Epoch 110/300\n",
      "120/120 [==============================] - 0s 137us/sample - loss: 0.6602 - accuracy: 0.6833 - val_loss: 0.7257 - val_accuracy: 0.6000\n",
      "Epoch 111/300\n"
     ]
    },
    {
     "name": "stdout",
     "output_type": "stream",
     "text": [
      "120/120 [==============================] - 0s 152us/sample - loss: 0.6571 - accuracy: 0.6833 - val_loss: 0.7228 - val_accuracy: 0.6000\n",
      "Epoch 112/300\n",
      "120/120 [==============================] - 0s 176us/sample - loss: 0.6543 - accuracy: 0.6833 - val_loss: 0.7200 - val_accuracy: 0.6000\n",
      "Epoch 113/300\n",
      "120/120 [==============================] - 0s 144us/sample - loss: 0.6513 - accuracy: 0.6833 - val_loss: 0.7172 - val_accuracy: 0.6000\n",
      "Epoch 114/300\n",
      "120/120 [==============================] - 0s 145us/sample - loss: 0.6483 - accuracy: 0.6833 - val_loss: 0.7144 - val_accuracy: 0.6000\n",
      "Epoch 115/300\n",
      "120/120 [==============================] - 0s 179us/sample - loss: 0.6456 - accuracy: 0.6833 - val_loss: 0.7116 - val_accuracy: 0.6000\n",
      "Epoch 116/300\n",
      "120/120 [==============================] - 0s 162us/sample - loss: 0.6426 - accuracy: 0.6833 - val_loss: 0.7088 - val_accuracy: 0.6000\n",
      "Epoch 117/300\n",
      "120/120 [==============================] - 0s 143us/sample - loss: 0.6397 - accuracy: 0.6833 - val_loss: 0.7061 - val_accuracy: 0.6000\n",
      "Epoch 118/300\n",
      "120/120 [==============================] - 0s 144us/sample - loss: 0.6371 - accuracy: 0.6833 - val_loss: 0.7034 - val_accuracy: 0.6000\n",
      "Epoch 119/300\n",
      "120/120 [==============================] - 0s 190us/sample - loss: 0.6342 - accuracy: 0.6833 - val_loss: 0.7006 - val_accuracy: 0.6000\n",
      "Epoch 120/300\n",
      "120/120 [==============================] - 0s 146us/sample - loss: 0.6314 - accuracy: 0.6833 - val_loss: 0.6978 - val_accuracy: 0.6333\n",
      "Epoch 121/300\n",
      "120/120 [==============================] - 0s 140us/sample - loss: 0.6287 - accuracy: 0.6833 - val_loss: 0.6950 - val_accuracy: 0.6333\n",
      "Epoch 122/300\n",
      "120/120 [==============================] - 0s 168us/sample - loss: 0.6260 - accuracy: 0.6917 - val_loss: 0.6923 - val_accuracy: 0.6333\n",
      "Epoch 123/300\n",
      "120/120 [==============================] - 0s 174us/sample - loss: 0.6233 - accuracy: 0.6917 - val_loss: 0.6896 - val_accuracy: 0.6333\n",
      "Epoch 124/300\n",
      "120/120 [==============================] - 0s 172us/sample - loss: 0.6206 - accuracy: 0.6917 - val_loss: 0.6869 - val_accuracy: 0.6333\n",
      "Epoch 125/300\n",
      "120/120 [==============================] - 0s 167us/sample - loss: 0.6181 - accuracy: 0.6917 - val_loss: 0.6842 - val_accuracy: 0.6333\n",
      "Epoch 126/300\n",
      "120/120 [==============================] - 0s 143us/sample - loss: 0.6154 - accuracy: 0.7000 - val_loss: 0.6816 - val_accuracy: 0.6333\n",
      "Epoch 127/300\n",
      "120/120 [==============================] - 0s 141us/sample - loss: 0.6127 - accuracy: 0.7000 - val_loss: 0.6791 - val_accuracy: 0.6333\n",
      "Epoch 128/300\n",
      "120/120 [==============================] - 0s 151us/sample - loss: 0.6102 - accuracy: 0.7000 - val_loss: 0.6766 - val_accuracy: 0.6333\n",
      "Epoch 129/300\n",
      "120/120 [==============================] - 0s 181us/sample - loss: 0.6077 - accuracy: 0.7000 - val_loss: 0.6741 - val_accuracy: 0.6333\n",
      "Epoch 130/300\n",
      "120/120 [==============================] - 0s 172us/sample - loss: 0.6051 - accuracy: 0.7000 - val_loss: 0.6715 - val_accuracy: 0.6333\n",
      "Epoch 131/300\n",
      "120/120 [==============================] - 0s 175us/sample - loss: 0.6025 - accuracy: 0.7000 - val_loss: 0.6690 - val_accuracy: 0.6333\n",
      "Epoch 132/300\n",
      "120/120 [==============================] - 0s 134us/sample - loss: 0.6001 - accuracy: 0.7083 - val_loss: 0.6665 - val_accuracy: 0.6333\n",
      "Epoch 133/300\n",
      "120/120 [==============================] - 0s 149us/sample - loss: 0.5976 - accuracy: 0.7083 - val_loss: 0.6640 - val_accuracy: 0.6333\n",
      "Epoch 134/300\n",
      "120/120 [==============================] - 0s 133us/sample - loss: 0.5952 - accuracy: 0.7083 - val_loss: 0.6615 - val_accuracy: 0.6333\n",
      "Epoch 135/300\n",
      "120/120 [==============================] - 0s 153us/sample - loss: 0.5927 - accuracy: 0.7083 - val_loss: 0.6590 - val_accuracy: 0.6333\n",
      "Epoch 136/300\n",
      "120/120 [==============================] - 0s 162us/sample - loss: 0.5903 - accuracy: 0.7083 - val_loss: 0.6565 - val_accuracy: 0.6333\n",
      "Epoch 137/300\n",
      "120/120 [==============================] - 0s 164us/sample - loss: 0.5879 - accuracy: 0.7083 - val_loss: 0.6540 - val_accuracy: 0.6333\n",
      "Epoch 138/300\n",
      "120/120 [==============================] - 0s 152us/sample - loss: 0.5855 - accuracy: 0.7083 - val_loss: 0.6515 - val_accuracy: 0.6333\n",
      "Epoch 139/300\n",
      "120/120 [==============================] - 0s 160us/sample - loss: 0.5832 - accuracy: 0.7083 - val_loss: 0.6491 - val_accuracy: 0.6333\n",
      "Epoch 140/300\n",
      "120/120 [==============================] - 0s 169us/sample - loss: 0.5809 - accuracy: 0.7083 - val_loss: 0.6466 - val_accuracy: 0.6333\n",
      "Epoch 141/300\n",
      "120/120 [==============================] - 0s 172us/sample - loss: 0.5785 - accuracy: 0.7083 - val_loss: 0.6443 - val_accuracy: 0.6333\n",
      "Epoch 142/300\n",
      "120/120 [==============================] - 0s 147us/sample - loss: 0.5763 - accuracy: 0.7167 - val_loss: 0.6418 - val_accuracy: 0.6667\n",
      "Epoch 143/300\n",
      "120/120 [==============================] - 0s 131us/sample - loss: 0.5739 - accuracy: 0.7167 - val_loss: 0.6395 - val_accuracy: 0.6667\n",
      "Epoch 144/300\n",
      "120/120 [==============================] - 0s 147us/sample - loss: 0.5717 - accuracy: 0.7167 - val_loss: 0.6372 - val_accuracy: 0.6667\n",
      "Epoch 145/300\n",
      "120/120 [==============================] - 0s 144us/sample - loss: 0.5694 - accuracy: 0.7167 - val_loss: 0.6349 - val_accuracy: 0.6667\n",
      "Epoch 146/300\n",
      "120/120 [==============================] - 0s 126us/sample - loss: 0.5671 - accuracy: 0.7167 - val_loss: 0.6325 - val_accuracy: 0.6667\n",
      "Epoch 147/300\n",
      "120/120 [==============================] - 0s 160us/sample - loss: 0.5648 - accuracy: 0.7167 - val_loss: 0.6301 - val_accuracy: 0.6667\n",
      "Epoch 148/300\n",
      "120/120 [==============================] - 0s 141us/sample - loss: 0.5627 - accuracy: 0.7167 - val_loss: 0.6277 - val_accuracy: 0.6667\n",
      "Epoch 149/300\n",
      "120/120 [==============================] - 0s 129us/sample - loss: 0.5605 - accuracy: 0.7167 - val_loss: 0.6253 - val_accuracy: 0.6667\n",
      "Epoch 150/300\n",
      "120/120 [==============================] - 0s 150us/sample - loss: 0.5583 - accuracy: 0.7250 - val_loss: 0.6230 - val_accuracy: 0.6667\n",
      "Epoch 151/300\n",
      "120/120 [==============================] - 0s 182us/sample - loss: 0.5562 - accuracy: 0.7333 - val_loss: 0.6207 - val_accuracy: 0.6667\n",
      "Epoch 152/300\n",
      "120/120 [==============================] - 0s 147us/sample - loss: 0.5541 - accuracy: 0.7333 - val_loss: 0.6184 - val_accuracy: 0.6667\n",
      "Epoch 153/300\n",
      "120/120 [==============================] - 0s 181us/sample - loss: 0.5520 - accuracy: 0.7333 - val_loss: 0.6160 - val_accuracy: 0.6667\n",
      "Epoch 154/300\n",
      "120/120 [==============================] - 0s 240us/sample - loss: 0.5500 - accuracy: 0.7333 - val_loss: 0.6135 - val_accuracy: 0.6667\n",
      "Epoch 155/300\n",
      "120/120 [==============================] - 0s 146us/sample - loss: 0.5478 - accuracy: 0.7333 - val_loss: 0.6113 - val_accuracy: 0.6667\n",
      "Epoch 156/300\n",
      "120/120 [==============================] - 0s 140us/sample - loss: 0.5457 - accuracy: 0.7333 - val_loss: 0.6092 - val_accuracy: 0.6667\n",
      "Epoch 157/300\n",
      "120/120 [==============================] - 0s 155us/sample - loss: 0.5437 - accuracy: 0.7333 - val_loss: 0.6069 - val_accuracy: 0.7333\n",
      "Epoch 158/300\n",
      "120/120 [==============================] - 0s 115us/sample - loss: 0.5417 - accuracy: 0.7417 - val_loss: 0.6045 - val_accuracy: 0.7667\n",
      "Epoch 159/300\n",
      "120/120 [==============================] - 0s 133us/sample - loss: 0.5397 - accuracy: 0.7417 - val_loss: 0.6024 - val_accuracy: 0.7667\n",
      "Epoch 160/300\n",
      "120/120 [==============================] - 0s 240us/sample - loss: 0.5377 - accuracy: 0.7417 - val_loss: 0.6003 - val_accuracy: 0.7667\n",
      "Epoch 161/300\n",
      "120/120 [==============================] - 0s 148us/sample - loss: 0.5358 - accuracy: 0.7417 - val_loss: 0.5983 - val_accuracy: 0.7667\n",
      "Epoch 162/300\n",
      "120/120 [==============================] - 0s 123us/sample - loss: 0.5338 - accuracy: 0.7583 - val_loss: 0.5962 - val_accuracy: 0.7667\n",
      "Epoch 163/300\n",
      "120/120 [==============================] - 0s 148us/sample - loss: 0.5319 - accuracy: 0.7583 - val_loss: 0.5941 - val_accuracy: 0.7667\n",
      "Epoch 164/300\n",
      "120/120 [==============================] - 0s 144us/sample - loss: 0.5300 - accuracy: 0.7583 - val_loss: 0.5922 - val_accuracy: 0.7667\n",
      "Epoch 165/300\n",
      "120/120 [==============================] - 0s 161us/sample - loss: 0.5281 - accuracy: 0.7583 - val_loss: 0.5903 - val_accuracy: 0.7667\n",
      "Epoch 166/300\n"
     ]
    },
    {
     "name": "stdout",
     "output_type": "stream",
     "text": [
      "120/120 [==============================] - 0s 147us/sample - loss: 0.5262 - accuracy: 0.7583 - val_loss: 0.5883 - val_accuracy: 0.7667\n",
      "Epoch 167/300\n",
      "120/120 [==============================] - 0s 130us/sample - loss: 0.5243 - accuracy: 0.7583 - val_loss: 0.5864 - val_accuracy: 0.7667\n",
      "Epoch 168/300\n",
      "120/120 [==============================] - 0s 147us/sample - loss: 0.5226 - accuracy: 0.7583 - val_loss: 0.5843 - val_accuracy: 0.7667\n",
      "Epoch 169/300\n",
      "120/120 [==============================] - 0s 124us/sample - loss: 0.5208 - accuracy: 0.7583 - val_loss: 0.5826 - val_accuracy: 0.7667\n",
      "Epoch 170/300\n",
      "120/120 [==============================] - 0s 141us/sample - loss: 0.5189 - accuracy: 0.7583 - val_loss: 0.5805 - val_accuracy: 0.7667\n",
      "Epoch 171/300\n",
      "120/120 [==============================] - 0s 124us/sample - loss: 0.5171 - accuracy: 0.7750 - val_loss: 0.5787 - val_accuracy: 0.7667\n",
      "Epoch 172/300\n",
      "120/120 [==============================] - 0s 151us/sample - loss: 0.5153 - accuracy: 0.7833 - val_loss: 0.5767 - val_accuracy: 0.7667\n",
      "Epoch 173/300\n",
      "120/120 [==============================] - 0s 141us/sample - loss: 0.5135 - accuracy: 0.7833 - val_loss: 0.5748 - val_accuracy: 0.7667\n",
      "Epoch 174/300\n",
      "120/120 [==============================] - 0s 158us/sample - loss: 0.5118 - accuracy: 0.7917 - val_loss: 0.5729 - val_accuracy: 0.7667\n",
      "Epoch 175/300\n",
      "120/120 [==============================] - 0s 176us/sample - loss: 0.5101 - accuracy: 0.7917 - val_loss: 0.5712 - val_accuracy: 0.7667\n",
      "Epoch 176/300\n",
      "120/120 [==============================] - 0s 172us/sample - loss: 0.5083 - accuracy: 0.7917 - val_loss: 0.5692 - val_accuracy: 0.7667\n",
      "Epoch 177/300\n",
      "120/120 [==============================] - 0s 141us/sample - loss: 0.5066 - accuracy: 0.7917 - val_loss: 0.5673 - val_accuracy: 0.7667\n",
      "Epoch 178/300\n",
      "120/120 [==============================] - 0s 137us/sample - loss: 0.5049 - accuracy: 0.8000 - val_loss: 0.5657 - val_accuracy: 0.7667\n",
      "Epoch 179/300\n",
      "120/120 [==============================] - 0s 145us/sample - loss: 0.5032 - accuracy: 0.8000 - val_loss: 0.5639 - val_accuracy: 0.7667\n",
      "Epoch 180/300\n",
      "120/120 [==============================] - 0s 137us/sample - loss: 0.5015 - accuracy: 0.8000 - val_loss: 0.5621 - val_accuracy: 0.8000\n",
      "Epoch 181/300\n",
      "120/120 [==============================] - 0s 197us/sample - loss: 0.4999 - accuracy: 0.8000 - val_loss: 0.5602 - val_accuracy: 0.8000\n",
      "Epoch 182/300\n",
      "120/120 [==============================] - 0s 168us/sample - loss: 0.4982 - accuracy: 0.8000 - val_loss: 0.5583 - val_accuracy: 0.8000\n",
      "Epoch 183/300\n",
      "120/120 [==============================] - 0s 150us/sample - loss: 0.4966 - accuracy: 0.8000 - val_loss: 0.5567 - val_accuracy: 0.8000\n",
      "Epoch 184/300\n",
      "120/120 [==============================] - 0s 156us/sample - loss: 0.4950 - accuracy: 0.8000 - val_loss: 0.5549 - val_accuracy: 0.8000\n",
      "Epoch 185/300\n",
      "120/120 [==============================] - 0s 139us/sample - loss: 0.4934 - accuracy: 0.8083 - val_loss: 0.5531 - val_accuracy: 0.8000\n",
      "Epoch 186/300\n",
      "120/120 [==============================] - 0s 139us/sample - loss: 0.4918 - accuracy: 0.8167 - val_loss: 0.5515 - val_accuracy: 0.8000\n",
      "Epoch 187/300\n",
      "120/120 [==============================] - 0s 128us/sample - loss: 0.4902 - accuracy: 0.8167 - val_loss: 0.5498 - val_accuracy: 0.8000\n",
      "Epoch 188/300\n",
      "120/120 [==============================] - 0s 165us/sample - loss: 0.4887 - accuracy: 0.8167 - val_loss: 0.5479 - val_accuracy: 0.8000\n",
      "Epoch 189/300\n",
      "120/120 [==============================] - 0s 194us/sample - loss: 0.4871 - accuracy: 0.8167 - val_loss: 0.5463 - val_accuracy: 0.8000\n",
      "Epoch 190/300\n",
      "120/120 [==============================] - 0s 143us/sample - loss: 0.4856 - accuracy: 0.8167 - val_loss: 0.5446 - val_accuracy: 0.8000\n",
      "Epoch 191/300\n",
      "120/120 [==============================] - 0s 159us/sample - loss: 0.4840 - accuracy: 0.8167 - val_loss: 0.5428 - val_accuracy: 0.8000\n",
      "Epoch 192/300\n",
      "120/120 [==============================] - 0s 156us/sample - loss: 0.4825 - accuracy: 0.8167 - val_loss: 0.5411 - val_accuracy: 0.8000\n",
      "Epoch 193/300\n",
      "120/120 [==============================] - 0s 162us/sample - loss: 0.4810 - accuracy: 0.8167 - val_loss: 0.5393 - val_accuracy: 0.8000\n",
      "Epoch 194/300\n",
      "120/120 [==============================] - 0s 149us/sample - loss: 0.4794 - accuracy: 0.8250 - val_loss: 0.5376 - val_accuracy: 0.8000\n",
      "Epoch 195/300\n",
      "120/120 [==============================] - 0s 148us/sample - loss: 0.4779 - accuracy: 0.8250 - val_loss: 0.5359 - val_accuracy: 0.8000\n",
      "Epoch 196/300\n",
      "120/120 [==============================] - 0s 253us/sample - loss: 0.4764 - accuracy: 0.8250 - val_loss: 0.5342 - val_accuracy: 0.8000\n",
      "Epoch 197/300\n",
      "120/120 [==============================] - 0s 392us/sample - loss: 0.4750 - accuracy: 0.8250 - val_loss: 0.5327 - val_accuracy: 0.8000\n",
      "Epoch 198/300\n",
      "120/120 [==============================] - 0s 162us/sample - loss: 0.4735 - accuracy: 0.8250 - val_loss: 0.5311 - val_accuracy: 0.8000\n",
      "Epoch 199/300\n",
      "120/120 [==============================] - 0s 179us/sample - loss: 0.4720 - accuracy: 0.8250 - val_loss: 0.5295 - val_accuracy: 0.8000\n",
      "Epoch 200/300\n",
      "120/120 [==============================] - 0s 202us/sample - loss: 0.4707 - accuracy: 0.8250 - val_loss: 0.5276 - val_accuracy: 0.8000\n",
      "Epoch 201/300\n",
      "120/120 [==============================] - 0s 162us/sample - loss: 0.4692 - accuracy: 0.8250 - val_loss: 0.5259 - val_accuracy: 0.8000\n",
      "Epoch 202/300\n",
      "120/120 [==============================] - 0s 371us/sample - loss: 0.4676 - accuracy: 0.8250 - val_loss: 0.5243 - val_accuracy: 0.8000\n",
      "Epoch 203/300\n",
      "120/120 [==============================] - 0s 139us/sample - loss: 0.4662 - accuracy: 0.8333 - val_loss: 0.5227 - val_accuracy: 0.8000\n",
      "Epoch 204/300\n",
      "120/120 [==============================] - 0s 148us/sample - loss: 0.4648 - accuracy: 0.8333 - val_loss: 0.5210 - val_accuracy: 0.8000\n",
      "Epoch 205/300\n",
      "120/120 [==============================] - 0s 134us/sample - loss: 0.4634 - accuracy: 0.8333 - val_loss: 0.5194 - val_accuracy: 0.8000\n",
      "Epoch 206/300\n",
      "120/120 [==============================] - 0s 130us/sample - loss: 0.4620 - accuracy: 0.8333 - val_loss: 0.5179 - val_accuracy: 0.8000\n",
      "Epoch 207/300\n",
      "120/120 [==============================] - 0s 140us/sample - loss: 0.4606 - accuracy: 0.8333 - val_loss: 0.5164 - val_accuracy: 0.8000\n",
      "Epoch 208/300\n",
      "120/120 [==============================] - 0s 135us/sample - loss: 0.4592 - accuracy: 0.8333 - val_loss: 0.5150 - val_accuracy: 0.8000\n",
      "Epoch 209/300\n",
      "120/120 [==============================] - 0s 148us/sample - loss: 0.4579 - accuracy: 0.8333 - val_loss: 0.5135 - val_accuracy: 0.8000\n",
      "Epoch 210/300\n",
      "120/120 [==============================] - 0s 144us/sample - loss: 0.4565 - accuracy: 0.8333 - val_loss: 0.5116 - val_accuracy: 0.8000\n",
      "Epoch 211/300\n",
      "120/120 [==============================] - 0s 114us/sample - loss: 0.4552 - accuracy: 0.8417 - val_loss: 0.5098 - val_accuracy: 0.8000\n",
      "Epoch 212/300\n",
      "120/120 [==============================] - 0s 171us/sample - loss: 0.4538 - accuracy: 0.8417 - val_loss: 0.5079 - val_accuracy: 0.8000\n",
      "Epoch 213/300\n",
      "120/120 [==============================] - 0s 145us/sample - loss: 0.4524 - accuracy: 0.8583 - val_loss: 0.5062 - val_accuracy: 0.8333\n",
      "Epoch 214/300\n",
      "120/120 [==============================] - 0s 148us/sample - loss: 0.4510 - accuracy: 0.8583 - val_loss: 0.5048 - val_accuracy: 0.8333\n",
      "Epoch 215/300\n",
      "120/120 [==============================] - 0s 211us/sample - loss: 0.4497 - accuracy: 0.8583 - val_loss: 0.5032 - val_accuracy: 0.8333\n",
      "Epoch 216/300\n",
      "120/120 [==============================] - 0s 152us/sample - loss: 0.4484 - accuracy: 0.8583 - val_loss: 0.5019 - val_accuracy: 0.8333\n",
      "Epoch 217/300\n",
      "120/120 [==============================] - 0s 143us/sample - loss: 0.4471 - accuracy: 0.8583 - val_loss: 0.5002 - val_accuracy: 0.8333\n",
      "Epoch 218/300\n",
      "120/120 [==============================] - 0s 136us/sample - loss: 0.4457 - accuracy: 0.8583 - val_loss: 0.4988 - val_accuracy: 0.8333\n",
      "Epoch 219/300\n",
      "120/120 [==============================] - 0s 145us/sample - loss: 0.4444 - accuracy: 0.8583 - val_loss: 0.4973 - val_accuracy: 0.8333\n",
      "Epoch 220/300\n",
      "120/120 [==============================] - 0s 132us/sample - loss: 0.4431 - accuracy: 0.8583 - val_loss: 0.4957 - val_accuracy: 0.8333\n",
      "Epoch 221/300\n"
     ]
    },
    {
     "name": "stdout",
     "output_type": "stream",
     "text": [
      "120/120 [==============================] - 0s 141us/sample - loss: 0.4418 - accuracy: 0.8583 - val_loss: 0.4941 - val_accuracy: 0.8333\n",
      "Epoch 222/300\n",
      "120/120 [==============================] - 0s 188us/sample - loss: 0.4405 - accuracy: 0.8583 - val_loss: 0.4926 - val_accuracy: 0.8333\n",
      "Epoch 223/300\n",
      "120/120 [==============================] - 0s 128us/sample - loss: 0.4393 - accuracy: 0.8583 - val_loss: 0.4911 - val_accuracy: 0.8333\n",
      "Epoch 224/300\n",
      "120/120 [==============================] - 0s 142us/sample - loss: 0.4380 - accuracy: 0.8667 - val_loss: 0.4897 - val_accuracy: 0.8333\n",
      "Epoch 225/300\n",
      "120/120 [==============================] - 0s 155us/sample - loss: 0.4367 - accuracy: 0.8750 - val_loss: 0.4882 - val_accuracy: 0.8333\n",
      "Epoch 226/300\n",
      "120/120 [==============================] - 0s 130us/sample - loss: 0.4355 - accuracy: 0.8750 - val_loss: 0.4867 - val_accuracy: 0.8333\n",
      "Epoch 227/300\n",
      "120/120 [==============================] - 0s 147us/sample - loss: 0.4342 - accuracy: 0.8750 - val_loss: 0.4853 - val_accuracy: 0.8333\n",
      "Epoch 228/300\n",
      "120/120 [==============================] - 0s 148us/sample - loss: 0.4330 - accuracy: 0.8750 - val_loss: 0.4840 - val_accuracy: 0.8333\n",
      "Epoch 229/300\n",
      "120/120 [==============================] - 0s 144us/sample - loss: 0.4318 - accuracy: 0.8833 - val_loss: 0.4825 - val_accuracy: 0.8333\n",
      "Epoch 230/300\n",
      "120/120 [==============================] - 0s 124us/sample - loss: 0.4305 - accuracy: 0.8917 - val_loss: 0.4812 - val_accuracy: 0.8333\n",
      "Epoch 231/300\n",
      "120/120 [==============================] - 0s 144us/sample - loss: 0.4293 - accuracy: 0.8917 - val_loss: 0.4799 - val_accuracy: 0.8333\n",
      "Epoch 232/300\n",
      "120/120 [==============================] - 0s 129us/sample - loss: 0.4281 - accuracy: 0.8917 - val_loss: 0.4785 - val_accuracy: 0.8333\n",
      "Epoch 233/300\n",
      "120/120 [==============================] - 0s 168us/sample - loss: 0.4268 - accuracy: 0.8917 - val_loss: 0.4770 - val_accuracy: 0.8333\n",
      "Epoch 234/300\n",
      "120/120 [==============================] - 0s 174us/sample - loss: 0.4256 - accuracy: 0.8917 - val_loss: 0.4757 - val_accuracy: 0.8333\n",
      "Epoch 235/300\n",
      "120/120 [==============================] - 0s 147us/sample - loss: 0.4244 - accuracy: 0.8917 - val_loss: 0.4744 - val_accuracy: 0.8333\n",
      "Epoch 236/300\n",
      "120/120 [==============================] - 0s 157us/sample - loss: 0.4233 - accuracy: 0.8917 - val_loss: 0.4732 - val_accuracy: 0.8333\n",
      "Epoch 237/300\n",
      "120/120 [==============================] - 0s 165us/sample - loss: 0.4221 - accuracy: 0.8917 - val_loss: 0.4718 - val_accuracy: 0.8333\n",
      "Epoch 238/300\n",
      "120/120 [==============================] - 0s 153us/sample - loss: 0.4209 - accuracy: 0.8917 - val_loss: 0.4705 - val_accuracy: 0.8333\n",
      "Epoch 239/300\n",
      "120/120 [==============================] - 0s 163us/sample - loss: 0.4197 - accuracy: 0.8917 - val_loss: 0.4690 - val_accuracy: 0.8667\n",
      "Epoch 240/300\n",
      "120/120 [==============================] - 0s 199us/sample - loss: 0.4185 - accuracy: 0.8917 - val_loss: 0.4677 - val_accuracy: 0.8667\n",
      "Epoch 241/300\n",
      "120/120 [==============================] - 0s 125us/sample - loss: 0.4172 - accuracy: 0.8917 - val_loss: 0.4663 - val_accuracy: 0.8667\n",
      "Epoch 242/300\n",
      "120/120 [==============================] - 0s 163us/sample - loss: 0.4161 - accuracy: 0.8917 - val_loss: 0.4650 - val_accuracy: 0.8667\n",
      "Epoch 243/300\n",
      "120/120 [==============================] - 0s 148us/sample - loss: 0.4149 - accuracy: 0.9000 - val_loss: 0.4634 - val_accuracy: 0.8667\n",
      "Epoch 244/300\n",
      "120/120 [==============================] - 0s 134us/sample - loss: 0.4137 - accuracy: 0.9000 - val_loss: 0.4620 - val_accuracy: 0.8667\n",
      "Epoch 245/300\n",
      "120/120 [==============================] - 0s 180us/sample - loss: 0.4126 - accuracy: 0.9000 - val_loss: 0.4605 - val_accuracy: 0.8667\n",
      "Epoch 246/300\n",
      "120/120 [==============================] - 0s 158us/sample - loss: 0.4114 - accuracy: 0.9000 - val_loss: 0.4592 - val_accuracy: 0.8667\n",
      "Epoch 247/300\n",
      "120/120 [==============================] - 0s 167us/sample - loss: 0.4104 - accuracy: 0.9000 - val_loss: 0.4577 - val_accuracy: 0.8667\n",
      "Epoch 248/300\n",
      "120/120 [==============================] - 0s 162us/sample - loss: 0.4091 - accuracy: 0.9000 - val_loss: 0.4566 - val_accuracy: 0.8667\n",
      "Epoch 249/300\n",
      "120/120 [==============================] - 0s 124us/sample - loss: 0.4079 - accuracy: 0.9000 - val_loss: 0.4552 - val_accuracy: 0.8667\n",
      "Epoch 250/300\n",
      "120/120 [==============================] - 0s 201us/sample - loss: 0.4068 - accuracy: 0.9000 - val_loss: 0.4539 - val_accuracy: 0.8667\n",
      "Epoch 251/300\n",
      "120/120 [==============================] - 0s 140us/sample - loss: 0.4056 - accuracy: 0.9000 - val_loss: 0.4526 - val_accuracy: 0.8667\n",
      "Epoch 252/300\n",
      "120/120 [==============================] - 0s 154us/sample - loss: 0.4045 - accuracy: 0.9083 - val_loss: 0.4512 - val_accuracy: 0.8667\n",
      "Epoch 253/300\n",
      "120/120 [==============================] - 0s 154us/sample - loss: 0.4034 - accuracy: 0.9083 - val_loss: 0.4499 - val_accuracy: 0.8667\n",
      "Epoch 254/300\n",
      "120/120 [==============================] - 0s 142us/sample - loss: 0.4022 - accuracy: 0.9083 - val_loss: 0.4487 - val_accuracy: 0.8667\n",
      "Epoch 255/300\n",
      "120/120 [==============================] - 0s 190us/sample - loss: 0.4011 - accuracy: 0.9083 - val_loss: 0.4474 - val_accuracy: 0.8667\n",
      "Epoch 256/300\n",
      "120/120 [==============================] - 0s 143us/sample - loss: 0.4000 - accuracy: 0.9083 - val_loss: 0.4461 - val_accuracy: 0.8667\n",
      "Epoch 257/300\n",
      "120/120 [==============================] - 0s 153us/sample - loss: 0.3988 - accuracy: 0.9083 - val_loss: 0.4448 - val_accuracy: 0.8667\n",
      "Epoch 258/300\n",
      "120/120 [==============================] - 0s 162us/sample - loss: 0.3977 - accuracy: 0.9083 - val_loss: 0.4434 - val_accuracy: 0.8667\n",
      "Epoch 259/300\n",
      "120/120 [==============================] - 0s 179us/sample - loss: 0.3966 - accuracy: 0.9083 - val_loss: 0.4420 - val_accuracy: 0.9000\n",
      "Epoch 260/300\n",
      "120/120 [==============================] - 0s 143us/sample - loss: 0.3954 - accuracy: 0.9083 - val_loss: 0.4407 - val_accuracy: 0.9000\n",
      "Epoch 261/300\n",
      "120/120 [==============================] - 0s 159us/sample - loss: 0.3944 - accuracy: 0.9083 - val_loss: 0.4393 - val_accuracy: 0.9000\n",
      "Epoch 262/300\n",
      "120/120 [==============================] - 0s 148us/sample - loss: 0.3932 - accuracy: 0.9167 - val_loss: 0.4380 - val_accuracy: 0.9000\n",
      "Epoch 263/300\n",
      "120/120 [==============================] - 0s 208us/sample - loss: 0.3921 - accuracy: 0.9250 - val_loss: 0.4366 - val_accuracy: 0.9000\n",
      "Epoch 264/300\n",
      "120/120 [==============================] - 0s 142us/sample - loss: 0.3910 - accuracy: 0.9250 - val_loss: 0.4351 - val_accuracy: 0.9333\n",
      "Epoch 265/300\n",
      "120/120 [==============================] - 0s 165us/sample - loss: 0.3899 - accuracy: 0.9250 - val_loss: 0.4338 - val_accuracy: 0.9333\n",
      "Epoch 266/300\n",
      "120/120 [==============================] - 0s 228us/sample - loss: 0.3888 - accuracy: 0.9250 - val_loss: 0.4327 - val_accuracy: 0.9333\n",
      "Epoch 267/300\n",
      "120/120 [==============================] - 0s 147us/sample - loss: 0.3876 - accuracy: 0.9250 - val_loss: 0.4314 - val_accuracy: 0.9333\n",
      "Epoch 268/300\n",
      "120/120 [==============================] - 0s 161us/sample - loss: 0.3865 - accuracy: 0.9250 - val_loss: 0.4302 - val_accuracy: 0.9333\n",
      "Epoch 269/300\n",
      "120/120 [==============================] - 0s 136us/sample - loss: 0.3855 - accuracy: 0.9250 - val_loss: 0.4288 - val_accuracy: 0.9333\n",
      "Epoch 270/300\n",
      "120/120 [==============================] - 0s 151us/sample - loss: 0.3843 - accuracy: 0.9250 - val_loss: 0.4276 - val_accuracy: 0.9333\n",
      "Epoch 271/300\n",
      "120/120 [==============================] - 0s 139us/sample - loss: 0.3833 - accuracy: 0.9250 - val_loss: 0.4266 - val_accuracy: 0.9333\n",
      "Epoch 272/300\n",
      "120/120 [==============================] - 0s 160us/sample - loss: 0.3822 - accuracy: 0.9250 - val_loss: 0.4252 - val_accuracy: 0.9667\n",
      "Epoch 273/300\n",
      "120/120 [==============================] - 0s 153us/sample - loss: 0.3811 - accuracy: 0.9333 - val_loss: 0.4240 - val_accuracy: 0.9667\n",
      "Epoch 274/300\n",
      "120/120 [==============================] - 0s 160us/sample - loss: 0.3800 - accuracy: 0.9333 - val_loss: 0.4228 - val_accuracy: 0.9667\n",
      "Epoch 275/300\n",
      "120/120 [==============================] - 0s 178us/sample - loss: 0.3790 - accuracy: 0.9333 - val_loss: 0.4216 - val_accuracy: 0.9667\n",
      "Epoch 276/300\n"
     ]
    },
    {
     "name": "stdout",
     "output_type": "stream",
     "text": [
      "120/120 [==============================] - 0s 124us/sample - loss: 0.3779 - accuracy: 0.9333 - val_loss: 0.4204 - val_accuracy: 0.9667\n",
      "Epoch 277/300\n",
      "120/120 [==============================] - 0s 187us/sample - loss: 0.3768 - accuracy: 0.9333 - val_loss: 0.4192 - val_accuracy: 0.9667\n",
      "Epoch 278/300\n",
      "120/120 [==============================] - 0s 162us/sample - loss: 0.3757 - accuracy: 0.9333 - val_loss: 0.4179 - val_accuracy: 0.9667\n",
      "Epoch 279/300\n",
      "120/120 [==============================] - 0s 203us/sample - loss: 0.3747 - accuracy: 0.9333 - val_loss: 0.4167 - val_accuracy: 0.9667\n",
      "Epoch 280/300\n",
      "120/120 [==============================] - 0s 137us/sample - loss: 0.3736 - accuracy: 0.9333 - val_loss: 0.4153 - val_accuracy: 0.9667\n",
      "Epoch 281/300\n",
      "120/120 [==============================] - 0s 207us/sample - loss: 0.3726 - accuracy: 0.9333 - val_loss: 0.4141 - val_accuracy: 0.9667\n",
      "Epoch 282/300\n",
      "120/120 [==============================] - 0s 147us/sample - loss: 0.3716 - accuracy: 0.9333 - val_loss: 0.4129 - val_accuracy: 0.9667\n",
      "Epoch 283/300\n",
      "120/120 [==============================] - 0s 182us/sample - loss: 0.3705 - accuracy: 0.9333 - val_loss: 0.4117 - val_accuracy: 0.9667\n",
      "Epoch 284/300\n",
      "120/120 [==============================] - 0s 153us/sample - loss: 0.3695 - accuracy: 0.9333 - val_loss: 0.4106 - val_accuracy: 0.9667\n",
      "Epoch 285/300\n",
      "120/120 [==============================] - 0s 126us/sample - loss: 0.3684 - accuracy: 0.9333 - val_loss: 0.4093 - val_accuracy: 0.9667\n",
      "Epoch 286/300\n",
      "120/120 [==============================] - 0s 147us/sample - loss: 0.3675 - accuracy: 0.9333 - val_loss: 0.4082 - val_accuracy: 0.9667\n",
      "Epoch 287/300\n",
      "120/120 [==============================] - 0s 152us/sample - loss: 0.3663 - accuracy: 0.9333 - val_loss: 0.4069 - val_accuracy: 0.9667\n",
      "Epoch 288/300\n",
      "120/120 [==============================] - 0s 144us/sample - loss: 0.3653 - accuracy: 0.9333 - val_loss: 0.4057 - val_accuracy: 0.9667\n",
      "Epoch 289/300\n",
      "120/120 [==============================] - 0s 198us/sample - loss: 0.3642 - accuracy: 0.9333 - val_loss: 0.4044 - val_accuracy: 0.9667\n",
      "Epoch 290/300\n",
      "120/120 [==============================] - 0s 145us/sample - loss: 0.3632 - accuracy: 0.9333 - val_loss: 0.4030 - val_accuracy: 0.9667\n",
      "Epoch 291/300\n",
      "120/120 [==============================] - 0s 144us/sample - loss: 0.3621 - accuracy: 0.9333 - val_loss: 0.4018 - val_accuracy: 0.9667\n",
      "Epoch 292/300\n",
      "120/120 [==============================] - 0s 163us/sample - loss: 0.3611 - accuracy: 0.9250 - val_loss: 0.4004 - val_accuracy: 0.9667\n",
      "Epoch 293/300\n",
      "120/120 [==============================] - 0s 147us/sample - loss: 0.3599 - accuracy: 0.9250 - val_loss: 0.3994 - val_accuracy: 0.9667\n",
      "Epoch 294/300\n",
      "120/120 [==============================] - 0s 172us/sample - loss: 0.3588 - accuracy: 0.9250 - val_loss: 0.3984 - val_accuracy: 0.9667\n",
      "Epoch 295/300\n",
      "120/120 [==============================] - 0s 159us/sample - loss: 0.3577 - accuracy: 0.9250 - val_loss: 0.3974 - val_accuracy: 0.9667\n",
      "Epoch 296/300\n",
      "120/120 [==============================] - 0s 193us/sample - loss: 0.3565 - accuracy: 0.9333 - val_loss: 0.3963 - val_accuracy: 0.9667\n",
      "Epoch 297/300\n",
      "120/120 [==============================] - 0s 209us/sample - loss: 0.3554 - accuracy: 0.9333 - val_loss: 0.3951 - val_accuracy: 0.9667\n",
      "Epoch 298/300\n",
      "120/120 [==============================] - 0s 170us/sample - loss: 0.3542 - accuracy: 0.9333 - val_loss: 0.3941 - val_accuracy: 0.9667\n",
      "Epoch 299/300\n",
      "120/120 [==============================] - 0s 333us/sample - loss: 0.3529 - accuracy: 0.9333 - val_loss: 0.3930 - val_accuracy: 0.9667\n",
      "Epoch 300/300\n",
      "120/120 [==============================] - 0s 275us/sample - loss: 0.3518 - accuracy: 0.9333 - val_loss: 0.3917 - val_accuracy: 0.9667\n"
     ]
    },
    {
     "data": {
      "text/plain": [
       "<tensorflow.python.keras.callbacks.History at 0x7f629c308e90>"
      ]
     },
     "execution_count": 38,
     "metadata": {},
     "output_type": "execute_result"
    }
   ],
   "source": [
    "model.fit(x=scaled_X_train, \n",
    "          y=y_train, \n",
    "          epochs=300,\n",
    "          validation_data=(scaled_X_test, y_test), verbose=1 ,callbacks=[early_stop]         )"
   ]
  },
  {
   "cell_type": "markdown",
   "metadata": {},
   "source": [
    "## Model Evaluation"
   ]
  },
  {
   "cell_type": "code",
   "execution_count": 39,
   "metadata": {
    "ExecuteTime": {
     "end_time": "2020-05-06T20:16:35.494469Z",
     "start_time": "2020-05-06T20:16:35.479222Z"
    }
   },
   "outputs": [],
   "source": [
    "metrics = pd.DataFrame(model.history.history)"
   ]
  },
  {
   "cell_type": "code",
   "execution_count": 40,
   "metadata": {
    "ExecuteTime": {
     "end_time": "2020-05-06T20:16:35.985404Z",
     "start_time": "2020-05-06T20:16:35.965742Z"
    }
   },
   "outputs": [
    {
     "data": {
      "text/html": [
       "<div>\n",
       "<style scoped>\n",
       "    .dataframe tbody tr th:only-of-type {\n",
       "        vertical-align: middle;\n",
       "    }\n",
       "\n",
       "    .dataframe tbody tr th {\n",
       "        vertical-align: top;\n",
       "    }\n",
       "\n",
       "    .dataframe thead th {\n",
       "        text-align: right;\n",
       "    }\n",
       "</style>\n",
       "<table border=\"1\" class=\"dataframe\">\n",
       "  <thead>\n",
       "    <tr style=\"text-align: right;\">\n",
       "      <th></th>\n",
       "      <th>loss</th>\n",
       "      <th>accuracy</th>\n",
       "      <th>val_loss</th>\n",
       "      <th>val_accuracy</th>\n",
       "    </tr>\n",
       "  </thead>\n",
       "  <tbody>\n",
       "    <tr>\n",
       "      <th>0</th>\n",
       "      <td>1.132167</td>\n",
       "      <td>0.316667</td>\n",
       "      <td>1.147080</td>\n",
       "      <td>0.400000</td>\n",
       "    </tr>\n",
       "    <tr>\n",
       "      <th>1</th>\n",
       "      <td>1.125397</td>\n",
       "      <td>0.316667</td>\n",
       "      <td>1.141181</td>\n",
       "      <td>0.400000</td>\n",
       "    </tr>\n",
       "    <tr>\n",
       "      <th>2</th>\n",
       "      <td>1.118247</td>\n",
       "      <td>0.316667</td>\n",
       "      <td>1.135128</td>\n",
       "      <td>0.400000</td>\n",
       "    </tr>\n",
       "    <tr>\n",
       "      <th>3</th>\n",
       "      <td>1.111199</td>\n",
       "      <td>0.316667</td>\n",
       "      <td>1.129140</td>\n",
       "      <td>0.400000</td>\n",
       "    </tr>\n",
       "    <tr>\n",
       "      <th>4</th>\n",
       "      <td>1.104251</td>\n",
       "      <td>0.316667</td>\n",
       "      <td>1.123248</td>\n",
       "      <td>0.400000</td>\n",
       "    </tr>\n",
       "    <tr>\n",
       "      <th>...</th>\n",
       "      <td>...</td>\n",
       "      <td>...</td>\n",
       "      <td>...</td>\n",
       "      <td>...</td>\n",
       "    </tr>\n",
       "    <tr>\n",
       "      <th>295</th>\n",
       "      <td>0.356545</td>\n",
       "      <td>0.933333</td>\n",
       "      <td>0.396323</td>\n",
       "      <td>0.966667</td>\n",
       "    </tr>\n",
       "    <tr>\n",
       "      <th>296</th>\n",
       "      <td>0.355394</td>\n",
       "      <td>0.933333</td>\n",
       "      <td>0.395117</td>\n",
       "      <td>0.966667</td>\n",
       "    </tr>\n",
       "    <tr>\n",
       "      <th>297</th>\n",
       "      <td>0.354183</td>\n",
       "      <td>0.933333</td>\n",
       "      <td>0.394117</td>\n",
       "      <td>0.966667</td>\n",
       "    </tr>\n",
       "    <tr>\n",
       "      <th>298</th>\n",
       "      <td>0.352941</td>\n",
       "      <td>0.933333</td>\n",
       "      <td>0.392983</td>\n",
       "      <td>0.966667</td>\n",
       "    </tr>\n",
       "    <tr>\n",
       "      <th>299</th>\n",
       "      <td>0.351828</td>\n",
       "      <td>0.933333</td>\n",
       "      <td>0.391725</td>\n",
       "      <td>0.966667</td>\n",
       "    </tr>\n",
       "  </tbody>\n",
       "</table>\n",
       "<p>300 rows × 4 columns</p>\n",
       "</div>"
      ],
      "text/plain": [
       "         loss  accuracy  val_loss  val_accuracy\n",
       "0    1.132167  0.316667  1.147080      0.400000\n",
       "1    1.125397  0.316667  1.141181      0.400000\n",
       "2    1.118247  0.316667  1.135128      0.400000\n",
       "3    1.111199  0.316667  1.129140      0.400000\n",
       "4    1.104251  0.316667  1.123248      0.400000\n",
       "..        ...       ...       ...           ...\n",
       "295  0.356545  0.933333  0.396323      0.966667\n",
       "296  0.355394  0.933333  0.395117      0.966667\n",
       "297  0.354183  0.933333  0.394117      0.966667\n",
       "298  0.352941  0.933333  0.392983      0.966667\n",
       "299  0.351828  0.933333  0.391725      0.966667\n",
       "\n",
       "[300 rows x 4 columns]"
      ]
     },
     "execution_count": 40,
     "metadata": {},
     "output_type": "execute_result"
    }
   ],
   "source": [
    "metrics"
   ]
  },
  {
   "cell_type": "code",
   "execution_count": 41,
   "metadata": {
    "ExecuteTime": {
     "end_time": "2020-05-06T20:16:48.438849Z",
     "start_time": "2020-05-06T20:16:47.971981Z"
    }
   },
   "outputs": [
    {
     "data": {
      "text/plain": [
       "<matplotlib.axes._subplots.AxesSubplot at 0x7f62841f2250>"
      ]
     },
     "execution_count": 41,
     "metadata": {},
     "output_type": "execute_result"
    },
    {
     "data": {
      "image/png": "[encoded data removed]",
      "text/plain": [
       "<Figure size 432x288 with 1 Axes>"
      ]
     },
     "metadata": {
      "needs_background": "light"
     },
     "output_type": "display_data"
    }
   ],
   "source": [
    "metrics[['loss','val_loss']].plot()"
   ]
  },
  {
   "cell_type": "code",
   "execution_count": 42,
   "metadata": {
    "ExecuteTime": {
     "end_time": "2020-05-06T20:16:58.266237Z",
     "start_time": "2020-05-06T20:16:58.046283Z"
    }
   },
   "outputs": [
    {
     "data": {
      "text/plain": [
       "<matplotlib.axes._subplots.AxesSubplot at 0x7f625d551450>"
      ]
     },
     "execution_count": 42,
     "metadata": {},
     "output_type": "execute_result"
    },
    {
     "data": {
      "image/png": "[encoded data removed]",
      "text/plain": [
       "<Figure size 432x288 with 1 Axes>"
      ]
     },
     "metadata": {
      "needs_background": "light"
     },
     "output_type": "display_data"
    }
   ],
   "source": [
    "metrics[['accuracy','val_accuracy']].plot()"
   ]
  },
  {
   "cell_type": "code",
   "execution_count": 43,
   "metadata": {
    "ExecuteTime": {
     "end_time": "2020-05-06T20:17:08.412976Z",
     "start_time": "2020-05-06T20:17:08.363608Z"
    }
   },
   "outputs": [
    {
     "data": {
      "text/plain": [
       "[0.3917251527309418, 0.96666664]"
      ]
     },
     "execution_count": 43,
     "metadata": {},
     "output_type": "execute_result"
    }
   ],
   "source": [
    "model.evaluate(scaled_X_test,y_test,verbose=0)"
   ]
  },
  {
   "cell_type": "markdown",
   "metadata": {},
   "source": [
    "## Ready Model for Deployment"
   ]
  },
  {
   "cell_type": "code",
   "execution_count": 44,
   "metadata": {
    "ExecuteTime": {
     "end_time": "2020-05-06T20:17:38.095918Z",
     "start_time": "2020-05-06T20:17:38.075393Z"
    }
   },
   "outputs": [],
   "source": [
    "epochs = len(metrics)"
   ]
  },
  {
   "cell_type": "code",
   "execution_count": 45,
   "metadata": {
    "ExecuteTime": {
     "end_time": "2020-05-06T20:17:39.178056Z",
     "start_time": "2020-05-06T20:17:39.167140Z"
    }
   },
   "outputs": [],
   "source": [
    "scaled_X = scaler.fit_transform(X)"
   ]
  },
  {
   "cell_type": "code",
   "execution_count": 46,
   "metadata": {
    "ExecuteTime": {
     "end_time": "2020-05-06T20:18:50.057459Z",
     "start_time": "2020-05-06T20:18:50.040032Z"
    }
   },
   "outputs": [],
   "source": [
    "model = Sequential()\n",
    "model.add(Dense(units=4,activation='relu'))\n",
    "\n",
    "# Last layer for multi-class classification of 3 species\n",
    "model.add(Dense(units=3,activation='softmax'))\n",
    "\n",
    "model.compile(optimizer='adam',\n",
    "              loss='categorical_crossentropy',metrics=['accuracy'])"
   ]
  },
  {
   "cell_type": "code",
   "execution_count": 49,
   "metadata": {
    "ExecuteTime": {
     "end_time": "2020-05-06T20:19:43.876267Z",
     "start_time": "2020-05-06T20:19:38.686066Z"
    }
   },
   "outputs": [
    {
     "name": "stdout",
     "output_type": "stream",
     "text": [
      "Train on 150 samples\n",
      "Epoch 1/300\n",
      "150/150 [==============================] - 0s 160us/sample - loss: 0.2491 - accuracy: 0.9467\n",
      "Epoch 2/300\n",
      "150/150 [==============================] - 0s 103us/sample - loss: 0.2485 - accuracy: 0.9467\n",
      "Epoch 3/300\n",
      "150/150 [==============================] - 0s 74us/sample - loss: 0.2482 - accuracy: 0.9533\n",
      "Epoch 4/300\n",
      "150/150 [==============================] - 0s 79us/sample - loss: 0.2477 - accuracy: 0.9533\n",
      "Epoch 5/300\n",
      "150/150 [==============================] - 0s 96us/sample - loss: 0.2473 - accuracy: 0.9467\n",
      "Epoch 6/300\n",
      "150/150 [==============================] - 0s 113us/sample - loss: 0.2467 - accuracy: 0.9467\n",
      "Epoch 7/300\n",
      "150/150 [==============================] - 0s 84us/sample - loss: 0.2462 - accuracy: 0.9533\n",
      "Epoch 8/300\n",
      "150/150 [==============================] - 0s 103us/sample - loss: 0.2457 - accuracy: 0.9533\n",
      "Epoch 9/300\n",
      "150/150 [==============================] - 0s 107us/sample - loss: 0.2452 - accuracy: 0.9533\n",
      "Epoch 10/300\n",
      "150/150 [==============================] - 0s 128us/sample - loss: 0.2448 - accuracy: 0.9533\n",
      "Epoch 11/300\n",
      "150/150 [==============================] - 0s 87us/sample - loss: 0.2442 - accuracy: 0.9533\n",
      "Epoch 12/300\n",
      "150/150 [==============================] - 0s 128us/sample - loss: 0.2438 - accuracy: 0.9533\n",
      "Epoch 13/300\n",
      "150/150 [==============================] - 0s 80us/sample - loss: 0.2432 - accuracy: 0.9533\n",
      "Epoch 14/300\n",
      "150/150 [==============================] - 0s 111us/sample - loss: 0.2427 - accuracy: 0.9533\n",
      "Epoch 15/300\n",
      "150/150 [==============================] - 0s 99us/sample - loss: 0.2422 - accuracy: 0.9533\n",
      "Epoch 16/300\n",
      "150/150 [==============================] - 0s 102us/sample - loss: 0.2417 - accuracy: 0.9533\n",
      "Epoch 17/300\n",
      "150/150 [==============================] - 0s 113us/sample - loss: 0.2413 - accuracy: 0.9533\n",
      "Epoch 18/300\n",
      "150/150 [==============================] - 0s 107us/sample - loss: 0.2408 - accuracy: 0.9533\n",
      "Epoch 19/300\n",
      "150/150 [==============================] - 0s 139us/sample - loss: 0.2403 - accuracy: 0.9533\n",
      "Epoch 20/300\n",
      "150/150 [==============================] - 0s 73us/sample - loss: 0.2398 - accuracy: 0.9533\n",
      "Epoch 21/300\n",
      "150/150 [==============================] - 0s 104us/sample - loss: 0.2393 - accuracy: 0.9533\n",
      "Epoch 22/300\n",
      "150/150 [==============================] - 0s 80us/sample - loss: 0.2389 - accuracy: 0.9533\n",
      "Epoch 23/300\n",
      "150/150 [==============================] - 0s 127us/sample - loss: 0.2385 - accuracy: 0.9533\n",
      "Epoch 24/300\n",
      "150/150 [==============================] - 0s 63us/sample - loss: 0.2380 - accuracy: 0.9533\n",
      "Epoch 25/300\n",
      "150/150 [==============================] - 0s 170us/sample - loss: 0.2374 - accuracy: 0.9533\n",
      "Epoch 26/300\n",
      "150/150 [==============================] - 0s 96us/sample - loss: 0.2369 - accuracy: 0.9533\n",
      "Epoch 27/300\n",
      "150/150 [==============================] - 0s 105us/sample - loss: 0.2364 - accuracy: 0.9533\n",
      "Epoch 28/300\n",
      "150/150 [==============================] - 0s 77us/sample - loss: 0.2361 - accuracy: 0.9533\n",
      "Epoch 29/300\n",
      "150/150 [==============================] - 0s 144us/sample - loss: 0.2355 - accuracy: 0.9533\n",
      "Epoch 30/300\n",
      "150/150 [==============================] - 0s 110us/sample - loss: 0.2351 - accuracy: 0.9533\n",
      "Epoch 31/300\n",
      "150/150 [==============================] - 0s 105us/sample - loss: 0.2345 - accuracy: 0.9533\n",
      "Epoch 32/300\n",
      "150/150 [==============================] - 0s 208us/sample - loss: 0.2340 - accuracy: 0.9533\n",
      "Epoch 33/300\n",
      "150/150 [==============================] - 0s 143us/sample - loss: 0.2336 - accuracy: 0.9533\n",
      "Epoch 34/300\n",
      "150/150 [==============================] - 0s 128us/sample - loss: 0.2332 - accuracy: 0.9533\n",
      "Epoch 35/300\n",
      "150/150 [==============================] - 0s 96us/sample - loss: 0.2326 - accuracy: 0.9533\n",
      "Epoch 36/300\n",
      "150/150 [==============================] - 0s 92us/sample - loss: 0.2321 - accuracy: 0.9467\n",
      "Epoch 37/300\n",
      "150/150 [==============================] - 0s 114us/sample - loss: 0.2316 - accuracy: 0.9467\n",
      "Epoch 38/300\n",
      "150/150 [==============================] - 0s 98us/sample - loss: 0.2312 - accuracy: 0.9467\n",
      "Epoch 39/300\n",
      "150/150 [==============================] - 0s 80us/sample - loss: 0.2307 - accuracy: 0.9467\n",
      "Epoch 40/300\n",
      "150/150 [==============================] - 0s 108us/sample - loss: 0.2303 - accuracy: 0.9467\n",
      "Epoch 41/300\n",
      "150/150 [==============================] - 0s 99us/sample - loss: 0.2300 - accuracy: 0.9467\n",
      "Epoch 42/300\n",
      "150/150 [==============================] - 0s 121us/sample - loss: 0.2293 - accuracy: 0.9533\n",
      "Epoch 43/300\n",
      "150/150 [==============================] - 0s 78us/sample - loss: 0.2289 - accuracy: 0.9533\n",
      "Epoch 44/300\n",
      "150/150 [==============================] - 0s 117us/sample - loss: 0.2284 - accuracy: 0.9467\n",
      "Epoch 45/300\n",
      "150/150 [==============================] - 0s 111us/sample - loss: 0.2280 - accuracy: 0.9467\n",
      "Epoch 46/300\n",
      "150/150 [==============================] - 0s 119us/sample - loss: 0.2275 - accuracy: 0.9467\n",
      "Epoch 47/300\n",
      "150/150 [==============================] - 0s 97us/sample - loss: 0.2270 - accuracy: 0.9467\n",
      "Epoch 48/300\n",
      "150/150 [==============================] - 0s 120us/sample - loss: 0.2265 - accuracy: 0.9467\n",
      "Epoch 49/300\n",
      "150/150 [==============================] - 0s 72us/sample - loss: 0.2262 - accuracy: 0.9467\n",
      "Epoch 50/300\n",
      "150/150 [==============================] - 0s 138us/sample - loss: 0.2256 - accuracy: 0.9533\n",
      "Epoch 51/300\n",
      "150/150 [==============================] - 0s 91us/sample - loss: 0.2252 - accuracy: 0.9533\n",
      "Epoch 52/300\n",
      "150/150 [==============================] - 0s 132us/sample - loss: 0.2247 - accuracy: 0.9533\n",
      "Epoch 53/300\n",
      "150/150 [==============================] - 0s 118us/sample - loss: 0.2243 - accuracy: 0.9467\n",
      "Epoch 54/300\n",
      "150/150 [==============================] - 0s 95us/sample - loss: 0.2238 - accuracy: 0.9467\n",
      "Epoch 55/300\n",
      "150/150 [==============================] - 0s 64us/sample - loss: 0.2233 - accuracy: 0.9467\n",
      "Epoch 56/300\n",
      "150/150 [==============================] - 0s 122us/sample - loss: 0.2229 - accuracy: 0.9467\n",
      "Epoch 57/300\n",
      "150/150 [==============================] - 0s 78us/sample - loss: 0.2224 - accuracy: 0.9467\n",
      "Epoch 58/300\n",
      "150/150 [==============================] - 0s 101us/sample - loss: 0.2220 - accuracy: 0.9467\n",
      "Epoch 59/300\n",
      "150/150 [==============================] - 0s 90us/sample - loss: 0.2215 - accuracy: 0.9467\n",
      "Epoch 60/300\n",
      "150/150 [==============================] - 0s 134us/sample - loss: 0.2212 - accuracy: 0.9467\n",
      "Epoch 61/300\n",
      "150/150 [==============================] - 0s 125us/sample - loss: 0.2207 - accuracy: 0.9467\n",
      "Epoch 62/300\n",
      "150/150 [==============================] - 0s 84us/sample - loss: 0.2202 - accuracy: 0.9467\n",
      "Epoch 63/300\n",
      "150/150 [==============================] - 0s 117us/sample - loss: 0.2197 - accuracy: 0.9467\n",
      "Epoch 64/300\n",
      "150/150 [==============================] - 0s 130us/sample - loss: 0.2193 - accuracy: 0.9467\n",
      "Epoch 65/300\n",
      "150/150 [==============================] - 0s 120us/sample - loss: 0.2187 - accuracy: 0.9467\n",
      "Epoch 66/300\n",
      "150/150 [==============================] - 0s 164us/sample - loss: 0.2183 - accuracy: 0.9467\n",
      "Epoch 67/300\n",
      "150/150 [==============================] - 0s 113us/sample - loss: 0.2179 - accuracy: 0.9467\n",
      "Epoch 68/300\n",
      "150/150 [==============================] - 0s 127us/sample - loss: 0.2175 - accuracy: 0.9467\n",
      "Epoch 69/300\n",
      "150/150 [==============================] - 0s 164us/sample - loss: 0.2170 - accuracy: 0.9467\n",
      "Epoch 70/300\n",
      "150/150 [==============================] - 0s 85us/sample - loss: 0.2165 - accuracy: 0.9467\n",
      "Epoch 71/300\n",
      "150/150 [==============================] - 0s 120us/sample - loss: 0.2161 - accuracy: 0.9467\n",
      "Epoch 72/300\n",
      "150/150 [==============================] - 0s 83us/sample - loss: 0.2157 - accuracy: 0.9467\n",
      "Epoch 73/300\n",
      "150/150 [==============================] - 0s 147us/sample - loss: 0.2152 - accuracy: 0.9467\n",
      "Epoch 74/300\n",
      "150/150 [==============================] - 0s 130us/sample - loss: 0.2147 - accuracy: 0.9467\n",
      "Epoch 75/300\n",
      "150/150 [==============================] - 0s 177us/sample - loss: 0.2143 - accuracy: 0.9467\n",
      "Epoch 76/300\n",
      "150/150 [==============================] - 0s 101us/sample - loss: 0.2138 - accuracy: 0.9467\n",
      "Epoch 77/300\n",
      "150/150 [==============================] - 0s 118us/sample - loss: 0.2134 - accuracy: 0.9467\n",
      "Epoch 78/300\n"
     ]
    },
    {
     "name": "stdout",
     "output_type": "stream",
     "text": [
      "150/150 [==============================] - 0s 113us/sample - loss: 0.2130 - accuracy: 0.9533\n",
      "Epoch 79/300\n",
      "150/150 [==============================] - 0s 86us/sample - loss: 0.2125 - accuracy: 0.9467\n",
      "Epoch 80/300\n",
      "150/150 [==============================] - 0s 107us/sample - loss: 0.2121 - accuracy: 0.9467\n",
      "Epoch 81/300\n",
      "150/150 [==============================] - 0s 81us/sample - loss: 0.2116 - accuracy: 0.9467\n",
      "Epoch 82/300\n",
      "150/150 [==============================] - 0s 94us/sample - loss: 0.2112 - accuracy: 0.9467\n",
      "Epoch 83/300\n",
      "150/150 [==============================] - 0s 63us/sample - loss: 0.2108 - accuracy: 0.9467\n",
      "Epoch 84/300\n",
      "150/150 [==============================] - 0s 91us/sample - loss: 0.2103 - accuracy: 0.9467\n",
      "Epoch 85/300\n",
      "150/150 [==============================] - 0s 77us/sample - loss: 0.2099 - accuracy: 0.9467\n",
      "Epoch 86/300\n",
      "150/150 [==============================] - 0s 83us/sample - loss: 0.2094 - accuracy: 0.9533\n",
      "Epoch 87/300\n",
      "150/150 [==============================] - 0s 97us/sample - loss: 0.2090 - accuracy: 0.9533\n",
      "Epoch 88/300\n",
      "150/150 [==============================] - 0s 95us/sample - loss: 0.2085 - accuracy: 0.9533\n",
      "Epoch 89/300\n",
      "150/150 [==============================] - 0s 89us/sample - loss: 0.2081 - accuracy: 0.9533\n",
      "Epoch 90/300\n",
      "150/150 [==============================] - 0s 98us/sample - loss: 0.2077 - accuracy: 0.9533\n",
      "Epoch 91/300\n",
      "150/150 [==============================] - 0s 96us/sample - loss: 0.2074 - accuracy: 0.9533\n",
      "Epoch 92/300\n",
      "150/150 [==============================] - 0s 91us/sample - loss: 0.2068 - accuracy: 0.9533\n",
      "Epoch 93/300\n",
      "150/150 [==============================] - 0s 90us/sample - loss: 0.2065 - accuracy: 0.9533\n",
      "Epoch 94/300\n",
      "150/150 [==============================] - 0s 118us/sample - loss: 0.2060 - accuracy: 0.9533\n",
      "Epoch 95/300\n",
      "150/150 [==============================] - 0s 91us/sample - loss: 0.2055 - accuracy: 0.9533\n",
      "Epoch 96/300\n",
      "150/150 [==============================] - 0s 109us/sample - loss: 0.2052 - accuracy: 0.9533\n",
      "Epoch 97/300\n",
      "150/150 [==============================] - 0s 86us/sample - loss: 0.2048 - accuracy: 0.9533\n",
      "Epoch 98/300\n",
      "150/150 [==============================] - 0s 65us/sample - loss: 0.2042 - accuracy: 0.9533\n",
      "Epoch 99/300\n",
      "150/150 [==============================] - 0s 98us/sample - loss: 0.2038 - accuracy: 0.9533\n",
      "Epoch 100/300\n",
      "150/150 [==============================] - 0s 80us/sample - loss: 0.2034 - accuracy: 0.9533\n",
      "Epoch 101/300\n",
      "150/150 [==============================] - 0s 95us/sample - loss: 0.2030 - accuracy: 0.9533\n",
      "Epoch 102/300\n",
      "150/150 [==============================] - 0s 70us/sample - loss: 0.2025 - accuracy: 0.9533\n",
      "Epoch 103/300\n",
      "150/150 [==============================] - 0s 96us/sample - loss: 0.2021 - accuracy: 0.9600\n",
      "Epoch 104/300\n",
      "150/150 [==============================] - 0s 85us/sample - loss: 0.2017 - accuracy: 0.9600\n",
      "Epoch 105/300\n",
      "150/150 [==============================] - 0s 64us/sample - loss: 0.2013 - accuracy: 0.9600\n",
      "Epoch 106/300\n",
      "150/150 [==============================] - 0s 102us/sample - loss: 0.2008 - accuracy: 0.9533\n",
      "Epoch 107/300\n",
      "150/150 [==============================] - 0s 120us/sample - loss: 0.2006 - accuracy: 0.9533\n",
      "Epoch 108/300\n",
      "150/150 [==============================] - 0s 120us/sample - loss: 0.2003 - accuracy: 0.9600\n",
      "Epoch 109/300\n",
      "150/150 [==============================] - 0s 70us/sample - loss: 0.1996 - accuracy: 0.9600\n",
      "Epoch 110/300\n",
      "150/150 [==============================] - 0s 115us/sample - loss: 0.1994 - accuracy: 0.9600\n",
      "Epoch 111/300\n",
      "150/150 [==============================] - 0s 77us/sample - loss: 0.1987 - accuracy: 0.9600\n",
      "Epoch 112/300\n",
      "150/150 [==============================] - 0s 93us/sample - loss: 0.1983 - accuracy: 0.9600\n",
      "Epoch 113/300\n",
      "150/150 [==============================] - 0s 87us/sample - loss: 0.1979 - accuracy: 0.9533\n",
      "Epoch 114/300\n",
      "150/150 [==============================] - 0s 72us/sample - loss: 0.1976 - accuracy: 0.9533\n",
      "Epoch 115/300\n",
      "150/150 [==============================] - 0s 98us/sample - loss: 0.1972 - accuracy: 0.9533\n",
      "Epoch 116/300\n",
      "150/150 [==============================] - 0s 70us/sample - loss: 0.1967 - accuracy: 0.9533\n",
      "Epoch 117/300\n",
      "150/150 [==============================] - 0s 101us/sample - loss: 0.1965 - accuracy: 0.9600\n",
      "Epoch 118/300\n",
      "150/150 [==============================] - 0s 89us/sample - loss: 0.1959 - accuracy: 0.9600\n",
      "Epoch 119/300\n",
      "150/150 [==============================] - 0s 261us/sample - loss: 0.1954 - accuracy: 0.9600\n",
      "Epoch 120/300\n",
      "150/150 [==============================] - 0s 97us/sample - loss: 0.1950 - accuracy: 0.9600\n",
      "Epoch 121/300\n",
      "150/150 [==============================] - 0s 84us/sample - loss: 0.1951 - accuracy: 0.9533\n",
      "Epoch 122/300\n",
      "150/150 [==============================] - 0s 88us/sample - loss: 0.1943 - accuracy: 0.9533\n",
      "Epoch 123/300\n",
      "150/150 [==============================] - 0s 137us/sample - loss: 0.1938 - accuracy: 0.9600\n",
      "Epoch 124/300\n",
      "150/150 [==============================] - 0s 81us/sample - loss: 0.1935 - accuracy: 0.9600\n",
      "Epoch 125/300\n",
      "150/150 [==============================] - 0s 105us/sample - loss: 0.1930 - accuracy: 0.9600\n",
      "Epoch 126/300\n",
      "150/150 [==============================] - 0s 95us/sample - loss: 0.1926 - accuracy: 0.9600\n",
      "Epoch 127/300\n",
      "150/150 [==============================] - 0s 106us/sample - loss: 0.1927 - accuracy: 0.9600\n",
      "Epoch 128/300\n",
      "150/150 [==============================] - 0s 104us/sample - loss: 0.1919 - accuracy: 0.9600\n",
      "Epoch 129/300\n",
      "150/150 [==============================] - 0s 101us/sample - loss: 0.1915 - accuracy: 0.9600\n",
      "Epoch 130/300\n",
      "150/150 [==============================] - 0s 75us/sample - loss: 0.1910 - accuracy: 0.9600\n",
      "Epoch 131/300\n",
      "150/150 [==============================] - 0s 100us/sample - loss: 0.1907 - accuracy: 0.9600\n",
      "Epoch 132/300\n",
      "150/150 [==============================] - 0s 82us/sample - loss: 0.1902 - accuracy: 0.9600\n",
      "Epoch 133/300\n",
      "150/150 [==============================] - 0s 63us/sample - loss: 0.1899 - accuracy: 0.9600\n",
      "Epoch 134/300\n",
      "150/150 [==============================] - 0s 109us/sample - loss: 0.1895 - accuracy: 0.9600\n",
      "Epoch 135/300\n",
      "150/150 [==============================] - 0s 68us/sample - loss: 0.1891 - accuracy: 0.9600\n",
      "Epoch 136/300\n",
      "150/150 [==============================] - 0s 134us/sample - loss: 0.1887 - accuracy: 0.9600\n",
      "Epoch 137/300\n",
      "150/150 [==============================] - 0s 83us/sample - loss: 0.1884 - accuracy: 0.9600\n",
      "Epoch 138/300\n",
      "150/150 [==============================] - 0s 115us/sample - loss: 0.1879 - accuracy: 0.9600\n",
      "Epoch 139/300\n",
      "150/150 [==============================] - 0s 101us/sample - loss: 0.1875 - accuracy: 0.9600\n",
      "Epoch 140/300\n",
      "150/150 [==============================] - 0s 107us/sample - loss: 0.1872 - accuracy: 0.9600\n",
      "Epoch 141/300\n",
      "150/150 [==============================] - 0s 81us/sample - loss: 0.1868 - accuracy: 0.9600\n",
      "Epoch 142/300\n",
      "150/150 [==============================] - 0s 108us/sample - loss: 0.1865 - accuracy: 0.9600\n",
      "Epoch 143/300\n",
      "150/150 [==============================] - 0s 104us/sample - loss: 0.1860 - accuracy: 0.9600\n",
      "Epoch 144/300\n",
      "150/150 [==============================] - 0s 113us/sample - loss: 0.1857 - accuracy: 0.9600\n",
      "Epoch 145/300\n",
      "150/150 [==============================] - 0s 103us/sample - loss: 0.1853 - accuracy: 0.9600\n",
      "Epoch 146/300\n",
      "150/150 [==============================] - 0s 78us/sample - loss: 0.1849 - accuracy: 0.9600\n",
      "Epoch 147/300\n",
      "150/150 [==============================] - 0s 94us/sample - loss: 0.1845 - accuracy: 0.9600\n",
      "Epoch 148/300\n",
      "150/150 [==============================] - 0s 196us/sample - loss: 0.1841 - accuracy: 0.9600\n",
      "Epoch 149/300\n",
      "150/150 [==============================] - 0s 103us/sample - loss: 0.1838 - accuracy: 0.9533\n",
      "Epoch 150/300\n",
      "150/150 [==============================] - 0s 121us/sample - loss: 0.1834 - accuracy: 0.9533\n",
      "Epoch 151/300\n",
      "150/150 [==============================] - 0s 77us/sample - loss: 0.1832 - accuracy: 0.9533\n",
      "Epoch 152/300\n",
      "150/150 [==============================] - 0s 81us/sample - loss: 0.1826 - accuracy: 0.9600\n",
      "Epoch 153/300\n",
      "150/150 [==============================] - 0s 74us/sample - loss: 0.1823 - accuracy: 0.9533\n",
      "Epoch 154/300\n",
      "150/150 [==============================] - 0s 94us/sample - loss: 0.1819 - accuracy: 0.9533\n",
      "Epoch 155/300\n"
     ]
    },
    {
     "name": "stdout",
     "output_type": "stream",
     "text": [
      "150/150 [==============================] - 0s 119us/sample - loss: 0.1817 - accuracy: 0.9600\n",
      "Epoch 156/300\n",
      "150/150 [==============================] - 0s 88us/sample - loss: 0.1813 - accuracy: 0.9600\n",
      "Epoch 157/300\n",
      "150/150 [==============================] - 0s 100us/sample - loss: 0.1808 - accuracy: 0.9600\n",
      "Epoch 158/300\n",
      "150/150 [==============================] - 0s 77us/sample - loss: 0.1807 - accuracy: 0.9600\n",
      "Epoch 159/300\n",
      "150/150 [==============================] - 0s 111us/sample - loss: 0.1802 - accuracy: 0.9600\n",
      "Epoch 160/300\n",
      "150/150 [==============================] - 0s 78us/sample - loss: 0.1797 - accuracy: 0.9600\n",
      "Epoch 161/300\n",
      "150/150 [==============================] - 0s 83us/sample - loss: 0.1793 - accuracy: 0.9600\n",
      "Epoch 162/300\n",
      "150/150 [==============================] - 0s 112us/sample - loss: 0.1790 - accuracy: 0.9600\n",
      "Epoch 163/300\n",
      "150/150 [==============================] - 0s 101us/sample - loss: 0.1788 - accuracy: 0.9533\n",
      "Epoch 164/300\n",
      "150/150 [==============================] - 0s 115us/sample - loss: 0.1783 - accuracy: 0.9533\n",
      "Epoch 165/300\n",
      "150/150 [==============================] - 0s 101us/sample - loss: 0.1779 - accuracy: 0.9600\n",
      "Epoch 166/300\n",
      "150/150 [==============================] - 0s 91us/sample - loss: 0.1776 - accuracy: 0.9600\n",
      "Epoch 167/300\n",
      "150/150 [==============================] - 0s 89us/sample - loss: 0.1773 - accuracy: 0.9600\n",
      "Epoch 168/300\n",
      "150/150 [==============================] - 0s 113us/sample - loss: 0.1770 - accuracy: 0.9600\n",
      "Epoch 169/300\n",
      "150/150 [==============================] - 0s 88us/sample - loss: 0.1765 - accuracy: 0.9600\n",
      "Epoch 170/300\n",
      "150/150 [==============================] - 0s 82us/sample - loss: 0.1764 - accuracy: 0.9600\n",
      "Epoch 171/300\n",
      "150/150 [==============================] - 0s 75us/sample - loss: 0.1758 - accuracy: 0.9600\n",
      "Epoch 172/300\n",
      "150/150 [==============================] - 0s 99us/sample - loss: 0.1755 - accuracy: 0.9600\n",
      "Epoch 173/300\n",
      "150/150 [==============================] - 0s 100us/sample - loss: 0.1751 - accuracy: 0.9600\n",
      "Epoch 174/300\n",
      "150/150 [==============================] - 0s 99us/sample - loss: 0.1747 - accuracy: 0.9600\n",
      "Epoch 175/300\n",
      "150/150 [==============================] - 0s 99us/sample - loss: 0.1744 - accuracy: 0.9600\n",
      "Epoch 176/300\n",
      "150/150 [==============================] - 0s 84us/sample - loss: 0.1741 - accuracy: 0.9600\n",
      "Epoch 177/300\n",
      "150/150 [==============================] - 0s 84us/sample - loss: 0.1737 - accuracy: 0.9600\n",
      "Epoch 178/300\n",
      "150/150 [==============================] - 0s 79us/sample - loss: 0.1734 - accuracy: 0.9600\n",
      "Epoch 179/300\n",
      "150/150 [==============================] - 0s 114us/sample - loss: 0.1730 - accuracy: 0.9600\n",
      "Epoch 180/300\n",
      "150/150 [==============================] - 0s 91us/sample - loss: 0.1727 - accuracy: 0.9600\n",
      "Epoch 181/300\n",
      "150/150 [==============================] - 0s 96us/sample - loss: 0.1723 - accuracy: 0.9600\n",
      "Epoch 182/300\n",
      "150/150 [==============================] - 0s 82us/sample - loss: 0.1720 - accuracy: 0.9600\n",
      "Epoch 183/300\n",
      "150/150 [==============================] - 0s 104us/sample - loss: 0.1717 - accuracy: 0.9600\n",
      "Epoch 184/300\n",
      "150/150 [==============================] - 0s 96us/sample - loss: 0.1713 - accuracy: 0.9600\n",
      "Epoch 185/300\n",
      "150/150 [==============================] - 0s 83us/sample - loss: 0.1709 - accuracy: 0.9600\n",
      "Epoch 186/300\n",
      "150/150 [==============================] - 0s 83us/sample - loss: 0.1706 - accuracy: 0.9600\n",
      "Epoch 187/300\n",
      "150/150 [==============================] - 0s 80us/sample - loss: 0.1703 - accuracy: 0.9600\n",
      "Epoch 188/300\n",
      "150/150 [==============================] - 0s 63us/sample - loss: 0.1699 - accuracy: 0.9600\n",
      "Epoch 189/300\n",
      "150/150 [==============================] - 0s 102us/sample - loss: 0.1696 - accuracy: 0.9533\n",
      "Epoch 190/300\n",
      "150/150 [==============================] - 0s 69us/sample - loss: 0.1693 - accuracy: 0.9533\n",
      "Epoch 191/300\n",
      "150/150 [==============================] - 0s 79us/sample - loss: 0.1689 - accuracy: 0.9533\n",
      "Epoch 192/300\n",
      "150/150 [==============================] - 0s 129us/sample - loss: 0.1686 - accuracy: 0.9533\n",
      "Epoch 193/300\n",
      "150/150 [==============================] - 0s 101us/sample - loss: 0.1685 - accuracy: 0.9533\n",
      "Epoch 194/300\n",
      "150/150 [==============================] - 0s 103us/sample - loss: 0.1679 - accuracy: 0.9600\n",
      "Epoch 195/300\n",
      "150/150 [==============================] - 0s 90us/sample - loss: 0.1676 - accuracy: 0.9600\n",
      "Epoch 196/300\n",
      "150/150 [==============================] - 0s 86us/sample - loss: 0.1675 - accuracy: 0.9533\n",
      "Epoch 197/300\n",
      "150/150 [==============================] - 0s 84us/sample - loss: 0.1670 - accuracy: 0.9600\n",
      "Epoch 198/300\n",
      "150/150 [==============================] - 0s 103us/sample - loss: 0.1666 - accuracy: 0.9600\n",
      "Epoch 199/300\n",
      "150/150 [==============================] - 0s 105us/sample - loss: 0.1664 - accuracy: 0.9600\n",
      "Epoch 200/300\n",
      "150/150 [==============================] - 0s 87us/sample - loss: 0.1661 - accuracy: 0.9600\n",
      "Epoch 201/300\n",
      "150/150 [==============================] - 0s 98us/sample - loss: 0.1657 - accuracy: 0.9600\n",
      "Epoch 202/300\n",
      "150/150 [==============================] - 0s 111us/sample - loss: 0.1653 - accuracy: 0.9600\n",
      "Epoch 203/300\n",
      "150/150 [==============================] - 0s 84us/sample - loss: 0.1651 - accuracy: 0.9600\n",
      "Epoch 204/300\n",
      "150/150 [==============================] - 0s 95us/sample - loss: 0.1649 - accuracy: 0.9533\n",
      "Epoch 205/300\n",
      "150/150 [==============================] - 0s 82us/sample - loss: 0.1645 - accuracy: 0.9600\n",
      "Epoch 206/300\n",
      "150/150 [==============================] - 0s 83us/sample - loss: 0.1642 - accuracy: 0.9600\n",
      "Epoch 207/300\n",
      "150/150 [==============================] - 0s 102us/sample - loss: 0.1638 - accuracy: 0.9600\n",
      "Epoch 208/300\n",
      "150/150 [==============================] - 0s 89us/sample - loss: 0.1635 - accuracy: 0.9600\n",
      "Epoch 209/300\n",
      "150/150 [==============================] - 0s 115us/sample - loss: 0.1631 - accuracy: 0.9600\n",
      "Epoch 210/300\n",
      "150/150 [==============================] - 0s 85us/sample - loss: 0.1628 - accuracy: 0.9600\n",
      "Epoch 211/300\n",
      "150/150 [==============================] - 0s 93us/sample - loss: 0.1625 - accuracy: 0.9600\n",
      "Epoch 212/300\n",
      "150/150 [==============================] - 0s 93us/sample - loss: 0.1624 - accuracy: 0.9600\n",
      "Epoch 213/300\n",
      "150/150 [==============================] - 0s 130us/sample - loss: 0.1619 - accuracy: 0.9600\n",
      "Epoch 214/300\n",
      "150/150 [==============================] - 0s 98us/sample - loss: 0.1615 - accuracy: 0.9600\n",
      "Epoch 215/300\n",
      "150/150 [==============================] - 0s 111us/sample - loss: 0.1613 - accuracy: 0.9600\n",
      "Epoch 216/300\n",
      "150/150 [==============================] - 0s 89us/sample - loss: 0.1609 - accuracy: 0.9600\n",
      "Epoch 217/300\n",
      "150/150 [==============================] - 0s 92us/sample - loss: 0.1606 - accuracy: 0.9600\n",
      "Epoch 218/300\n",
      "150/150 [==============================] - 0s 76us/sample - loss: 0.1603 - accuracy: 0.9600\n",
      "Epoch 219/300\n",
      "150/150 [==============================] - 0s 61us/sample - loss: 0.1600 - accuracy: 0.9600\n",
      "Epoch 220/300\n",
      "150/150 [==============================] - 0s 83us/sample - loss: 0.1597 - accuracy: 0.9600\n",
      "Epoch 221/300\n",
      "150/150 [==============================] - 0s 84us/sample - loss: 0.1594 - accuracy: 0.9600\n",
      "Epoch 222/300\n",
      "150/150 [==============================] - 0s 109us/sample - loss: 0.1591 - accuracy: 0.9600\n",
      "Epoch 223/300\n",
      "150/150 [==============================] - 0s 66us/sample - loss: 0.1588 - accuracy: 0.9600\n",
      "Epoch 224/300\n",
      "150/150 [==============================] - 0s 77us/sample - loss: 0.1586 - accuracy: 0.9600\n",
      "Epoch 225/300\n",
      "150/150 [==============================] - 0s 77us/sample - loss: 0.1582 - accuracy: 0.9600\n",
      "Epoch 226/300\n",
      "150/150 [==============================] - 0s 82us/sample - loss: 0.1579 - accuracy: 0.9600\n",
      "Epoch 227/300\n",
      "150/150 [==============================] - 0s 107us/sample - loss: 0.1577 - accuracy: 0.9600\n",
      "Epoch 228/300\n",
      "150/150 [==============================] - 0s 75us/sample - loss: 0.1573 - accuracy: 0.9600\n",
      "Epoch 229/300\n",
      "150/150 [==============================] - 0s 66us/sample - loss: 0.1570 - accuracy: 0.9600\n",
      "Epoch 230/300\n",
      "150/150 [==============================] - 0s 74us/sample - loss: 0.1568 - accuracy: 0.9600\n",
      "Epoch 231/300\n",
      "150/150 [==============================] - 0s 85us/sample - loss: 0.1566 - accuracy: 0.9600\n",
      "Epoch 232/300\n"
     ]
    },
    {
     "name": "stdout",
     "output_type": "stream",
     "text": [
      "150/150 [==============================] - 0s 111us/sample - loss: 0.1562 - accuracy: 0.9600\n",
      "Epoch 233/300\n",
      "150/150 [==============================] - 0s 122us/sample - loss: 0.1560 - accuracy: 0.9600\n",
      "Epoch 234/300\n",
      "150/150 [==============================] - 0s 111us/sample - loss: 0.1555 - accuracy: 0.9600\n",
      "Epoch 235/300\n",
      "150/150 [==============================] - 0s 104us/sample - loss: 0.1552 - accuracy: 0.9600\n",
      "Epoch 236/300\n",
      "150/150 [==============================] - 0s 174us/sample - loss: 0.1549 - accuracy: 0.9600\n",
      "Epoch 237/300\n",
      "150/150 [==============================] - 0s 105us/sample - loss: 0.1546 - accuracy: 0.9600\n",
      "Epoch 238/300\n",
      "150/150 [==============================] - 0s 86us/sample - loss: 0.1543 - accuracy: 0.9600\n",
      "Epoch 239/300\n",
      "150/150 [==============================] - 0s 140us/sample - loss: 0.1541 - accuracy: 0.9600\n",
      "Epoch 240/300\n",
      "150/150 [==============================] - 0s 132us/sample - loss: 0.1537 - accuracy: 0.9600\n",
      "Epoch 241/300\n",
      "150/150 [==============================] - 0s 132us/sample - loss: 0.1535 - accuracy: 0.9600\n",
      "Epoch 242/300\n",
      "150/150 [==============================] - 0s 80us/sample - loss: 0.1532 - accuracy: 0.9600\n",
      "Epoch 243/300\n",
      "150/150 [==============================] - 0s 170us/sample - loss: 0.1531 - accuracy: 0.9600\n",
      "Epoch 244/300\n",
      "150/150 [==============================] - 0s 89us/sample - loss: 0.1528 - accuracy: 0.9600\n",
      "Epoch 245/300\n",
      "150/150 [==============================] - 0s 103us/sample - loss: 0.1524 - accuracy: 0.9600\n",
      "Epoch 246/300\n",
      "150/150 [==============================] - 0s 98us/sample - loss: 0.1520 - accuracy: 0.9600\n",
      "Epoch 247/300\n",
      "150/150 [==============================] - 0s 103us/sample - loss: 0.1518 - accuracy: 0.9533\n",
      "Epoch 248/300\n",
      "150/150 [==============================] - 0s 146us/sample - loss: 0.1515 - accuracy: 0.9533\n",
      "Epoch 249/300\n",
      "150/150 [==============================] - 0s 82us/sample - loss: 0.1512 - accuracy: 0.9533\n",
      "Epoch 250/300\n",
      "150/150 [==============================] - 0s 122us/sample - loss: 0.1510 - accuracy: 0.9533\n",
      "Epoch 251/300\n",
      "150/150 [==============================] - 0s 85us/sample - loss: 0.1506 - accuracy: 0.9600\n",
      "Epoch 252/300\n",
      "150/150 [==============================] - 0s 171us/sample - loss: 0.1505 - accuracy: 0.9600\n",
      "Epoch 253/300\n",
      "150/150 [==============================] - 0s 130us/sample - loss: 0.1501 - accuracy: 0.9600\n",
      "Epoch 254/300\n",
      "150/150 [==============================] - 0s 123us/sample - loss: 0.1498 - accuracy: 0.9600\n",
      "Epoch 255/300\n",
      "150/150 [==============================] - 0s 178us/sample - loss: 0.1495 - accuracy: 0.9600\n",
      "Epoch 256/300\n",
      "150/150 [==============================] - 0s 84us/sample - loss: 0.1494 - accuracy: 0.9600\n",
      "Epoch 257/300\n",
      "150/150 [==============================] - 0s 119us/sample - loss: 0.1489 - accuracy: 0.9600\n",
      "Epoch 258/300\n",
      "150/150 [==============================] - 0s 88us/sample - loss: 0.1487 - accuracy: 0.9600\n",
      "Epoch 259/300\n",
      "150/150 [==============================] - 0s 405us/sample - loss: 0.1484 - accuracy: 0.9600\n",
      "Epoch 260/300\n",
      "150/150 [==============================] - 0s 164us/sample - loss: 0.1481 - accuracy: 0.9600\n",
      "Epoch 261/300\n",
      "150/150 [==============================] - 0s 75us/sample - loss: 0.1480 - accuracy: 0.9600\n",
      "Epoch 262/300\n",
      "150/150 [==============================] - 0s 139us/sample - loss: 0.1477 - accuracy: 0.9600\n",
      "Epoch 263/300\n",
      "150/150 [==============================] - 0s 115us/sample - loss: 0.1473 - accuracy: 0.9600\n",
      "Epoch 264/300\n",
      "150/150 [==============================] - 0s 104us/sample - loss: 0.1470 - accuracy: 0.9600\n",
      "Epoch 265/300\n",
      "150/150 [==============================] - 0s 123us/sample - loss: 0.1468 - accuracy: 0.9600\n",
      "Epoch 266/300\n",
      "150/150 [==============================] - 0s 170us/sample - loss: 0.1465 - accuracy: 0.9600\n",
      "Epoch 267/300\n",
      "150/150 [==============================] - 0s 100us/sample - loss: 0.1465 - accuracy: 0.9600\n",
      "Epoch 268/300\n",
      "150/150 [==============================] - 0s 96us/sample - loss: 0.1460 - accuracy: 0.9600\n",
      "Epoch 269/300\n",
      "150/150 [==============================] - 0s 76us/sample - loss: 0.1458 - accuracy: 0.9600\n",
      "Epoch 270/300\n",
      "150/150 [==============================] - 0s 109us/sample - loss: 0.1456 - accuracy: 0.9600\n",
      "Epoch 271/300\n",
      "150/150 [==============================] - 0s 62us/sample - loss: 0.1452 - accuracy: 0.9600\n",
      "Epoch 272/300\n",
      "150/150 [==============================] - 0s 56us/sample - loss: 0.1449 - accuracy: 0.9600\n",
      "Epoch 273/300\n",
      "150/150 [==============================] - 0s 81us/sample - loss: 0.1446 - accuracy: 0.9600\n",
      "Epoch 274/300\n",
      "150/150 [==============================] - 0s 88us/sample - loss: 0.1444 - accuracy: 0.9600\n",
      "Epoch 275/300\n",
      "150/150 [==============================] - 0s 130us/sample - loss: 0.1441 - accuracy: 0.9600\n",
      "Epoch 276/300\n",
      "150/150 [==============================] - 0s 92us/sample - loss: 0.1440 - accuracy: 0.9600\n",
      "Epoch 277/300\n",
      "150/150 [==============================] - 0s 219us/sample - loss: 0.1436 - accuracy: 0.9600\n",
      "Epoch 278/300\n",
      "150/150 [==============================] - 0s 83us/sample - loss: 0.1433 - accuracy: 0.9600\n",
      "Epoch 279/300\n",
      "150/150 [==============================] - 0s 110us/sample - loss: 0.1431 - accuracy: 0.9600\n",
      "Epoch 280/300\n",
      "150/150 [==============================] - 0s 116us/sample - loss: 0.1429 - accuracy: 0.9600\n",
      "Epoch 281/300\n",
      "150/150 [==============================] - 0s 114us/sample - loss: 0.1426 - accuracy: 0.9600\n",
      "Epoch 282/300\n",
      "150/150 [==============================] - 0s 112us/sample - loss: 0.1426 - accuracy: 0.9600\n",
      "Epoch 283/300\n",
      "150/150 [==============================] - 0s 106us/sample - loss: 0.1421 - accuracy: 0.9533\n",
      "Epoch 284/300\n",
      "150/150 [==============================] - 0s 108us/sample - loss: 0.1419 - accuracy: 0.9533\n",
      "Epoch 285/300\n",
      "150/150 [==============================] - 0s 83us/sample - loss: 0.1416 - accuracy: 0.9600\n",
      "Epoch 286/300\n",
      "150/150 [==============================] - 0s 99us/sample - loss: 0.1413 - accuracy: 0.9600\n",
      "Epoch 287/300\n",
      "150/150 [==============================] - 0s 97us/sample - loss: 0.1411 - accuracy: 0.9600\n",
      "Epoch 288/300\n",
      "150/150 [==============================] - 0s 93us/sample - loss: 0.1408 - accuracy: 0.9600\n",
      "Epoch 289/300\n",
      "150/150 [==============================] - 0s 99us/sample - loss: 0.1407 - accuracy: 0.9600\n",
      "Epoch 290/300\n",
      "150/150 [==============================] - 0s 84us/sample - loss: 0.1404 - accuracy: 0.9600\n",
      "Epoch 291/300\n",
      "150/150 [==============================] - 0s 138us/sample - loss: 0.1402 - accuracy: 0.9600\n",
      "Epoch 292/300\n",
      "150/150 [==============================] - 0s 67us/sample - loss: 0.1399 - accuracy: 0.9600\n",
      "Epoch 293/300\n",
      "150/150 [==============================] - 0s 87us/sample - loss: 0.1397 - accuracy: 0.9600\n",
      "Epoch 294/300\n",
      "150/150 [==============================] - 0s 70us/sample - loss: 0.1394 - accuracy: 0.9600\n",
      "Epoch 295/300\n",
      "150/150 [==============================] - 0s 90us/sample - loss: 0.1392 - accuracy: 0.9600\n",
      "Epoch 296/300\n",
      "150/150 [==============================] - ETA: 0s - loss: 0.1491 - accuracy: 0.96 - 0s 108us/sample - loss: 0.1389 - accuracy: 0.9600\n",
      "Epoch 297/300\n",
      "150/150 [==============================] - 0s 71us/sample - loss: 0.1387 - accuracy: 0.9600\n",
      "Epoch 298/300\n",
      "150/150 [==============================] - 0s 128us/sample - loss: 0.1385 - accuracy: 0.9600\n",
      "Epoch 299/300\n",
      "150/150 [==============================] - 0s 79us/sample - loss: 0.1382 - accuracy: 0.9600\n",
      "Epoch 300/300\n",
      "150/150 [==============================] - 0s 162us/sample - loss: 0.1379 - accuracy: 0.9600\n"
     ]
    },
    {
     "data": {
      "text/plain": [
       "<tensorflow.python.keras.callbacks.History at 0x7f629c343690>"
      ]
     },
     "execution_count": 49,
     "metadata": {},
     "output_type": "execute_result"
    }
   ],
   "source": [
    "model.fit(scaled_X,y,epochs=epochs)"
   ]
  },
  {
   "cell_type": "code",
   "execution_count": 50,
   "metadata": {
    "ExecuteTime": {
     "end_time": "2020-05-06T20:20:01.894753Z",
     "start_time": "2020-05-06T20:20:01.861335Z"
    }
   },
   "outputs": [],
   "source": [
    "model.save(\"final_iris_model.h5\")"
   ]
  },
  {
   "cell_type": "markdown",
   "metadata": {},
   "source": [
    "### Saving Scaler"
   ]
  },
  {
   "cell_type": "code",
   "execution_count": 51,
   "metadata": {
    "ExecuteTime": {
     "end_time": "2020-05-06T20:20:29.416260Z",
     "start_time": "2020-05-06T20:20:29.409490Z"
    }
   },
   "outputs": [],
   "source": [
    "import joblib"
   ]
  },
  {
   "cell_type": "code",
   "execution_count": 52,
   "metadata": {
    "ExecuteTime": {
     "end_time": "2020-05-06T20:20:38.549176Z",
     "start_time": "2020-05-06T20:20:38.535792Z"
    }
   },
   "outputs": [
    {
     "data": {
      "text/plain": [
       "['iris_scaler.pkl']"
      ]
     },
     "execution_count": 52,
     "metadata": {},
     "output_type": "execute_result"
    }
   ],
   "source": [
    "joblib.dump(scaler,'iris_scaler.pkl')"
   ]
  },
  {
   "cell_type": "markdown",
   "metadata": {},
   "source": [
    "## Predicting a Single New Flower"
   ]
  },
  {
   "cell_type": "code",
   "execution_count": 53,
   "metadata": {
    "ExecuteTime": {
     "end_time": "2020-05-06T20:21:22.894158Z",
     "start_time": "2020-05-06T20:21:22.881449Z"
    }
   },
   "outputs": [],
   "source": [
    "from tensorflow.keras.models import load_model"
   ]
  },
  {
   "cell_type": "code",
   "execution_count": 54,
   "metadata": {
    "ExecuteTime": {
     "end_time": "2020-05-06T20:21:38.395524Z",
     "start_time": "2020-05-06T20:21:38.355508Z"
    }
   },
   "outputs": [
    {
     "name": "stdout",
     "output_type": "stream",
     "text": [
      "WARNING:tensorflow:Sequential models without an `input_shape` passed to the first layer cannot reload their optimizer state. As a result, your model isstarting with a freshly initialized optimizer.\n"
     ]
    }
   ],
   "source": [
    "flower_model = load_model(\"final_iris_model.h5\")\n",
    "flower_scaler = joblib.load(\"iris_scaler.pkl\")"
   ]
  },
  {
   "cell_type": "code",
   "execution_count": 55,
   "metadata": {
    "ExecuteTime": {
     "end_time": "2020-05-06T20:23:33.284883Z",
     "start_time": "2020-05-06T20:23:33.273649Z"
    }
   },
   "outputs": [
    {
     "data": {
      "text/html": [
       "<div>\n",
       "<style scoped>\n",
       "    .dataframe tbody tr th:only-of-type {\n",
       "        vertical-align: middle;\n",
       "    }\n",
       "\n",
       "    .dataframe tbody tr th {\n",
       "        vertical-align: top;\n",
       "    }\n",
       "\n",
       "    .dataframe thead th {\n",
       "        text-align: right;\n",
       "    }\n",
       "</style>\n",
       "<table border=\"1\" class=\"dataframe\">\n",
       "  <thead>\n",
       "    <tr style=\"text-align: right;\">\n",
       "      <th></th>\n",
       "      <th>sepal_length</th>\n",
       "      <th>sepal_width</th>\n",
       "      <th>petal_length</th>\n",
       "      <th>petal_width</th>\n",
       "      <th>species</th>\n",
       "    </tr>\n",
       "  </thead>\n",
       "  <tbody>\n",
       "    <tr>\n",
       "      <th>0</th>\n",
       "      <td>5.1</td>\n",
       "      <td>3.5</td>\n",
       "      <td>1.4</td>\n",
       "      <td>0.2</td>\n",
       "      <td>setosa</td>\n",
       "    </tr>\n",
       "  </tbody>\n",
       "</table>\n",
       "</div>"
      ],
      "text/plain": [
       "   sepal_length  sepal_width  petal_length  petal_width species\n",
       "0           5.1          3.5           1.4          0.2  setosa"
      ]
     },
     "execution_count": 55,
     "metadata": {},
     "output_type": "execute_result"
    }
   ],
   "source": [
    "iris.head(1)"
   ]
  },
  {
   "cell_type": "code",
   "execution_count": 56,
   "metadata": {
    "ExecuteTime": {
     "end_time": "2020-05-06T20:23:37.266836Z",
     "start_time": "2020-05-06T20:23:37.260871Z"
    }
   },
   "outputs": [],
   "source": [
    "flower_example = {'sepal_length':5.1,\n",
    "                 'sepal_width':3.5,\n",
    "                 'petal_length':1.4,\n",
    "                 'petal_width':0.2}"
   ]
  },
  {
   "cell_type": "code",
   "execution_count": 36,
   "metadata": {},
   "outputs": [
    {
     "data": {
      "text/plain": [
       "dict_keys(['sepal_length', 'sepal_width', 'petal_length', 'petal_width'])"
      ]
     },
     "execution_count": 36,
     "metadata": {},
     "output_type": "execute_result"
    }
   ],
   "source": [
    "flower_example.keys()"
   ]
  },
  {
   "cell_type": "code",
   "execution_count": 37,
   "metadata": {},
   "outputs": [
    {
     "data": {
      "text/plain": [
       "array(['setosa', 'versicolor', 'virginica'], dtype='<U10')"
      ]
     },
     "execution_count": 37,
     "metadata": {},
     "output_type": "execute_result"
    }
   ],
   "source": [
    "encoder.classes_"
   ]
  },
  {
   "cell_type": "code",
   "execution_count": 59,
   "metadata": {
    "ExecuteTime": {
     "end_time": "2020-05-06T20:29:14.453963Z",
     "start_time": "2020-05-06T20:29:14.442870Z"
    }
   },
   "outputs": [],
   "source": [
    "def return_prediction(model,scaler,sample_json):\n",
    "    \n",
    "    # For larger data features, you should probably write a for loop\n",
    "    # That builds out this array for you\n",
    "    \n",
    "    s_len = sample_json['sepal_length']\n",
    "    s_wid = sample_json['sepal_width']\n",
    "    p_len = sample_json['petal_length']\n",
    "    p_wid = sample_json['petal_width']\n",
    "    \n",
    "    flower = [[s_len,s_wid,p_len,p_wid]]\n",
    "    \n",
    "    flower = scaler.transform(flower)\n",
    "    \n",
    "    classes = np.array(['setosa', 'versicolor', 'virginica'])\n",
    "    \n",
    "    class_ind = model.predict_classes(flower)\n",
    "    \n",
    "    return classes[class_ind][0]\n",
    "                    "
   ]
  },
  {
   "cell_type": "code",
   "execution_count": 60,
   "metadata": {
    "ExecuteTime": {
     "end_time": "2020-05-06T20:29:15.208534Z",
     "start_time": "2020-05-06T20:29:15.153864Z"
    }
   },
   "outputs": [
    {
     "data": {
      "text/plain": [
       "'setosa'"
      ]
     },
     "execution_count": 60,
     "metadata": {},
     "output_type": "execute_result"
    }
   ],
   "source": [
    "return_prediction(flower_model,flower_scaler,flower_example)"
   ]
  },
  {
   "cell_type": "markdown",
   "metadata": {},
   "source": [
    "# CODE FOR DEPLOYMENT:"
   ]
  },
  {
   "cell_type": "code",
   "execution_count": 42,
   "metadata": {},
   "outputs": [
    {
     "name": "stdout",
     "output_type": "stream",
     "text": [
      "WARNING:tensorflow:Sequential models without an `input_shape` passed to the first layer cannot reload their optimizer state. As a result, your model isstarting with a freshly initialized optimizer.\n"
     ]
    }
   ],
   "source": [
    "from tensorflow.keras.models import load_model\n",
    "import numpy as np\n",
    "import joblib\n",
    "\n",
    "\n",
    "flower_model = load_model(\"final_iris_model.h5\")\n",
    "flower_scaler = joblib.load(\"iris_scaler.pkl\")\n",
    "\n",
    "\n",
    "def return_prediction(model,scaler,sample_json):\n",
    "    \n",
    "    # For larger data features, you should probably write a for loop\n",
    "    # That builds out this array for you\n",
    "    \n",
    "    s_len = sample_json['sepal_length']\n",
    "    s_wid = sample_json['sepal_width']\n",
    "    p_len = sample_json['petal_length']\n",
    "    p_wid = sample_json['petal_width']\n",
    "    \n",
    "    flower = [[s_len,s_wid,p_len,p_wid]]\n",
    "    \n",
    "    flower = scaler.transform(flower)\n",
    "    \n",
    "    classes = np.array(['setosa', 'versicolor', 'virginica'])\n",
    "    \n",
    "    class_ind = model.predict_classes(flower)\n",
    "    \n",
    "    return classes[class_ind][0]"
   ]
  },
  {
   "cell_type": "code",
   "execution_count": null,
   "metadata": {},
   "outputs": [],
   "source": [
    "flower_example = {\n",
    "\"sepal_length\":5.1,\n",
    "\"sepal_width\":3.5,\n",
    "\"petal_length\":1.4,\n",
    "\"petal_width\":0.2\n",
    "}"
   ]
  }
 ],
 "metadata": {
  "kernelspec": {
   "display_name": "Python 3",
   "language": "python",
   "name": "python3"
  },
  "language_info": {
   "codemirror_mode": {
    "name": "ipython",
    "version": 3
   },
   "file_extension": ".py",
   "mimetype": "text/x-python",
   "name": "python",
   "nbconvert_exporter": "python",
   "pygments_lexer": "ipython3",
   "version": "3.7.7"
  },
  "varInspector": {
   "cols": {
    "lenName": 16,
    "lenType": 16,
    "lenVar": 40
   },
   "kernels_config": {
    "python": {
     "delete_cmd_postfix": "",
     "delete_cmd_prefix": "del ",
     "library": "var_list.py",
     "varRefreshCmd": "print(var_dic_list())"
    },
    "r": {
     "delete_cmd_postfix": ") ",
     "delete_cmd_prefix": "rm(",
     "library": "var_list.r",
     "varRefreshCmd": "cat(var_dic_list()) "
    }
   },
   "types_to_exclude": [
    "module",
    "function",
    "builtin_function_or_method",
    "instance",
    "_Feature"
   ],
   "window_display": false
  }
 },
 "nbformat": 4,
 "nbformat_minor": 2
}
