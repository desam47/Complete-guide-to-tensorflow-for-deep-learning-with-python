{
 "cells": [
  {
   "cell_type": "markdown",
   "metadata": {},
   "source": [
    "<a href=\"https://www.pieriandata.com\"><img src=\"../Pierian_Data_Logo.PNG\"></a>\n",
    "<strong><center>Copyright by Pierian Data Inc.</center></strong> \n",
    "<strong><center>Created by Jose Marcial Portilla.</center></strong>\n",
    "# Working with Custom Images\n",
    "\n",
    "So far everything we've worked with has been nicely formatted for us already by Keras.\n",
    "\n",
    "Let's explore what its like to work with a more realistic data set.\n",
    "\n",
    "## The Data\n",
    "\n",
    "-----------\n",
    "\n",
    "## PLEASE NOTE: THIS DATASET IS VERY LARGE. IT CAN BE DOWNLOADED FROM THE PREVIOUS LECTURE. PLEASE WATCH THE VIDEO LECTURE ON HOW TO GET THE DATA.\n",
    "\n",
    "## USE OUR VERSION OF THE DATA. WE ALREADY ORGANIZED IT FOR YOU!!\n",
    "\n",
    "--------\n",
    "----------\n",
    "--------\n",
    "\n",
    "ORIGINAL DATA SOURCE:\n",
    "\n",
    "The dataset contains 2 folders - Infected - Uninfected\n",
    "\n",
    "And a total of 27,558 images.\n",
    "\n",
    "Acknowledgements\n",
    "This Dataset is taken from the official NIH Website: https://ceb.nlm.nih.gov/repositories/malaria-datasets/ \n",
    "\n",
    "**Note: We will be dealing with real image files, NOT numpy arrays. Which means a large part of this process will be learning how to work with and deal with large groups of image files. This is too much data to fit in memory as a numpy array, so we'll need to feed it into our model in batches. **\n",
    "\n",
    "### Visualizing the Data\n",
    "\n",
    "\n",
    "-------\n",
    "Let's take a closer look at the data."
   ]
  },
  {
   "cell_type": "code",
   "execution_count": 1,
   "metadata": {
    "ExecuteTime": {
     "end_time": "2020-05-05T20:25:47.813050Z",
     "start_time": "2020-05-05T20:25:45.906711Z"
    }
   },
   "outputs": [],
   "source": [
    "import os\n",
    "import pandas as pd\n",
    "import numpy as np\n",
    "import seaborn as sns\n",
    "import matplotlib.pyplot as plt\n",
    "from matplotlib.image import imread\n",
    "# Technically not necessary in newest versions of jupyter\n",
    "%matplotlib inline"
   ]
  },
  {
   "cell_type": "markdown",
   "metadata": {},
   "source": [
    "**TRIPLE CHECK WHERE YOUR FILES ARE DOWNLOADED AND UNZIPPED. PLEASE REVIEW VIDEO BEFORE POSTING TO QA FORUMS.**"
   ]
  },
  {
   "cell_type": "code",
   "execution_count": 5,
   "metadata": {
    "ExecuteTime": {
     "end_time": "2020-05-05T20:26:19.858259Z",
     "start_time": "2020-05-05T20:26:19.854171Z"
    }
   },
   "outputs": [],
   "source": [
    "my_data_dir = '/home/dipesh/Tensorflow-for-deep-learning/DATA/cell_images'"
   ]
  },
  {
   "cell_type": "code",
   "execution_count": 6,
   "metadata": {
    "ExecuteTime": {
     "end_time": "2020-05-05T20:26:21.923254Z",
     "start_time": "2020-05-05T20:26:21.913737Z"
    }
   },
   "outputs": [
    {
     "data": {
      "text/plain": [
       "['train', 'test']"
      ]
     },
     "execution_count": 6,
     "metadata": {},
     "output_type": "execute_result"
    }
   ],
   "source": [
    "# CONFIRM THAT THIS REPORTS BACK 'test', and 'train'\n",
    "os.listdir(my_data_dir) "
   ]
  },
  {
   "cell_type": "code",
   "execution_count": 13,
   "metadata": {
    "ExecuteTime": {
     "end_time": "2020-05-05T20:46:32.743814Z",
     "start_time": "2020-05-05T20:46:32.737604Z"
    }
   },
   "outputs": [],
   "source": [
    "test_path = my_data_dir+'/test'\n",
    "train_path = my_data_dir+'/train'"
   ]
  },
  {
   "cell_type": "code",
   "execution_count": 14,
   "metadata": {
    "ExecuteTime": {
     "end_time": "2020-05-05T20:46:33.888154Z",
     "start_time": "2020-05-05T20:46:33.882628Z"
    }
   },
   "outputs": [
    {
     "data": {
      "text/plain": [
       "['uninfected', 'parasitized']"
      ]
     },
     "execution_count": 14,
     "metadata": {},
     "output_type": "execute_result"
    }
   ],
   "source": [
    "os.listdir(test_path)"
   ]
  },
  {
   "cell_type": "code",
   "execution_count": 15,
   "metadata": {
    "ExecuteTime": {
     "end_time": "2020-05-05T20:46:35.264769Z",
     "start_time": "2020-05-05T20:46:35.258085Z"
    }
   },
   "outputs": [
    {
     "data": {
      "text/plain": [
       "['uninfected', 'parasitized']"
      ]
     },
     "execution_count": 15,
     "metadata": {},
     "output_type": "execute_result"
    }
   ],
   "source": [
    "os.listdir(train_path)"
   ]
  },
  {
   "cell_type": "code",
   "execution_count": 16,
   "metadata": {
    "ExecuteTime": {
     "end_time": "2020-05-05T20:46:36.398546Z",
     "start_time": "2020-05-05T20:46:36.375195Z"
    }
   },
   "outputs": [
    {
     "data": {
      "text/plain": [
       "'C136P97ThinF_IMG_20151005_141946_cell_106.png'"
      ]
     },
     "execution_count": 16,
     "metadata": {},
     "output_type": "execute_result"
    }
   ],
   "source": [
    "os.listdir(train_path+'/parasitized')[0]"
   ]
  },
  {
   "cell_type": "code",
   "execution_count": 17,
   "metadata": {
    "ExecuteTime": {
     "end_time": "2020-05-05T20:47:00.491841Z",
     "start_time": "2020-05-05T20:47:00.486147Z"
    }
   },
   "outputs": [],
   "source": [
    "para_cell = train_path+'/parasitized'+'/C100P61ThinF_IMG_20150918_144104_cell_162.png'"
   ]
  },
  {
   "cell_type": "code",
   "execution_count": 23,
   "metadata": {
    "ExecuteTime": {
     "end_time": "2020-05-05T20:50:51.447130Z",
     "start_time": "2020-05-05T20:50:51.437517Z"
    }
   },
   "outputs": [
    {
     "data": {
      "text/plain": [
       "'/home/dipesh/Tensorflow-for-deep-learning/DATA/cell_images/train/parasitized/C100P61ThinF_IMG_20150918_144104_cell_162.png'"
      ]
     },
     "execution_count": 23,
     "metadata": {},
     "output_type": "execute_result"
    }
   ],
   "source": [
    "para_cell"
   ]
  },
  {
   "cell_type": "code",
   "execution_count": 18,
   "metadata": {
    "ExecuteTime": {
     "end_time": "2020-05-05T20:47:01.589129Z",
     "start_time": "2020-05-05T20:47:01.548219Z"
    }
   },
   "outputs": [],
   "source": [
    "para_img= imread(para_cell)"
   ]
  },
  {
   "cell_type": "code",
   "execution_count": 24,
   "metadata": {
    "ExecuteTime": {
     "end_time": "2020-05-05T20:51:50.305675Z",
     "start_time": "2020-05-05T20:51:50.288678Z"
    }
   },
   "outputs": [
    {
     "data": {
      "text/plain": [
       "array([[[0., 0., 0.],\n",
       "        [0., 0., 0.],\n",
       "        [0., 0., 0.],\n",
       "        ...,\n",
       "        [0., 0., 0.],\n",
       "        [0., 0., 0.],\n",
       "        [0., 0., 0.]],\n",
       "\n",
       "       [[0., 0., 0.],\n",
       "        [0., 0., 0.],\n",
       "        [0., 0., 0.],\n",
       "        ...,\n",
       "        [0., 0., 0.],\n",
       "        [0., 0., 0.],\n",
       "        [0., 0., 0.]],\n",
       "\n",
       "       [[0., 0., 0.],\n",
       "        [0., 0., 0.],\n",
       "        [0., 0., 0.],\n",
       "        ...,\n",
       "        [0., 0., 0.],\n",
       "        [0., 0., 0.],\n",
       "        [0., 0., 0.]],\n",
       "\n",
       "       ...,\n",
       "\n",
       "       [[0., 0., 0.],\n",
       "        [0., 0., 0.],\n",
       "        [0., 0., 0.],\n",
       "        ...,\n",
       "        [0., 0., 0.],\n",
       "        [0., 0., 0.],\n",
       "        [0., 0., 0.]],\n",
       "\n",
       "       [[0., 0., 0.],\n",
       "        [0., 0., 0.],\n",
       "        [0., 0., 0.],\n",
       "        ...,\n",
       "        [0., 0., 0.],\n",
       "        [0., 0., 0.],\n",
       "        [0., 0., 0.]],\n",
       "\n",
       "       [[0., 0., 0.],\n",
       "        [0., 0., 0.],\n",
       "        [0., 0., 0.],\n",
       "        ...,\n",
       "        [0., 0., 0.],\n",
       "        [0., 0., 0.],\n",
       "        [0., 0., 0.]]], dtype=float32)"
      ]
     },
     "execution_count": 24,
     "metadata": {},
     "output_type": "execute_result"
    }
   ],
   "source": [
    "para_img"
   ]
  },
  {
   "cell_type": "code",
   "execution_count": 25,
   "metadata": {
    "ExecuteTime": {
     "end_time": "2020-05-05T20:52:05.202920Z",
     "start_time": "2020-05-05T20:52:05.191382Z"
    }
   },
   "outputs": [
    {
     "data": {
      "text/plain": [
       "(148, 142, 3)"
      ]
     },
     "execution_count": 25,
     "metadata": {},
     "output_type": "execute_result"
    }
   ],
   "source": [
    "para_img.shape"
   ]
  },
  {
   "cell_type": "code",
   "execution_count": 19,
   "metadata": {
    "ExecuteTime": {
     "end_time": "2020-05-05T20:47:02.723729Z",
     "start_time": "2020-05-05T20:47:02.543791Z"
    }
   },
   "outputs": [
    {
     "data": {
      "text/plain": [
       "<matplotlib.image.AxesImage at 0x7f8075455fd0>"
      ]
     },
     "execution_count": 19,
     "metadata": {},
     "output_type": "execute_result"
    },
    {
     "data": {
      "image/png": "[encoded data removed]",
      "text/plain": [
       "<Figure size 432x288 with 1 Axes>"
      ]
     },
     "metadata": {
      "needs_background": "light"
     },
     "output_type": "display_data"
    }
   ],
   "source": [
    "plt.imshow(para_img)"
   ]
  },
  {
   "cell_type": "code",
   "execution_count": 22,
   "metadata": {
    "ExecuteTime": {
     "end_time": "2020-05-05T20:47:46.226253Z",
     "start_time": "2020-05-05T20:47:46.050846Z"
    }
   },
   "outputs": [
    {
     "data": {
      "text/plain": [
       "<matplotlib.image.AxesImage at 0x7f8073292a90>"
      ]
     },
     "execution_count": 22,
     "metadata": {},
     "output_type": "execute_result"
    },
    {
     "data": {
      "image/png": "[encoded data removed]",
      "text/plain": [
       "<Figure size 432x288 with 1 Axes>"
      ]
     },
     "metadata": {
      "needs_background": "light"
     },
     "output_type": "display_data"
    }
   ],
   "source": [
    "unifected_cell_path = train_path+'/uninfected/'+os.listdir(train_path+'/uninfected')[0]\n",
    "unifected_cell = imread(unifected_cell_path)\n",
    "plt.imshow(unifected_cell)"
   ]
  },
  {
   "cell_type": "code",
   "execution_count": 26,
   "metadata": {
    "ExecuteTime": {
     "end_time": "2020-05-05T20:53:31.876073Z",
     "start_time": "2020-05-05T20:53:31.834192Z"
    }
   },
   "outputs": [
    {
     "data": {
      "text/plain": [
       "(100, 91, 3)"
      ]
     },
     "execution_count": 26,
     "metadata": {},
     "output_type": "execute_result"
    }
   ],
   "source": [
    "unifected_cell.shape"
   ]
  },
  {
   "cell_type": "markdown",
   "metadata": {},
   "source": [
    "**Let's check how many images there are.**"
   ]
  },
  {
   "cell_type": "code",
   "execution_count": 27,
   "metadata": {
    "ExecuteTime": {
     "end_time": "2020-05-05T20:55:38.531837Z",
     "start_time": "2020-05-05T20:55:38.507581Z"
    }
   },
   "outputs": [
    {
     "data": {
      "text/plain": [
       "12480"
      ]
     },
     "execution_count": 27,
     "metadata": {},
     "output_type": "execute_result"
    }
   ],
   "source": [
    "len(os.listdir(train_path+'/parasitized'))"
   ]
  },
  {
   "cell_type": "code",
   "execution_count": 28,
   "metadata": {
    "ExecuteTime": {
     "end_time": "2020-05-05T20:55:47.473263Z",
     "start_time": "2020-05-05T20:55:47.443288Z"
    }
   },
   "outputs": [
    {
     "data": {
      "text/plain": [
       "12480"
      ]
     },
     "execution_count": 28,
     "metadata": {},
     "output_type": "execute_result"
    }
   ],
   "source": [
    "len(os.listdir(train_path+'/uninfected'))"
   ]
  },
  {
   "cell_type": "markdown",
   "metadata": {},
   "source": [
    "**Let's find out the average dimensions of these images.**"
   ]
  },
  {
   "cell_type": "code",
   "execution_count": 57,
   "metadata": {},
   "outputs": [
    {
     "data": {
      "text/plain": [
       "(139, 160, 3)"
      ]
     },
     "execution_count": 57,
     "metadata": {},
     "output_type": "execute_result"
    }
   ],
   "source": [
    "unifected_cell.shape"
   ]
  },
  {
   "cell_type": "code",
   "execution_count": 58,
   "metadata": {},
   "outputs": [
    {
     "data": {
      "text/plain": [
       "(148, 142, 3)"
      ]
     },
     "execution_count": 58,
     "metadata": {},
     "output_type": "execute_result"
    }
   ],
   "source": [
    "para_img.shape"
   ]
  },
  {
   "cell_type": "code",
   "execution_count": 29,
   "metadata": {
    "ExecuteTime": {
     "end_time": "2020-05-05T20:59:21.317558Z",
     "start_time": "2020-05-05T20:59:20.388170Z"
    }
   },
   "outputs": [],
   "source": [
    "# Other options: https://stackoverflow.com/questions/1507084/how-to-check-dimensions-of-all-images-in-a-directory-using-python\n",
    "dim1 = []\n",
    "dim2 = []\n",
    "for image_filename in os.listdir(test_path+'/uninfected'):\n",
    "    \n",
    "    img = imread(test_path+'/uninfected'+'/'+image_filename)\n",
    "    d1,d2,colors = img.shape\n",
    "    dim1.append(d1)\n",
    "    dim2.append(d2)"
   ]
  },
  {
   "cell_type": "code",
   "execution_count": 30,
   "metadata": {
    "ExecuteTime": {
     "end_time": "2020-05-05T20:59:38.309993Z",
     "start_time": "2020-05-05T20:59:38.284238Z"
    }
   },
   "outputs": [
    {
     "data": {
      "text/plain": [
       "[136,\n",
       " 106,\n",
       " 115,\n",
       " 130,\n",
       " 142,\n",
       " 127,\n",
       " 154,\n",
       " 112,\n",
       " 139,\n",
       " 124,\n",
       " 121,\n",
       " 142,\n",
       " 115,\n",
       " 145,\n",
       " 121,\n",
       " 121,\n",
       " 133,\n",
       " 142,\n",
       " 118,\n",
       " 115,\n",
       " 163,\n",
       " 112,\n",
       " 145,\n",
       " 118,\n",
       " 166,\n",
       " 136,\n",
       " 121,\n",
       " 130,\n",
       " 127,\n",
       " 139,\n",
       " 133,\n",
       " 94,\n",
       " 97,\n",
       " 121,\n",
       " 106,\n",
       " 112,\n",
       " 121,\n",
       " 109,\n",
       " 121,\n",
       " 127,\n",
       " 124,\n",
       " 133,\n",
       " 139,\n",
       " 157,\n",
       " 115,\n",
       " 130,\n",
       " 139,\n",
       " 175,\n",
       " 145,\n",
       " 109,\n",
       " 127,\n",
       " 103,\n",
       " 121,\n",
       " 157,\n",
       " 115,\n",
       " 136,\n",
       " 124,\n",
       " 130,\n",
       " 130,\n",
       " 157,\n",
       " 127,\n",
       " 97,\n",
       " 127,\n",
       " 160,\n",
       " 112,\n",
       " 145,\n",
       " 136,\n",
       " 136,\n",
       " 139,\n",
       " 112,\n",
       " 166,\n",
       " 133,\n",
       " 145,\n",
       " 109,\n",
       " 148,\n",
       " 118,\n",
       " 139,\n",
       " 124,\n",
       " 121,\n",
       " 154,\n",
       " 121,\n",
       " 151,\n",
       " 112,\n",
       " 124,\n",
       " 121,\n",
       " 121,\n",
       " 145,\n",
       " 130,\n",
       " 130,\n",
       " 124,\n",
       " 145,\n",
       " 127,\n",
       " 142,\n",
       " 124,\n",
       " 193,\n",
       " 112,\n",
       " 136,\n",
       " 142,\n",
       " 199,\n",
       " 196,\n",
       " 103,\n",
       " 124,\n",
       " 160,\n",
       " 124,\n",
       " 127,\n",
       " 124,\n",
       " 148,\n",
       " 184,\n",
       " 130,\n",
       " 121,\n",
       " 112,\n",
       " 142,\n",
       " 121,\n",
       " 124,\n",
       " 130,\n",
       " 160,\n",
       " 115,\n",
       " 124,\n",
       " 115,\n",
       " 118,\n",
       " 118,\n",
       " 130,\n",
       " 130,\n",
       " 124,\n",
       " 103,\n",
       " 130,\n",
       " 118,\n",
       " 121,\n",
       " 154,\n",
       " 121,\n",
       " 70,\n",
       " 121,\n",
       " 124,\n",
       " 130,\n",
       " 124,\n",
       " 121,\n",
       " 118,\n",
       " 154,\n",
       " 142,\n",
       " 106,\n",
       " 127,\n",
       " 112,\n",
       " 139,\n",
       " 136,\n",
       " 127,\n",
       " 124,\n",
       " 142,\n",
       " 118,\n",
       " 118,\n",
       " 121,\n",
       " 130,\n",
       " 88,\n",
       " 133,\n",
       " 124,\n",
       " 112,\n",
       " 118,\n",
       " 169,\n",
       " 127,\n",
       " 139,\n",
       " 163,\n",
       " 148,\n",
       " 154,\n",
       " 133,\n",
       " 124,\n",
       " 106,\n",
       " 160,\n",
       " 130,\n",
       " 118,\n",
       " 121,\n",
       " 121,\n",
       " 109,\n",
       " 124,\n",
       " 130,\n",
       " 106,\n",
       " 106,\n",
       " 118,\n",
       " 130,\n",
       " 115,\n",
       " 136,\n",
       " 130,\n",
       " 154,\n",
       " 151,\n",
       " 136,\n",
       " 121,\n",
       " 118,\n",
       " 133,\n",
       " 142,\n",
       " 145,\n",
       " 139,\n",
       " 124,\n",
       " 124,\n",
       " 136,\n",
       " 61,\n",
       " 109,\n",
       " 85,\n",
       " 148,\n",
       " 88,\n",
       " 118,\n",
       " 124,\n",
       " 130,\n",
       " 118,\n",
       " 118,\n",
       " 85,\n",
       " 145,\n",
       " 94,\n",
       " 127,\n",
       " 166,\n",
       " 124,\n",
       " 118,\n",
       " 130,\n",
       " 136,\n",
       " 136,\n",
       " 169,\n",
       " 109,\n",
       " 136,\n",
       " 157,\n",
       " 148,\n",
       " 124,\n",
       " 121,\n",
       " 139,\n",
       " 121,\n",
       " 139,\n",
       " 124,\n",
       " 127,\n",
       " 160,\n",
       " 136,\n",
       " 127,\n",
       " 121,\n",
       " 154,\n",
       " 130,\n",
       " 130,\n",
       " 118,\n",
       " 121,\n",
       " 154,\n",
       " 145,\n",
       " 118,\n",
       " 124,\n",
       " 130,\n",
       " 181,\n",
       " 97,\n",
       " 112,\n",
       " 142,\n",
       " 130,\n",
       " 145,\n",
       " 118,\n",
       " 154,\n",
       " 157,\n",
       " 127,\n",
       " 118,\n",
       " 139,\n",
       " 148,\n",
       " 133,\n",
       " 199,\n",
       " 127,\n",
       " 109,\n",
       " 145,\n",
       " 124,\n",
       " 130,\n",
       " 91,\n",
       " 124,\n",
       " 145,\n",
       " 118,\n",
       " 172,\n",
       " 100,\n",
       " 154,\n",
       " 121,\n",
       " 106,\n",
       " 145,\n",
       " 145,\n",
       " 145,\n",
       " 118,\n",
       " 145,\n",
       " 139,\n",
       " 115,\n",
       " 169,\n",
       " 121,\n",
       " 130,\n",
       " 133,\n",
       " 130,\n",
       " 121,\n",
       " 142,\n",
       " 130,\n",
       " 115,\n",
       " 106,\n",
       " 160,\n",
       " 145,\n",
       " 85,\n",
       " 130,\n",
       " 115,\n",
       " 139,\n",
       " 127,\n",
       " 118,\n",
       " 97,\n",
       " 139,\n",
       " 148,\n",
       " 121,\n",
       " 121,\n",
       " 136,\n",
       " 115,\n",
       " 121,\n",
       " 148,\n",
       " 130,\n",
       " 142,\n",
       " 214,\n",
       " 118,\n",
       " 124,\n",
       " 136,\n",
       " 127,\n",
       " 127,\n",
       " 154,\n",
       " 139,\n",
       " 130,\n",
       " 163,\n",
       " 118,\n",
       " 181,\n",
       " 154,\n",
       " 154,\n",
       " 127,\n",
       " 184,\n",
       " 115,\n",
       " 112,\n",
       " 106,\n",
       " 118,\n",
       " 118,\n",
       " 130,\n",
       " 136,\n",
       " 124,\n",
       " 88,\n",
       " 91,\n",
       " 142,\n",
       " 127,\n",
       " 133,\n",
       " 145,\n",
       " 121,\n",
       " 160,\n",
       " 160,\n",
       " 130,\n",
       " 133,\n",
       " 115,\n",
       " 136,\n",
       " 136,\n",
       " 145,\n",
       " 127,\n",
       " 121,\n",
       " 121,\n",
       " 121,\n",
       " 154,\n",
       " 154,\n",
       " 136,\n",
       " 133,\n",
       " 121,\n",
       " 127,\n",
       " 118,\n",
       " 136,\n",
       " 109,\n",
       " 157,\n",
       " 103,\n",
       " 121,\n",
       " 133,\n",
       " 127,\n",
       " 139,\n",
       " 136,\n",
       " 142,\n",
       " 121,\n",
       " 124,\n",
       " 154,\n",
       " 130,\n",
       " 118,\n",
       " 142,\n",
       " 133,\n",
       " 124,\n",
       " 151,\n",
       " 118,\n",
       " 118,\n",
       " 136,\n",
       " 142,\n",
       " 136,\n",
       " 112,\n",
       " 124,\n",
       " 121,\n",
       " 124,\n",
       " 148,\n",
       " 154,\n",
       " 121,\n",
       " 130,\n",
       " 136,\n",
       " 109,\n",
       " 118,\n",
       " 121,\n",
       " 97,\n",
       " 136,\n",
       " 121,\n",
       " 124,\n",
       " 121,\n",
       " 145,\n",
       " 133,\n",
       " 130,\n",
       " 130,\n",
       " 127,\n",
       " 109,\n",
       " 133,\n",
       " 124,\n",
       " 136,\n",
       " 157,\n",
       " 133,\n",
       " 154,\n",
       " 121,\n",
       " 124,\n",
       " 133,\n",
       " 130,\n",
       " 121,\n",
       " 97,\n",
       " 130,\n",
       " 109,\n",
       " 163,\n",
       " 112,\n",
       " 115,\n",
       " 157,\n",
       " 160,\n",
       " 142,\n",
       " 124,\n",
       " 157,\n",
       " 115,\n",
       " 151,\n",
       " 112,\n",
       " 136,\n",
       " 169,\n",
       " 148,\n",
       " 88,\n",
       " 130,\n",
       " 115,\n",
       " 121,\n",
       " 118,\n",
       " 121,\n",
       " 175,\n",
       " 115,\n",
       " 139,\n",
       " 88,\n",
       " 130,\n",
       " 157,\n",
       " 124,\n",
       " 130,\n",
       " 130,\n",
       " 127,\n",
       " 136,\n",
       " 148,\n",
       " 130,\n",
       " 136,\n",
       " 127,\n",
       " 118,\n",
       " 100,\n",
       " 151,\n",
       " 124,\n",
       " 148,\n",
       " 97,\n",
       " 142,\n",
       " 133,\n",
       " 136,\n",
       " 118,\n",
       " 136,\n",
       " 145,\n",
       " 187,\n",
       " 148,\n",
       " 130,\n",
       " 118,\n",
       " 151,\n",
       " 130,\n",
       " 151,\n",
       " 121,\n",
       " 139,\n",
       " 121,\n",
       " 193,\n",
       " 127,\n",
       " 133,\n",
       " 106,\n",
       " 142,\n",
       " 133,\n",
       " 148,\n",
       " 130,\n",
       " 160,\n",
       " 160,\n",
       " 130,\n",
       " 124,\n",
       " 154,\n",
       " 109,\n",
       " 124,\n",
       " 142,\n",
       " 169,\n",
       " 127,\n",
       " 163,\n",
       " 118,\n",
       " 121,\n",
       " 121,\n",
       " 127,\n",
       " 118,\n",
       " 127,\n",
       " 124,\n",
       " 136,\n",
       " 142,\n",
       " 118,\n",
       " 172,\n",
       " 142,\n",
       " 112,\n",
       " 118,\n",
       " 130,\n",
       " 76,\n",
       " 151,\n",
       " 133,\n",
       " 136,\n",
       " 136,\n",
       " 151,\n",
       " 118,\n",
       " 139,\n",
       " 127,\n",
       " 160,\n",
       " 151,\n",
       " 112,\n",
       " 136,\n",
       " 124,\n",
       " 109,\n",
       " 133,\n",
       " 172,\n",
       " 106,\n",
       " 112,\n",
       " 127,\n",
       " 175,\n",
       " 130,\n",
       " 124,\n",
       " 121,\n",
       " 148,\n",
       " 139,\n",
       " 133,\n",
       " 130,\n",
       " 133,\n",
       " 97,\n",
       " 139,\n",
       " 118,\n",
       " 157,\n",
       " 109,\n",
       " 145,\n",
       " 163,\n",
       " 136,\n",
       " 130,\n",
       " 115,\n",
       " 157,\n",
       " 127,\n",
       " 133,\n",
       " 124,\n",
       " 151,\n",
       " 106,\n",
       " 127,\n",
       " 91,\n",
       " 118,\n",
       " 115,\n",
       " 157,\n",
       " 118,\n",
       " 130,\n",
       " 190,\n",
       " 145,\n",
       " 118,\n",
       " 97,\n",
       " 127,\n",
       " 139,\n",
       " 115,\n",
       " 136,\n",
       " 97,\n",
       " 142,\n",
       " 133,\n",
       " 136,\n",
       " 115,\n",
       " 103,\n",
       " 112,\n",
       " 148,\n",
       " 130,\n",
       " 127,\n",
       " 112,\n",
       " 127,\n",
       " 106,\n",
       " 127,\n",
       " 151,\n",
       " 127,\n",
       " 136,\n",
       " 130,\n",
       " 115,\n",
       " 115,\n",
       " 139,\n",
       " 130,\n",
       " 118,\n",
       " 115,\n",
       " 127,\n",
       " 139,\n",
       " 133,\n",
       " 103,\n",
       " 130,\n",
       " 127,\n",
       " 142,\n",
       " 121,\n",
       " 124,\n",
       " 127,\n",
       " 118,\n",
       " 136,\n",
       " 139,\n",
       " 139,\n",
       " 121,\n",
       " 157,\n",
       " 133,\n",
       " 115,\n",
       " 133,\n",
       " 121,\n",
       " 157,\n",
       " 133,\n",
       " 88,\n",
       " 139,\n",
       " 145,\n",
       " 130,\n",
       " 145,\n",
       " 172,\n",
       " 148,\n",
       " 118,\n",
       " 112,\n",
       " 130,\n",
       " 136,\n",
       " 118,\n",
       " 136,\n",
       " 112,\n",
       " 112,\n",
       " 118,\n",
       " 124,\n",
       " 130,\n",
       " 112,\n",
       " 124,\n",
       " 142,\n",
       " 136,\n",
       " 145,\n",
       " 121,\n",
       " 127,\n",
       " 145,\n",
       " 145,\n",
       " 133,\n",
       " 127,\n",
       " 169,\n",
       " 118,\n",
       " 115,\n",
       " 127,\n",
       " 130,\n",
       " 115,\n",
       " 133,\n",
       " 103,\n",
       " 112,\n",
       " 112,\n",
       " 148,\n",
       " 115,\n",
       " 130,\n",
       " 136,\n",
       " 130,\n",
       " 94,\n",
       " 124,\n",
       " 145,\n",
       " 130,\n",
       " 130,\n",
       " 100,\n",
       " 112,\n",
       " 124,\n",
       " 160,\n",
       " 103,\n",
       " 142,\n",
       " 133,\n",
       " 127,\n",
       " 139,\n",
       " 151,\n",
       " 118,\n",
       " 100,\n",
       " 136,\n",
       " 160,\n",
       " 142,\n",
       " 118,\n",
       " 109,\n",
       " 130,\n",
       " 106,\n",
       " 124,\n",
       " 133,\n",
       " 142,\n",
       " 121,\n",
       " 127,\n",
       " 124,\n",
       " 130,\n",
       " 157,\n",
       " 163,\n",
       " 154,\n",
       " 127,\n",
       " 133,\n",
       " 181,\n",
       " 145,\n",
       " 109,\n",
       " 103,\n",
       " 112,\n",
       " 112,\n",
       " 118,\n",
       " 166,\n",
       " 106,\n",
       " 172,\n",
       " 136,\n",
       " 121,\n",
       " 172,\n",
       " 136,\n",
       " 124,\n",
       " 121,\n",
       " 133,\n",
       " 142,\n",
       " 121,\n",
       " 106,\n",
       " 136,\n",
       " 139,\n",
       " 121,\n",
       " 109,\n",
       " 136,\n",
       " 121,\n",
       " 127,\n",
       " 136,\n",
       " 115,\n",
       " 178,\n",
       " 145,\n",
       " 106,\n",
       " 127,\n",
       " 112,\n",
       " 157,\n",
       " 130,\n",
       " 130,\n",
       " 133,\n",
       " 121,\n",
       " 121,\n",
       " 106,\n",
       " 130,\n",
       " 157,\n",
       " 133,\n",
       " 127,\n",
       " 178,\n",
       " 136,\n",
       " 118,\n",
       " 112,\n",
       " 169,\n",
       " 133,\n",
       " 112,\n",
       " 121,\n",
       " 103,\n",
       " 142,\n",
       " 127,\n",
       " 184,\n",
       " 148,\n",
       " 166,\n",
       " 139,\n",
       " 97,\n",
       " 127,\n",
       " 136,\n",
       " 142,\n",
       " 145,\n",
       " 103,\n",
       " 136,\n",
       " 133,\n",
       " 112,\n",
       " 106,\n",
       " 121,\n",
       " 151,\n",
       " 130,\n",
       " 154,\n",
       " 124,\n",
       " 163,\n",
       " 130,\n",
       " 127,\n",
       " 103,\n",
       " 127,\n",
       " 106,\n",
       " 130,\n",
       " 133,\n",
       " 130,\n",
       " 145,\n",
       " 133,\n",
       " 136,\n",
       " 169,\n",
       " 115,\n",
       " 118,\n",
       " 121,\n",
       " 148,\n",
       " 103,\n",
       " 109,\n",
       " 130,\n",
       " 121,\n",
       " 145,\n",
       " 115,\n",
       " 130,\n",
       " 124,\n",
       " 160,\n",
       " 124,\n",
       " 106,\n",
       " 127,\n",
       " 157,\n",
       " 136,\n",
       " 124,\n",
       " 130,\n",
       " 148,\n",
       " 148,\n",
       " 145,\n",
       " 103,\n",
       " 148,\n",
       " 142,\n",
       " 106,\n",
       " 115,\n",
       " 142,\n",
       " 175,\n",
       " 127,\n",
       " 106,\n",
       " 142,\n",
       " 115,\n",
       " 136,\n",
       " 136,\n",
       " 115,\n",
       " 127,\n",
       " 136,\n",
       " 130,\n",
       " 154,\n",
       " 100,\n",
       " 151,\n",
       " 121,\n",
       " 154,\n",
       " 112,\n",
       " 127,\n",
       " 97,\n",
       " 139,\n",
       " 139,\n",
       " 118,\n",
       " 121,\n",
       " 118,\n",
       " 121,\n",
       " 130,\n",
       " 133,\n",
       " 163,\n",
       " 148,\n",
       " 130,\n",
       " 133,\n",
       " 136,\n",
       " 124,\n",
       " 127,\n",
       " 133,\n",
       " 127,\n",
       " 115,\n",
       " 127,\n",
       " 124,\n",
       " 106,\n",
       " 133,\n",
       " 106,\n",
       " 154,\n",
       " 139,\n",
       " 121,\n",
       " 118,\n",
       " 118,\n",
       " 136,\n",
       " 148,\n",
       " 118,\n",
       " 118,\n",
       " 151,\n",
       " 142,\n",
       " 163,\n",
       " 127,\n",
       " 106,\n",
       " 190,\n",
       " 145,\n",
       " 160,\n",
       " 130,\n",
       " 118,\n",
       " 127,\n",
       " 124,\n",
       " 136,\n",
       " 112,\n",
       " 160,\n",
       " 70,\n",
       " 124,\n",
       " 142,\n",
       " 97,\n",
       " 151,\n",
       " 181,\n",
       " 148,\n",
       " 142,\n",
       " 136,\n",
       " 136,\n",
       " 112,\n",
       " 142,\n",
       " 151,\n",
       " 133,\n",
       " 142,\n",
       " 151,\n",
       " 136,\n",
       " 124,\n",
       " 133,\n",
       " 103,\n",
       " 148,\n",
       " 115,\n",
       " 133,\n",
       " 127,\n",
       " 133,\n",
       " 160,\n",
       " 115,\n",
       " 136,\n",
       " 130,\n",
       " 166,\n",
       " 121,\n",
       " 124,\n",
       " 139,\n",
       " 133,\n",
       " 148,\n",
       " 148,\n",
       " 145,\n",
       " 106,\n",
       " 142,\n",
       " 124,\n",
       " 136,\n",
       " 112,\n",
       " 127,\n",
       " 166,\n",
       " 124,\n",
       " 118,\n",
       " 154,\n",
       " 148,\n",
       " 130,\n",
       " 118,\n",
       " 142,\n",
       " 151,\n",
       " 154,\n",
       " 166,\n",
       " 115,\n",
       " 133,\n",
       " 127,\n",
       " 136,\n",
       " 139,\n",
       " 118,\n",
       " 118,\n",
       " 94,\n",
       " 106,\n",
       " 130,\n",
       " 127,\n",
       " 130,\n",
       " 172,\n",
       " 148,\n",
       " 130,\n",
       " 145,\n",
       " 124,\n",
       " 211,\n",
       " 160,\n",
       " 142,\n",
       " 184,\n",
       " 157,\n",
       " 136,\n",
       " 136,\n",
       " 130,\n",
       " 115,\n",
       " 127,\n",
       " 136,\n",
       " 133,\n",
       " 133,\n",
       " 157,\n",
       " 130,\n",
       " 127,\n",
       " 172,\n",
       " 133,\n",
       " 115,\n",
       " 124,\n",
       " 103,\n",
       " 127,\n",
       " 115,\n",
       " 148,\n",
       " 133,\n",
       " 115,\n",
       " 106,\n",
       " 166,\n",
       " 115,\n",
       " 112,\n",
       " 115,\n",
       " 118,\n",
       " 145,\n",
       " 133,\n",
       " 133,\n",
       " 151,\n",
       " 139,\n",
       " 115,\n",
       " 136,\n",
       " 127,\n",
       " 139,\n",
       " 142,\n",
       " 130,\n",
       " 109,\n",
       " 130,\n",
       " 127,\n",
       " 133,\n",
       " 100,\n",
       " 112,\n",
       " 160,\n",
       " 124,\n",
       " 127,\n",
       " 124,\n",
       " 136,\n",
       " 145,\n",
       " ...]"
      ]
     },
     "execution_count": 30,
     "metadata": {},
     "output_type": "execute_result"
    }
   ],
   "source": [
    "dim1"
   ]
  },
  {
   "cell_type": "code",
   "execution_count": 31,
   "metadata": {
    "ExecuteTime": {
     "end_time": "2020-05-05T20:59:47.939112Z",
     "start_time": "2020-05-05T20:59:47.894186Z"
    }
   },
   "outputs": [
    {
     "data": {
      "text/plain": [
       "[154,\n",
       " 118,\n",
       " 94,\n",
       " 133,\n",
       " 145,\n",
       " 130,\n",
       " 190,\n",
       " 124,\n",
       " 136,\n",
       " 124,\n",
       " 118,\n",
       " 157,\n",
       " 118,\n",
       " 139,\n",
       " 112,\n",
       " 124,\n",
       " 136,\n",
       " 142,\n",
       " 94,\n",
       " 100,\n",
       " 178,\n",
       " 133,\n",
       " 124,\n",
       " 112,\n",
       " 118,\n",
       " 130,\n",
       " 130,\n",
       " 139,\n",
       " 115,\n",
       " 124,\n",
       " 139,\n",
       " 94,\n",
       " 130,\n",
       " 121,\n",
       " 133,\n",
       " 106,\n",
       " 160,\n",
       " 121,\n",
       " 121,\n",
       " 121,\n",
       " 115,\n",
       " 124,\n",
       " 139,\n",
       " 163,\n",
       " 130,\n",
       " 130,\n",
       " 139,\n",
       " 163,\n",
       " 145,\n",
       " 121,\n",
       " 136,\n",
       " 121,\n",
       " 124,\n",
       " 124,\n",
       " 124,\n",
       " 148,\n",
       " 151,\n",
       " 139,\n",
       " 154,\n",
       " 127,\n",
       " 133,\n",
       " 91,\n",
       " 139,\n",
       " 151,\n",
       " 106,\n",
       " 160,\n",
       " 139,\n",
       " 118,\n",
       " 133,\n",
       " 127,\n",
       " 148,\n",
       " 85,\n",
       " 130,\n",
       " 106,\n",
       " 148,\n",
       " 127,\n",
       " 145,\n",
       " 124,\n",
       " 127,\n",
       " 118,\n",
       " 121,\n",
       " 127,\n",
       " 124,\n",
       " 130,\n",
       " 121,\n",
       " 172,\n",
       " 139,\n",
       " 139,\n",
       " 148,\n",
       " 130,\n",
       " 196,\n",
       " 133,\n",
       " 142,\n",
       " 124,\n",
       " 163,\n",
       " 115,\n",
       " 130,\n",
       " 154,\n",
       " 160,\n",
       " 142,\n",
       " 106,\n",
       " 112,\n",
       " 121,\n",
       " 127,\n",
       " 118,\n",
       " 148,\n",
       " 145,\n",
       " 142,\n",
       " 127,\n",
       " 196,\n",
       " 130,\n",
       " 124,\n",
       " 136,\n",
       " 115,\n",
       " 121,\n",
       " 121,\n",
       " 133,\n",
       " 133,\n",
       " 124,\n",
       " 121,\n",
       " 118,\n",
       " 157,\n",
       " 139,\n",
       " 115,\n",
       " 127,\n",
       " 133,\n",
       " 148,\n",
       " 112,\n",
       " 136,\n",
       " 124,\n",
       " 76,\n",
       " 127,\n",
       " 121,\n",
       " 136,\n",
       " 130,\n",
       " 127,\n",
       " 112,\n",
       " 130,\n",
       " 142,\n",
       " 103,\n",
       " 148,\n",
       " 112,\n",
       " 142,\n",
       " 139,\n",
       " 118,\n",
       " 151,\n",
       " 127,\n",
       " 121,\n",
       " 118,\n",
       " 124,\n",
       " 130,\n",
       " 88,\n",
       " 133,\n",
       " 133,\n",
       " 142,\n",
       " 115,\n",
       " 142,\n",
       " 157,\n",
       " 133,\n",
       " 145,\n",
       " 214,\n",
       " 151,\n",
       " 124,\n",
       " 136,\n",
       " 118,\n",
       " 151,\n",
       " 136,\n",
       " 112,\n",
       " 91,\n",
       " 124,\n",
       " 100,\n",
       " 169,\n",
       " 142,\n",
       " 142,\n",
       " 109,\n",
       " 118,\n",
       " 103,\n",
       " 127,\n",
       " 127,\n",
       " 142,\n",
       " 151,\n",
       " 160,\n",
       " 130,\n",
       " 118,\n",
       " 127,\n",
       " 139,\n",
       " 124,\n",
       " 127,\n",
       " 139,\n",
       " 118,\n",
       " 118,\n",
       " 130,\n",
       " 79,\n",
       " 127,\n",
       " 94,\n",
       " 112,\n",
       " 79,\n",
       " 109,\n",
       " 127,\n",
       " 136,\n",
       " 109,\n",
       " 112,\n",
       " 73,\n",
       " 166,\n",
       " 103,\n",
       " 139,\n",
       " 148,\n",
       " 127,\n",
       " 121,\n",
       " 160,\n",
       " 154,\n",
       " 133,\n",
       " 124,\n",
       " 121,\n",
       " 124,\n",
       " 136,\n",
       " 133,\n",
       " 142,\n",
       " 124,\n",
       " 136,\n",
       " 145,\n",
       " 148,\n",
       " 100,\n",
       " 133,\n",
       " 139,\n",
       " 103,\n",
       " 160,\n",
       " 136,\n",
       " 133,\n",
       " 127,\n",
       " 148,\n",
       " 112,\n",
       " 184,\n",
       " 160,\n",
       " 139,\n",
       " 109,\n",
       " 121,\n",
       " 133,\n",
       " 157,\n",
       " 118,\n",
       " 109,\n",
       " 121,\n",
       " 145,\n",
       " 130,\n",
       " 100,\n",
       " 151,\n",
       " 118,\n",
       " 139,\n",
       " 106,\n",
       " 133,\n",
       " 133,\n",
       " 106,\n",
       " 139,\n",
       " 133,\n",
       " 112,\n",
       " 145,\n",
       " 133,\n",
       " 115,\n",
       " 130,\n",
       " 145,\n",
       " 121,\n",
       " 145,\n",
       " 133,\n",
       " 109,\n",
       " 133,\n",
       " 127,\n",
       " 124,\n",
       " 133,\n",
       " 112,\n",
       " 145,\n",
       " 130,\n",
       " 145,\n",
       " 127,\n",
       " 118,\n",
       " 217,\n",
       " 106,\n",
       " 133,\n",
       " 133,\n",
       " 112,\n",
       " 142,\n",
       " 124,\n",
       " 136,\n",
       " 127,\n",
       " 109,\n",
       " 151,\n",
       " 139,\n",
       " 79,\n",
       " 151,\n",
       " 127,\n",
       " 127,\n",
       " 118,\n",
       " 106,\n",
       " 100,\n",
       " 139,\n",
       " 178,\n",
       " 130,\n",
       " 127,\n",
       " 136,\n",
       " 127,\n",
       " 124,\n",
       " 112,\n",
       " 127,\n",
       " 163,\n",
       " 202,\n",
       " 127,\n",
       " 121,\n",
       " 124,\n",
       " 121,\n",
       " 124,\n",
       " 106,\n",
       " 136,\n",
       " 133,\n",
       " 142,\n",
       " 133,\n",
       " 160,\n",
       " 112,\n",
       " 148,\n",
       " 130,\n",
       " 175,\n",
       " 109,\n",
       " 118,\n",
       " 112,\n",
       " 136,\n",
       " 151,\n",
       " 124,\n",
       " 142,\n",
       " 124,\n",
       " 109,\n",
       " 106,\n",
       " 130,\n",
       " 118,\n",
       " 115,\n",
       " 148,\n",
       " 136,\n",
       " 160,\n",
       " 133,\n",
       " 130,\n",
       " 145,\n",
       " 121,\n",
       " 127,\n",
       " 148,\n",
       " 142,\n",
       " 127,\n",
       " 127,\n",
       " 127,\n",
       " 112,\n",
       " 100,\n",
       " 151,\n",
       " 163,\n",
       " 130,\n",
       " 124,\n",
       " 121,\n",
       " 118,\n",
       " 127,\n",
       " 124,\n",
       " 169,\n",
       " 100,\n",
       " 130,\n",
       " 133,\n",
       " 112,\n",
       " 145,\n",
       " 136,\n",
       " 133,\n",
       " 136,\n",
       " 121,\n",
       " 124,\n",
       " 151,\n",
       " 115,\n",
       " 127,\n",
       " 121,\n",
       " 124,\n",
       " 136,\n",
       " 118,\n",
       " 127,\n",
       " 145,\n",
       " 130,\n",
       " 121,\n",
       " 115,\n",
       " 124,\n",
       " 130,\n",
       " 133,\n",
       " 142,\n",
       " 142,\n",
       " 127,\n",
       " 142,\n",
       " 136,\n",
       " 145,\n",
       " 130,\n",
       " 151,\n",
       " 100,\n",
       " 118,\n",
       " 130,\n",
       " 145,\n",
       " 130,\n",
       " 139,\n",
       " 127,\n",
       " 151,\n",
       " 130,\n",
       " 115,\n",
       " 112,\n",
       " 133,\n",
       " 148,\n",
       " 172,\n",
       " 136,\n",
       " 118,\n",
       " 130,\n",
       " 142,\n",
       " 127,\n",
       " 109,\n",
       " 118,\n",
       " 115,\n",
       " 109,\n",
       " 148,\n",
       " 136,\n",
       " 118,\n",
       " 121,\n",
       " 112,\n",
       " 142,\n",
       " 154,\n",
       " 133,\n",
       " 118,\n",
       " 151,\n",
       " 121,\n",
       " 175,\n",
       " 145,\n",
       " 136,\n",
       " 148,\n",
       " 148,\n",
       " 91,\n",
       " 151,\n",
       " 121,\n",
       " 133,\n",
       " 124,\n",
       " 136,\n",
       " 157,\n",
       " 88,\n",
       " 154,\n",
       " 121,\n",
       " 154,\n",
       " 142,\n",
       " 115,\n",
       " 127,\n",
       " 169,\n",
       " 127,\n",
       " 136,\n",
       " 139,\n",
       " 142,\n",
       " 133,\n",
       " 124,\n",
       " 94,\n",
       " 112,\n",
       " 160,\n",
       " 136,\n",
       " 169,\n",
       " 106,\n",
       " 136,\n",
       " 148,\n",
       " 145,\n",
       " 112,\n",
       " 139,\n",
       " 136,\n",
       " 133,\n",
       " 130,\n",
       " 151,\n",
       " 154,\n",
       " 121,\n",
       " 121,\n",
       " 136,\n",
       " 115,\n",
       " 133,\n",
       " 142,\n",
       " 181,\n",
       " 115,\n",
       " 124,\n",
       " 109,\n",
       " 115,\n",
       " 157,\n",
       " 142,\n",
       " 142,\n",
       " 145,\n",
       " 151,\n",
       " 136,\n",
       " 136,\n",
       " 151,\n",
       " 118,\n",
       " 121,\n",
       " 154,\n",
       " 127,\n",
       " 121,\n",
       " 124,\n",
       " 118,\n",
       " 106,\n",
       " 139,\n",
       " 118,\n",
       " 112,\n",
       " 127,\n",
       " 106,\n",
       " 136,\n",
       " 118,\n",
       " 124,\n",
       " 136,\n",
       " 139,\n",
       " 130,\n",
       " 130,\n",
       " 133,\n",
       " 109,\n",
       " 160,\n",
       " 133,\n",
       " 121,\n",
       " 163,\n",
       " 145,\n",
       " 136,\n",
       " 139,\n",
       " 133,\n",
       " 148,\n",
       " 142,\n",
       " 103,\n",
       " 154,\n",
       " 139,\n",
       " 115,\n",
       " 139,\n",
       " 121,\n",
       " 109,\n",
       " 121,\n",
       " 142,\n",
       " 124,\n",
       " 127,\n",
       " 130,\n",
       " 136,\n",
       " 103,\n",
       " 130,\n",
       " 136,\n",
       " 142,\n",
       " 130,\n",
       " 82,\n",
       " 139,\n",
       " 142,\n",
       " 160,\n",
       " 118,\n",
       " 130,\n",
       " 151,\n",
       " 142,\n",
       " 166,\n",
       " 205,\n",
       " 142,\n",
       " 142,\n",
       " 118,\n",
       " 124,\n",
       " 133,\n",
       " 100,\n",
       " 121,\n",
       " 109,\n",
       " 133,\n",
       " 124,\n",
       " 166,\n",
       " 112,\n",
       " 127,\n",
       " 151,\n",
       " 142,\n",
       " 118,\n",
       " 103,\n",
       " 124,\n",
       " 133,\n",
       " 115,\n",
       " 136,\n",
       " 94,\n",
       " 160,\n",
       " 145,\n",
       " 127,\n",
       " 136,\n",
       " 139,\n",
       " 100,\n",
       " 115,\n",
       " 124,\n",
       " 130,\n",
       " 130,\n",
       " 124,\n",
       " 103,\n",
       " 127,\n",
       " 193,\n",
       " 127,\n",
       " 145,\n",
       " 130,\n",
       " 133,\n",
       " 124,\n",
       " 133,\n",
       " 136,\n",
       " 112,\n",
       " 106,\n",
       " 142,\n",
       " 148,\n",
       " 121,\n",
       " 115,\n",
       " 124,\n",
       " 133,\n",
       " 118,\n",
       " 127,\n",
       " 124,\n",
       " 127,\n",
       " 121,\n",
       " 148,\n",
       " 139,\n",
       " 187,\n",
       " 136,\n",
       " 166,\n",
       " 118,\n",
       " 148,\n",
       " 136,\n",
       " 148,\n",
       " 157,\n",
       " 121,\n",
       " 94,\n",
       " 145,\n",
       " 145,\n",
       " 139,\n",
       " 118,\n",
       " 160,\n",
       " 172,\n",
       " 115,\n",
       " 103,\n",
       " 157,\n",
       " 127,\n",
       " 130,\n",
       " 157,\n",
       " 103,\n",
       " 145,\n",
       " 172,\n",
       " 118,\n",
       " 118,\n",
       " 163,\n",
       " 121,\n",
       " 115,\n",
       " 136,\n",
       " 139,\n",
       " 130,\n",
       " 139,\n",
       " 148,\n",
       " 121,\n",
       " 136,\n",
       " 139,\n",
       " 124,\n",
       " 115,\n",
       " 124,\n",
       " 145,\n",
       " 133,\n",
       " 121,\n",
       " 178,\n",
       " 100,\n",
       " 112,\n",
       " 124,\n",
       " 139,\n",
       " 112,\n",
       " 142,\n",
       " 148,\n",
       " 145,\n",
       " 100,\n",
       " 136,\n",
       " 127,\n",
       " 139,\n",
       " 133,\n",
       " 100,\n",
       " 121,\n",
       " 118,\n",
       " 178,\n",
       " 115,\n",
       " 130,\n",
       " 139,\n",
       " 130,\n",
       " 148,\n",
       " 190,\n",
       " 136,\n",
       " 103,\n",
       " 157,\n",
       " 166,\n",
       " 145,\n",
       " 133,\n",
       " 136,\n",
       " 139,\n",
       " 115,\n",
       " 118,\n",
       " 133,\n",
       " 145,\n",
       " 124,\n",
       " 124,\n",
       " 124,\n",
       " 136,\n",
       " 127,\n",
       " 136,\n",
       " 136,\n",
       " 130,\n",
       " 124,\n",
       " 196,\n",
       " 124,\n",
       " 118,\n",
       " 106,\n",
       " 106,\n",
       " 106,\n",
       " 118,\n",
       " 133,\n",
       " 106,\n",
       " 139,\n",
       " 121,\n",
       " 130,\n",
       " 145,\n",
       " 136,\n",
       " 118,\n",
       " 100,\n",
       " 124,\n",
       " 121,\n",
       " 175,\n",
       " 112,\n",
       " 127,\n",
       " 133,\n",
       " 142,\n",
       " 106,\n",
       " 145,\n",
       " 121,\n",
       " 145,\n",
       " 133,\n",
       " 109,\n",
       " 127,\n",
       " 139,\n",
       " 124,\n",
       " 112,\n",
       " 133,\n",
       " 115,\n",
       " 151,\n",
       " 112,\n",
       " 139,\n",
       " 154,\n",
       " 118,\n",
       " 106,\n",
       " 139,\n",
       " 154,\n",
       " 136,\n",
       " 151,\n",
       " 148,\n",
       " 151,\n",
       " 118,\n",
       " 130,\n",
       " 163,\n",
       " 118,\n",
       " 124,\n",
       " 106,\n",
       " 109,\n",
       " 148,\n",
       " 133,\n",
       " 145,\n",
       " 160,\n",
       " 154,\n",
       " 139,\n",
       " 109,\n",
       " 136,\n",
       " 115,\n",
       " 133,\n",
       " 127,\n",
       " 103,\n",
       " 118,\n",
       " 112,\n",
       " 106,\n",
       " 124,\n",
       " 145,\n",
       " 136,\n",
       " 142,\n",
       " 151,\n",
       " 130,\n",
       " 154,\n",
       " 115,\n",
       " 118,\n",
       " 91,\n",
       " 118,\n",
       " 100,\n",
       " 127,\n",
       " 148,\n",
       " 133,\n",
       " 139,\n",
       " 124,\n",
       " 127,\n",
       " 154,\n",
       " 151,\n",
       " 109,\n",
       " 115,\n",
       " 121,\n",
       " 133,\n",
       " 109,\n",
       " 124,\n",
       " 178,\n",
       " 142,\n",
       " 100,\n",
       " 133,\n",
       " 148,\n",
       " 154,\n",
       " 142,\n",
       " 133,\n",
       " 160,\n",
       " 106,\n",
       " 127,\n",
       " 115,\n",
       " 112,\n",
       " 142,\n",
       " 142,\n",
       " 148,\n",
       " 103,\n",
       " 142,\n",
       " 106,\n",
       " 118,\n",
       " 103,\n",
       " 145,\n",
       " 151,\n",
       " 151,\n",
       " 109,\n",
       " 172,\n",
       " 130,\n",
       " 139,\n",
       " 133,\n",
       " 112,\n",
       " 139,\n",
       " 139,\n",
       " 127,\n",
       " 121,\n",
       " 94,\n",
       " 148,\n",
       " 115,\n",
       " 148,\n",
       " 112,\n",
       " 112,\n",
       " 100,\n",
       " 142,\n",
       " 139,\n",
       " 145,\n",
       " 124,\n",
       " 118,\n",
       " 118,\n",
       " 136,\n",
       " 118,\n",
       " 151,\n",
       " 142,\n",
       " 139,\n",
       " 142,\n",
       " 127,\n",
       " 118,\n",
       " 130,\n",
       " 133,\n",
       " 127,\n",
       " 103,\n",
       " 157,\n",
       " 118,\n",
       " 154,\n",
       " 130,\n",
       " 100,\n",
       " 121,\n",
       " 139,\n",
       " 142,\n",
       " 127,\n",
       " 133,\n",
       " 121,\n",
       " 136,\n",
       " 118,\n",
       " 139,\n",
       " 139,\n",
       " 106,\n",
       " 124,\n",
       " 112,\n",
       " 124,\n",
       " 130,\n",
       " 115,\n",
       " 127,\n",
       " 115,\n",
       " 130,\n",
       " 130,\n",
       " 115,\n",
       " 118,\n",
       " 124,\n",
       " 184,\n",
       " 64,\n",
       " 106,\n",
       " 112,\n",
       " 121,\n",
       " 127,\n",
       " 121,\n",
       " 142,\n",
       " 136,\n",
       " 157,\n",
       " 139,\n",
       " 103,\n",
       " 139,\n",
       " 151,\n",
       " 121,\n",
       " 121,\n",
       " 121,\n",
       " 160,\n",
       " 118,\n",
       " 115,\n",
       " 124,\n",
       " 127,\n",
       " 121,\n",
       " 115,\n",
       " 124,\n",
       " 118,\n",
       " 121,\n",
       " 124,\n",
       " 133,\n",
       " 151,\n",
       " 136,\n",
       " 190,\n",
       " 133,\n",
       " 130,\n",
       " 139,\n",
       " 139,\n",
       " 145,\n",
       " 136,\n",
       " 106,\n",
       " 148,\n",
       " 124,\n",
       " 130,\n",
       " 112,\n",
       " 121,\n",
       " 163,\n",
       " 109,\n",
       " 133,\n",
       " 142,\n",
       " 139,\n",
       " 115,\n",
       " 145,\n",
       " 121,\n",
       " 142,\n",
       " 115,\n",
       " 133,\n",
       " 154,\n",
       " 124,\n",
       " 160,\n",
       " 142,\n",
       " 136,\n",
       " 127,\n",
       " 100,\n",
       " 70,\n",
       " 133,\n",
       " 121,\n",
       " 124,\n",
       " 130,\n",
       " 148,\n",
       " 124,\n",
       " 127,\n",
       " 166,\n",
       " 115,\n",
       " 160,\n",
       " 166,\n",
       " 130,\n",
       " 157,\n",
       " 109,\n",
       " 130,\n",
       " 124,\n",
       " 166,\n",
       " 148,\n",
       " 136,\n",
       " 124,\n",
       " 124,\n",
       " 142,\n",
       " 139,\n",
       " 133,\n",
       " 133,\n",
       " 217,\n",
       " 118,\n",
       " 121,\n",
       " 136,\n",
       " 94,\n",
       " 136,\n",
       " 115,\n",
       " 190,\n",
       " 142,\n",
       " 136,\n",
       " 115,\n",
       " 130,\n",
       " 121,\n",
       " 121,\n",
       " 118,\n",
       " 118,\n",
       " 148,\n",
       " 127,\n",
       " 121,\n",
       " 163,\n",
       " 130,\n",
       " 130,\n",
       " 136,\n",
       " 133,\n",
       " 136,\n",
       " 124,\n",
       " 133,\n",
       " 97,\n",
       " 142,\n",
       " 112,\n",
       " 103,\n",
       " 133,\n",
       " 136,\n",
       " 133,\n",
       " 133,\n",
       " 136,\n",
       " 148,\n",
       " 130,\n",
       " 148,\n",
       " ...]"
      ]
     },
     "execution_count": 31,
     "metadata": {},
     "output_type": "execute_result"
    }
   ],
   "source": [
    "dim2"
   ]
  },
  {
   "cell_type": "code",
   "execution_count": 32,
   "metadata": {
    "ExecuteTime": {
     "end_time": "2020-05-05T20:59:52.823585Z",
     "start_time": "2020-05-05T20:59:51.916057Z"
    }
   },
   "outputs": [
    {
     "data": {
      "text/plain": [
       "<seaborn.axisgrid.JointGrid at 0x7f8072502210>"
      ]
     },
     "execution_count": 32,
     "metadata": {},
     "output_type": "execute_result"
    },
    {
     "data": {
      "image/png": "[encoded data removed]",
      "text/plain": [
       "<Figure size 432x432 with 3 Axes>"
      ]
     },
     "metadata": {
      "needs_background": "light"
     },
     "output_type": "display_data"
    }
   ],
   "source": [
    "sns.jointplot(dim1,dim2)"
   ]
  },
  {
   "cell_type": "code",
   "execution_count": 33,
   "metadata": {
    "ExecuteTime": {
     "end_time": "2020-05-05T21:00:55.198787Z",
     "start_time": "2020-05-05T21:00:55.188122Z"
    }
   },
   "outputs": [
    {
     "data": {
      "text/plain": [
       "130.92538461538462"
      ]
     },
     "execution_count": 33,
     "metadata": {},
     "output_type": "execute_result"
    }
   ],
   "source": [
    "np.mean(dim1)"
   ]
  },
  {
   "cell_type": "code",
   "execution_count": 34,
   "metadata": {
    "ExecuteTime": {
     "end_time": "2020-05-05T21:00:56.155115Z",
     "start_time": "2020-05-05T21:00:56.146547Z"
    }
   },
   "outputs": [
    {
     "data": {
      "text/plain": [
       "130.75"
      ]
     },
     "execution_count": 34,
     "metadata": {},
     "output_type": "execute_result"
    }
   ],
   "source": [
    "np.mean(dim2)"
   ]
  },
  {
   "cell_type": "code",
   "execution_count": 35,
   "metadata": {
    "ExecuteTime": {
     "end_time": "2020-05-05T21:00:57.054187Z",
     "start_time": "2020-05-05T21:00:57.040151Z"
    }
   },
   "outputs": [],
   "source": [
    "image_shape = (130,130,3)"
   ]
  },
  {
   "cell_type": "markdown",
   "metadata": {},
   "source": [
    "## Preparing the Data for the model\n",
    "\n",
    "There is too much data for us to read all at once in memory. We can use some built in functions in Keras to automatically process the data, generate a flow of batches from a directory, and also manipulate the images.\n",
    "\n",
    "### Image Manipulation\n",
    "\n",
    "Its usually a good idea to manipulate the images with rotation, resizing, and scaling so the model becomes more robust to different images that our data set doesn't have. We can use the **ImageDataGenerator** to do this automatically for us. Check out the documentation for a full list of all the parameters you can use here!"
   ]
  },
  {
   "cell_type": "code",
   "execution_count": 75,
   "metadata": {},
   "outputs": [],
   "source": [
    "from tensorflow.keras.preprocessing.image import ImageDataGenerator"
   ]
  },
  {
   "cell_type": "code",
   "execution_count": 76,
   "metadata": {},
   "outputs": [
    {
     "name": "stdout",
     "output_type": "stream",
     "text": [
      "Help on class ImageDataGenerator in module tensorflow.python.keras.preprocessing.image:\n",
      "\n",
      "class ImageDataGenerator(keras_preprocessing.image.image_data_generator.ImageDataGenerator)\n",
      " |  ImageDataGenerator(featurewise_center=False, samplewise_center=False, featurewise_std_normalization=False, samplewise_std_normalization=False, zca_whitening=False, zca_epsilon=1e-06, rotation_range=0, width_shift_range=0.0, height_shift_range=0.0, brightness_range=None, shear_range=0.0, zoom_range=0.0, channel_shift_range=0.0, fill_mode='nearest', cval=0.0, horizontal_flip=False, vertical_flip=False, rescale=None, preprocessing_function=None, data_format=None, validation_split=0.0, dtype=None)\n",
      " |  \n",
      " |  Generate batches of tensor image data with real-time data augmentation.\n",
      " |  \n",
      " |   The data will be looped over (in batches).\n",
      " |  \n",
      " |  Arguments:\n",
      " |      featurewise_center: Boolean.\n",
      " |          Set input mean to 0 over the dataset, feature-wise.\n",
      " |      samplewise_center: Boolean. Set each sample mean to 0.\n",
      " |      featurewise_std_normalization: Boolean.\n",
      " |          Divide inputs by std of the dataset, feature-wise.\n",
      " |      samplewise_std_normalization: Boolean. Divide each input by its std.\n",
      " |      zca_epsilon: epsilon for ZCA whitening. Default is 1e-6.\n",
      " |      zca_whitening: Boolean. Apply ZCA whitening.\n",
      " |      rotation_range: Int. Degree range for random rotations.\n",
      " |      width_shift_range: Float, 1-D array-like or int\n",
      " |          - float: fraction of total width, if < 1, or pixels if >= 1.\n",
      " |          - 1-D array-like: random elements from the array.\n",
      " |          - int: integer number of pixels from interval\n",
      " |              `(-width_shift_range, +width_shift_range)`\n",
      " |          - With `width_shift_range=2` possible values\n",
      " |              are integers `[-1, 0, +1]`,\n",
      " |              same as with `width_shift_range=[-1, 0, +1]`,\n",
      " |              while with `width_shift_range=1.0` possible values are floats\n",
      " |              in the interval [-1.0, +1.0).\n",
      " |      height_shift_range: Float, 1-D array-like or int\n",
      " |          - float: fraction of total height, if < 1, or pixels if >= 1.\n",
      " |          - 1-D array-like: random elements from the array.\n",
      " |          - int: integer number of pixels from interval\n",
      " |              `(-height_shift_range, +height_shift_range)`\n",
      " |          - With `height_shift_range=2` possible values\n",
      " |              are integers `[-1, 0, +1]`,\n",
      " |              same as with `height_shift_range=[-1, 0, +1]`,\n",
      " |              while with `height_shift_range=1.0` possible values are floats\n",
      " |              in the interval [-1.0, +1.0).\n",
      " |      brightness_range: Tuple or list of two floats. Range for picking\n",
      " |          a brightness shift value from.\n",
      " |      shear_range: Float. Shear Intensity\n",
      " |          (Shear angle in counter-clockwise direction in degrees)\n",
      " |      zoom_range: Float or [lower, upper]. Range for random zoom.\n",
      " |          If a float, `[lower, upper] = [1-zoom_range, 1+zoom_range]`.\n",
      " |      channel_shift_range: Float. Range for random channel shifts.\n",
      " |      fill_mode: One of {\"constant\", \"nearest\", \"reflect\" or \"wrap\"}.\n",
      " |          Default is 'nearest'.\n",
      " |          Points outside the boundaries of the input are filled\n",
      " |          according to the given mode:\n",
      " |          - 'constant': kkkkkkkk|abcd|kkkkkkkk (cval=k)\n",
      " |          - 'nearest':  aaaaaaaa|abcd|dddddddd\n",
      " |          - 'reflect':  abcddcba|abcd|dcbaabcd\n",
      " |          - 'wrap':  abcdabcd|abcd|abcdabcd\n",
      " |      cval: Float or Int.\n",
      " |          Value used for points outside the boundaries\n",
      " |          when `fill_mode = \"constant\"`.\n",
      " |      horizontal_flip: Boolean. Randomly flip inputs horizontally.\n",
      " |      vertical_flip: Boolean. Randomly flip inputs vertically.\n",
      " |      rescale: rescaling factor. Defaults to None.\n",
      " |          If None or 0, no rescaling is applied,\n",
      " |          otherwise we multiply the data by the value provided\n",
      " |          (after applying all other transformations).\n",
      " |      preprocessing_function: function that will be implied on each input.\n",
      " |          The function will run after the image is resized and augmented.\n",
      " |          The function should take one argument:\n",
      " |          one image (Numpy tensor with rank 3),\n",
      " |          and should output a Numpy tensor with the same shape.\n",
      " |      data_format: Image data format,\n",
      " |          either \"channels_first\" or \"channels_last\".\n",
      " |          \"channels_last\" mode means that the images should have shape\n",
      " |          `(samples, height, width, channels)`,\n",
      " |          \"channels_first\" mode means that the images should have shape\n",
      " |          `(samples, channels, height, width)`.\n",
      " |          It defaults to the `image_data_format` value found in your\n",
      " |          Keras config file at `~/.keras/keras.json`.\n",
      " |          If you never set it, then it will be \"channels_last\".\n",
      " |      validation_split: Float. Fraction of images reserved for validation\n",
      " |          (strictly between 0 and 1).\n",
      " |      dtype: Dtype to use for the generated arrays.\n",
      " |  \n",
      " |  Examples:\n",
      " |  \n",
      " |  Example of using `.flow(x, y)`:\n",
      " |  \n",
      " |  ```python\n",
      " |  (x_train, y_train), (x_test, y_test) = cifar10.load_data()\n",
      " |  y_train = np_utils.to_categorical(y_train, num_classes)\n",
      " |  y_test = np_utils.to_categorical(y_test, num_classes)\n",
      " |  datagen = ImageDataGenerator(\n",
      " |      featurewise_center=True,\n",
      " |      featurewise_std_normalization=True,\n",
      " |      rotation_range=20,\n",
      " |      width_shift_range=0.2,\n",
      " |      height_shift_range=0.2,\n",
      " |      horizontal_flip=True)\n",
      " |  # compute quantities required for featurewise normalization\n",
      " |  # (std, mean, and principal components if ZCA whitening is applied)\n",
      " |  datagen.fit(x_train)\n",
      " |  # fits the model on batches with real-time data augmentation:\n",
      " |  model.fit_generator(datagen.flow(x_train, y_train, batch_size=32),\n",
      " |                      steps_per_epoch=len(x_train) / 32, epochs=epochs)\n",
      " |  # here's a more \"manual\" example\n",
      " |  for e in range(epochs):\n",
      " |      print('Epoch', e)\n",
      " |      batches = 0\n",
      " |      for x_batch, y_batch in datagen.flow(x_train, y_train, batch_size=32):\n",
      " |          model.fit(x_batch, y_batch)\n",
      " |          batches += 1\n",
      " |          if batches >= len(x_train) / 32:\n",
      " |              # we need to break the loop by hand because\n",
      " |              # the generator loops indefinitely\n",
      " |              break\n",
      " |  ```\n",
      " |  \n",
      " |  Example of using `.flow_from_directory(directory)`:\n",
      " |  \n",
      " |  ```python\n",
      " |  train_datagen = ImageDataGenerator(\n",
      " |          rescale=1./255,\n",
      " |          shear_range=0.2,\n",
      " |          zoom_range=0.2,\n",
      " |          horizontal_flip=True)\n",
      " |  test_datagen = ImageDataGenerator(rescale=1./255)\n",
      " |  train_generator = train_datagen.flow_from_directory(\n",
      " |          'data/train',\n",
      " |          target_size=(150, 150),\n",
      " |          batch_size=32,\n",
      " |          class_mode='binary')\n",
      " |  validation_generator = test_datagen.flow_from_directory(\n",
      " |          'data/validation',\n",
      " |          target_size=(150, 150),\n",
      " |          batch_size=32,\n",
      " |          class_mode='binary')\n",
      " |  model.fit_generator(\n",
      " |          train_generator,\n",
      " |          steps_per_epoch=2000,\n",
      " |          epochs=50,\n",
      " |          validation_data=validation_generator,\n",
      " |          validation_steps=800)\n",
      " |  ```\n",
      " |  \n",
      " |  Example of transforming images and masks together.\n",
      " |  \n",
      " |  ```python\n",
      " |  # we create two instances with the same arguments\n",
      " |  data_gen_args = dict(featurewise_center=True,\n",
      " |                       featurewise_std_normalization=True,\n",
      " |                       rotation_range=90,\n",
      " |                       width_shift_range=0.1,\n",
      " |                       height_shift_range=0.1,\n",
      " |                       zoom_range=0.2)\n",
      " |  image_datagen = ImageDataGenerator(**data_gen_args)\n",
      " |  mask_datagen = ImageDataGenerator(**data_gen_args)\n",
      " |  # Provide the same seed and keyword arguments to the fit and flow methods\n",
      " |  seed = 1\n",
      " |  image_datagen.fit(images, augment=True, seed=seed)\n",
      " |  mask_datagen.fit(masks, augment=True, seed=seed)\n",
      " |  image_generator = image_datagen.flow_from_directory(\n",
      " |      'data/images',\n",
      " |      class_mode=None,\n",
      " |      seed=seed)\n",
      " |  mask_generator = mask_datagen.flow_from_directory(\n",
      " |      'data/masks',\n",
      " |      class_mode=None,\n",
      " |      seed=seed)\n",
      " |  # combine generators into one which yields image and masks\n",
      " |  train_generator = zip(image_generator, mask_generator)\n",
      " |  model.fit_generator(\n",
      " |      train_generator,\n",
      " |      steps_per_epoch=2000,\n",
      " |      epochs=50)\n",
      " |  ```\n",
      " |  \n",
      " |  Method resolution order:\n",
      " |      ImageDataGenerator\n",
      " |      keras_preprocessing.image.image_data_generator.ImageDataGenerator\n",
      " |      builtins.object\n",
      " |  \n",
      " |  Methods defined here:\n",
      " |  \n",
      " |  __init__(self, featurewise_center=False, samplewise_center=False, featurewise_std_normalization=False, samplewise_std_normalization=False, zca_whitening=False, zca_epsilon=1e-06, rotation_range=0, width_shift_range=0.0, height_shift_range=0.0, brightness_range=None, shear_range=0.0, zoom_range=0.0, channel_shift_range=0.0, fill_mode='nearest', cval=0.0, horizontal_flip=False, vertical_flip=False, rescale=None, preprocessing_function=None, data_format=None, validation_split=0.0, dtype=None)\n",
      " |      Initialize self.  See help(type(self)) for accurate signature.\n",
      " |  \n",
      " |  ----------------------------------------------------------------------\n",
      " |  Methods inherited from keras_preprocessing.image.image_data_generator.ImageDataGenerator:\n",
      " |  \n",
      " |  apply_transform(self, x, transform_parameters)\n",
      " |      Applies a transformation to an image according to given parameters.\n",
      " |      \n",
      " |      # Arguments\n",
      " |          x: 3D tensor, single image.\n",
      " |          transform_parameters: Dictionary with string - parameter pairs\n",
      " |              describing the transformation.\n",
      " |              Currently, the following parameters\n",
      " |              from the dictionary are used:\n",
      " |              - `'theta'`: Float. Rotation angle in degrees.\n",
      " |              - `'tx'`: Float. Shift in the x direction.\n",
      " |              - `'ty'`: Float. Shift in the y direction.\n",
      " |              - `'shear'`: Float. Shear angle in degrees.\n",
      " |              - `'zx'`: Float. Zoom in the x direction.\n",
      " |              - `'zy'`: Float. Zoom in the y direction.\n",
      " |              - `'flip_horizontal'`: Boolean. Horizontal flip.\n",
      " |              - `'flip_vertical'`: Boolean. Vertical flip.\n",
      " |              - `'channel_shift_intencity'`: Float. Channel shift intensity.\n",
      " |              - `'brightness'`: Float. Brightness shift intensity.\n",
      " |      \n",
      " |      # Returns\n",
      " |          A transformed version of the input (same shape).\n",
      " |  \n",
      " |  fit(self, x, augment=False, rounds=1, seed=None)\n",
      " |      Fits the data generator to some sample data.\n",
      " |      \n",
      " |      This computes the internal data stats related to the\n",
      " |      data-dependent transformations, based on an array of sample data.\n",
      " |      \n",
      " |      Only required if `featurewise_center` or\n",
      " |      `featurewise_std_normalization` or `zca_whitening` are set to True.\n",
      " |      \n",
      " |      # Arguments\n",
      " |          x: Sample data. Should have rank 4.\n",
      " |           In case of grayscale data,\n",
      " |           the channels axis should have value 1, in case\n",
      " |           of RGB data, it should have value 3, and in case\n",
      " |           of RGBA data, it should have value 4.\n",
      " |          augment: Boolean (default: False).\n",
      " |              Whether to fit on randomly augmented samples.\n",
      " |          rounds: Int (default: 1).\n",
      " |              If using data augmentation (`augment=True`),\n",
      " |              this is how many augmentation passes over the data to use.\n",
      " |          seed: Int (default: None). Random seed.\n",
      " |  \n",
      " |  flow(self, x, y=None, batch_size=32, shuffle=True, sample_weight=None, seed=None, save_to_dir=None, save_prefix='', save_format='png', subset=None)\n",
      " |      Takes data & label arrays, generates batches of augmented data.\n",
      " |      \n",
      " |      # Arguments\n",
      " |          x: Input data. Numpy array of rank 4 or a tuple.\n",
      " |              If tuple, the first element\n",
      " |              should contain the images and the second element\n",
      " |              another numpy array or a list of numpy arrays\n",
      " |              that gets passed to the output\n",
      " |              without any modifications.\n",
      " |              Can be used to feed the model miscellaneous data\n",
      " |              along with the images.\n",
      " |              In case of grayscale data, the channels axis of the image array\n",
      " |              should have value 1, in case\n",
      " |              of RGB data, it should have value 3, and in case\n",
      " |              of RGBA data, it should have value 4.\n",
      " |          y: Labels.\n",
      " |          batch_size: Int (default: 32).\n",
      " |          shuffle: Boolean (default: True).\n",
      " |          sample_weight: Sample weights.\n",
      " |          seed: Int (default: None).\n",
      " |          save_to_dir: None or str (default: None).\n",
      " |              This allows you to optionally specify a directory\n",
      " |              to which to save the augmented pictures being generated\n",
      " |              (useful for visualizing what you are doing).\n",
      " |          save_prefix: Str (default: `''`).\n",
      " |              Prefix to use for filenames of saved pictures\n",
      " |              (only relevant if `save_to_dir` is set).\n",
      " |          save_format: one of \"png\", \"jpeg\"\n",
      " |              (only relevant if `save_to_dir` is set). Default: \"png\".\n",
      " |          subset: Subset of data (`\"training\"` or `\"validation\"`) if\n",
      " |              `validation_split` is set in `ImageDataGenerator`.\n",
      " |      \n",
      " |      # Returns\n",
      " |          An `Iterator` yielding tuples of `(x, y)`\n",
      " |              where `x` is a numpy array of image data\n",
      " |              (in the case of a single image input) or a list\n",
      " |              of numpy arrays (in the case with\n",
      " |              additional inputs) and `y` is a numpy array\n",
      " |              of corresponding labels. If 'sample_weight' is not None,\n",
      " |              the yielded tuples are of the form `(x, y, sample_weight)`.\n",
      " |              If `y` is None, only the numpy array `x` is returned.\n",
      " |  \n",
      " |  flow_from_dataframe(self, dataframe, directory=None, x_col='filename', y_col='class', weight_col=None, target_size=(256, 256), color_mode='rgb', classes=None, class_mode='categorical', batch_size=32, shuffle=True, seed=None, save_to_dir=None, save_prefix='', save_format='png', subset=None, interpolation='nearest', validate_filenames=True, **kwargs)\n",
      " |      Takes the dataframe and the path to a directory\n",
      " |       and generates batches of augmented/normalized data.\n",
      " |      \n",
      " |      **A simple tutorial can be found **[here](\n",
      " |                                  http://bit.ly/keras_flow_from_dataframe).\n",
      " |      \n",
      " |      # Arguments\n",
      " |          dataframe: Pandas dataframe containing the filepaths relative to\n",
      " |              `directory` (or absolute paths if `directory` is None) of the\n",
      " |              images in a string column. It should include other column/s\n",
      " |              depending on the `class_mode`:\n",
      " |              - if `class_mode` is `\"categorical\"` (default value) it must\n",
      " |                  include the `y_col` column with the class/es of each image.\n",
      " |                  Values in column can be string/list/tuple if a single class\n",
      " |                  or list/tuple if multiple classes.\n",
      " |              - if `class_mode` is `\"binary\"` or `\"sparse\"` it must include\n",
      " |                  the given `y_col` column with class values as strings.\n",
      " |              - if `class_mode` is `\"raw\"` or `\"multi_output\"` it should contain\n",
      " |              the columns specified in `y_col`.\n",
      " |              - if `class_mode` is `\"input\"` or `None` no extra column is needed.\n",
      " |          directory: string, path to the directory to read images from. If `None`,\n",
      " |              data in `x_col` column should be absolute paths.\n",
      " |          x_col: string, column in `dataframe` that contains the filenames (or\n",
      " |              absolute paths if `directory` is `None`).\n",
      " |          y_col: string or list, column/s in `dataframe` that has the target data.\n",
      " |          weight_col: string, column in `dataframe` that contains the sample\n",
      " |              weights. Default: `None`.\n",
      " |          target_size: tuple of integers `(height, width)`, default: `(256, 256)`.\n",
      " |              The dimensions to which all images found will be resized.\n",
      " |          color_mode: one of \"grayscale\", \"rgb\", \"rgba\". Default: \"rgb\".\n",
      " |              Whether the images will be converted to have 1 or 3 color channels.\n",
      " |          classes: optional list of classes (e.g. `['dogs', 'cats']`).\n",
      " |              Default: None. If not provided, the list of classes will be\n",
      " |              automatically inferred from the `y_col`,\n",
      " |              which will map to the label indices, will be alphanumeric).\n",
      " |              The dictionary containing the mapping from class names to class\n",
      " |              indices can be obtained via the attribute `class_indices`.\n",
      " |          class_mode: one of \"binary\", \"categorical\", \"input\", \"multi_output\",\n",
      " |              \"raw\", sparse\" or None. Default: \"categorical\".\n",
      " |              Mode for yielding the targets:\n",
      " |              - `\"binary\"`: 1D numpy array of binary labels,\n",
      " |              - `\"categorical\"`: 2D numpy array of one-hot encoded labels.\n",
      " |                  Supports multi-label output.\n",
      " |              - `\"input\"`: images identical to input images (mainly used to\n",
      " |                  work with autoencoders),\n",
      " |              - `\"multi_output\"`: list with the values of the different columns,\n",
      " |              - `\"raw\"`: numpy array of values in `y_col` column(s),\n",
      " |              - `\"sparse\"`: 1D numpy array of integer labels,\n",
      " |              - `None`, no targets are returned (the generator will only yield\n",
      " |                  batches of image data, which is useful to use in\n",
      " |                  `model.predict_generator()`).\n",
      " |          batch_size: size of the batches of data (default: 32).\n",
      " |          shuffle: whether to shuffle the data (default: True)\n",
      " |          seed: optional random seed for shuffling and transformations.\n",
      " |          save_to_dir: None or str (default: None).\n",
      " |              This allows you to optionally specify a directory\n",
      " |              to which to save the augmented pictures being generated\n",
      " |              (useful for visualizing what you are doing).\n",
      " |          save_prefix: str. Prefix to use for filenames of saved pictures\n",
      " |              (only relevant if `save_to_dir` is set).\n",
      " |          save_format: one of \"png\", \"jpeg\"\n",
      " |              (only relevant if `save_to_dir` is set). Default: \"png\".\n",
      " |          follow_links: whether to follow symlinks inside class subdirectories\n",
      " |              (default: False).\n",
      " |          subset: Subset of data (`\"training\"` or `\"validation\"`) if\n",
      " |              `validation_split` is set in `ImageDataGenerator`.\n",
      " |          interpolation: Interpolation method used to resample the image if the\n",
      " |              target size is different from that of the loaded image.\n",
      " |              Supported methods are `\"nearest\"`, `\"bilinear\"`, and `\"bicubic\"`.\n",
      " |              If PIL version 1.1.3 or newer is installed, `\"lanczos\"` is also\n",
      " |              supported. If PIL version 3.4.0 or newer is installed, `\"box\"` and\n",
      " |              `\"hamming\"` are also supported. By default, `\"nearest\"` is used.\n",
      " |          validate_filenames: Boolean, whether to validate image filenames in\n",
      " |              `x_col`. If `True`, invalid images will be ignored. Disabling this\n",
      " |              option can lead to speed-up in the execution of this function.\n",
      " |              Default: `True`.\n",
      " |      \n",
      " |      # Returns\n",
      " |          A `DataFrameIterator` yielding tuples of `(x, y)`\n",
      " |          where `x` is a numpy array containing a batch\n",
      " |          of images with shape `(batch_size, *target_size, channels)`\n",
      " |          and `y` is a numpy array of corresponding labels.\n",
      " |  \n",
      " |  flow_from_directory(self, directory, target_size=(256, 256), color_mode='rgb', classes=None, class_mode='categorical', batch_size=32, shuffle=True, seed=None, save_to_dir=None, save_prefix='', save_format='png', follow_links=False, subset=None, interpolation='nearest')\n",
      " |      Takes the path to a directory & generates batches of augmented data.\n",
      " |      \n",
      " |      # Arguments\n",
      " |          directory: string, path to the target directory.\n",
      " |              It should contain one subdirectory per class.\n",
      " |              Any PNG, JPG, BMP, PPM or TIF images\n",
      " |              inside each of the subdirectories directory tree\n",
      " |              will be included in the generator.\n",
      " |              See [this script](\n",
      " |              https://gist.github.com/fchollet/0830affa1f7f19fd47b06d4cf89ed44d)\n",
      " |              for more details.\n",
      " |          target_size: Tuple of integers `(height, width)`,\n",
      " |              default: `(256, 256)`.\n",
      " |              The dimensions to which all images found will be resized.\n",
      " |          color_mode: One of \"grayscale\", \"rgb\", \"rgba\". Default: \"rgb\".\n",
      " |              Whether the images will be converted to\n",
      " |              have 1, 3, or 4 channels.\n",
      " |          classes: Optional list of class subdirectories\n",
      " |              (e.g. `['dogs', 'cats']`). Default: None.\n",
      " |              If not provided, the list of classes will be automatically\n",
      " |              inferred from the subdirectory names/structure\n",
      " |              under `directory`, where each subdirectory will\n",
      " |              be treated as a different class\n",
      " |              (and the order of the classes, which will map to the label\n",
      " |              indices, will be alphanumeric).\n",
      " |              The dictionary containing the mapping from class names to class\n",
      " |              indices can be obtained via the attribute `class_indices`.\n",
      " |          class_mode: One of \"categorical\", \"binary\", \"sparse\",\n",
      " |              \"input\", or None. Default: \"categorical\".\n",
      " |              Determines the type of label arrays that are returned:\n",
      " |              - \"categorical\" will be 2D one-hot encoded labels,\n",
      " |              - \"binary\" will be 1D binary labels,\n",
      " |                  \"sparse\" will be 1D integer labels,\n",
      " |              - \"input\" will be images identical\n",
      " |                  to input images (mainly used to work with autoencoders).\n",
      " |              - If None, no labels are returned\n",
      " |                (the generator will only yield batches of image data,\n",
      " |                which is useful to use with `model.predict_generator()`).\n",
      " |                Please note that in case of class_mode None,\n",
      " |                the data still needs to reside in a subdirectory\n",
      " |                of `directory` for it to work correctly.\n",
      " |          batch_size: Size of the batches of data (default: 32).\n",
      " |          shuffle: Whether to shuffle the data (default: True)\n",
      " |              If set to False, sorts the data in alphanumeric order.\n",
      " |          seed: Optional random seed for shuffling and transformations.\n",
      " |          save_to_dir: None or str (default: None).\n",
      " |              This allows you to optionally specify\n",
      " |              a directory to which to save\n",
      " |              the augmented pictures being generated\n",
      " |              (useful for visualizing what you are doing).\n",
      " |          save_prefix: Str. Prefix to use for filenames of saved pictures\n",
      " |              (only relevant if `save_to_dir` is set).\n",
      " |          save_format: One of \"png\", \"jpeg\"\n",
      " |              (only relevant if `save_to_dir` is set). Default: \"png\".\n",
      " |          follow_links: Whether to follow symlinks inside\n",
      " |              class subdirectories (default: False).\n",
      " |          subset: Subset of data (`\"training\"` or `\"validation\"`) if\n",
      " |              `validation_split` is set in `ImageDataGenerator`.\n",
      " |          interpolation: Interpolation method used to\n",
      " |              resample the image if the\n",
      " |              target size is different from that of the loaded image.\n",
      " |              Supported methods are `\"nearest\"`, `\"bilinear\"`,\n",
      " |              and `\"bicubic\"`.\n",
      " |              If PIL version 1.1.3 or newer is installed, `\"lanczos\"` is also\n",
      " |              supported. If PIL version 3.4.0 or newer is installed,\n",
      " |              `\"box\"` and `\"hamming\"` are also supported.\n",
      " |              By default, `\"nearest\"` is used.\n",
      " |      \n",
      " |      # Returns\n",
      " |          A `DirectoryIterator` yielding tuples of `(x, y)`\n",
      " |              where `x` is a numpy array containing a batch\n",
      " |              of images with shape `(batch_size, *target_size, channels)`\n",
      " |              and `y` is a numpy array of corresponding labels.\n",
      " |  \n",
      " |  get_random_transform(self, img_shape, seed=None)\n",
      " |      Generates random parameters for a transformation.\n",
      " |      \n",
      " |      # Arguments\n",
      " |          seed: Random seed.\n",
      " |          img_shape: Tuple of integers.\n",
      " |              Shape of the image that is transformed.\n",
      " |      \n",
      " |      # Returns\n",
      " |          A dictionary containing randomly chosen parameters describing the\n",
      " |          transformation.\n",
      " |  \n",
      " |  random_transform(self, x, seed=None)\n",
      " |      Applies a random transformation to an image.\n",
      " |      \n",
      " |      # Arguments\n",
      " |          x: 3D tensor, single image.\n",
      " |          seed: Random seed.\n",
      " |      \n",
      " |      # Returns\n",
      " |          A randomly transformed version of the input (same shape).\n",
      " |  \n",
      " |  standardize(self, x)\n",
      " |      Applies the normalization configuration in-place to a batch of inputs.\n",
      " |      \n",
      " |      `x` is changed in-place since the function is mainly used internally\n",
      " |      to standarize images and feed them to your network. If a copy of `x`\n",
      " |      would be created instead it would have a significant performance cost.\n",
      " |      If you want to apply this method without changing the input in-place\n",
      " |      you can call the method creating a copy before:\n",
      " |      \n",
      " |      standarize(np.copy(x))\n",
      " |      \n",
      " |      # Arguments\n",
      " |          x: Batch of inputs to be normalized.\n",
      " |      \n",
      " |      # Returns\n",
      " |          The inputs, normalized.\n",
      " |  \n",
      " |  ----------------------------------------------------------------------\n",
      " |  Data descriptors inherited from keras_preprocessing.image.image_data_generator.ImageDataGenerator:\n",
      " |  \n",
      " |  __dict__\n",
      " |      dictionary for instance variables (if defined)\n",
      " |  \n",
      " |  __weakref__\n",
      " |      list of weak references to the object (if defined)\n",
      "\n"
     ]
    }
   ],
   "source": [
    "help(ImageDataGenerator)"
   ]
  },
  {
   "cell_type": "code",
   "execution_count": 44,
   "metadata": {},
   "outputs": [],
   "source": [
    "image_gen = ImageDataGenerator(rotation_range=20, # rotate the image 20 degrees\n",
    "                               width_shift_range=0.10, # Shift the pic width by a max of 5%\n",
    "                               height_shift_range=0.10, # Shift the pic height by a max of 5%\n",
    "                               rescale=1/255, # Rescale the image by normalzing it.\n",
    "                               shear_range=0.1, # Shear means cutting away part of the image (max 10%)\n",
    "                               zoom_range=0.1, # Zoom in by 10% max\n",
    "                               horizontal_flip=True, # Allo horizontal flipping\n",
    "                               fill_mode='nearest' # Fill in missing pixels with the nearest filled value\n",
    "                              )"
   ]
  },
  {
   "cell_type": "code",
   "execution_count": 60,
   "metadata": {},
   "outputs": [
    {
     "data": {
      "text/plain": [
       "<matplotlib.image.AxesImage at 0x1cfff868908>"
      ]
     },
     "execution_count": 60,
     "metadata": {},
     "output_type": "execute_result"
    },
    {
     "data": {
      "image/png": "[encoded data removed]",
      "text/plain": [
       "<Figure size 432x288 with 1 Axes>"
      ]
     },
     "metadata": {
      "needs_background": "light"
     },
     "output_type": "display_data"
    }
   ],
   "source": [
    "plt.imshow(para_img)"
   ]
  },
  {
   "cell_type": "code",
   "execution_count": 63,
   "metadata": {},
   "outputs": [
    {
     "data": {
      "text/plain": [
       "<matplotlib.image.AxesImage at 0x1cfff989188>"
      ]
     },
     "execution_count": 63,
     "metadata": {},
     "output_type": "execute_result"
    },
    {
     "data": {
      "image/png": "[encoded data removed]",
      "text/plain": [
       "<Figure size 432x288 with 1 Axes>"
      ]
     },
     "metadata": {
      "needs_background": "light"
     },
     "output_type": "display_data"
    }
   ],
   "source": [
    "plt.imshow(image_gen.random_transform(para_img))"
   ]
  },
  {
   "cell_type": "code",
   "execution_count": 64,
   "metadata": {},
   "outputs": [
    {
     "data": {
      "text/plain": [
       "<matplotlib.image.AxesImage at 0x1cfffae2048>"
      ]
     },
     "execution_count": 64,
     "metadata": {},
     "output_type": "execute_result"
    },
    {
     "data": {
      "image/png": "[encoded data removed]",
      "text/plain": [
       "<Figure size 432x288 with 1 Axes>"
      ]
     },
     "metadata": {
      "needs_background": "light"
     },
     "output_type": "display_data"
    }
   ],
   "source": [
    "plt.imshow(image_gen.random_transform(para_img))"
   ]
  },
  {
   "cell_type": "markdown",
   "metadata": {},
   "source": [
    "### Generating many manipulated images from a directory\n",
    "\n",
    "\n",
    "In order to use .flow_from_directory, you must organize the images in sub-directories. This is an absolute requirement, otherwise the method won't work. The directories should only contain images of one class, so one folder per class of images.\n",
    "\n",
    "Structure Needed:\n",
    "\n",
    "* Image Data Folder\n",
    "    * Class 1\n",
    "        * 0.jpg\n",
    "        * 1.jpg\n",
    "        * ...\n",
    "    * Class 2\n",
    "        * 0.jpg\n",
    "        * 1.jpg\n",
    "        * ...\n",
    "    * ...\n",
    "    * Class n"
   ]
  },
  {
   "cell_type": "code",
   "execution_count": 65,
   "metadata": {},
   "outputs": [
    {
     "name": "stdout",
     "output_type": "stream",
     "text": [
      "Found 24958 images belonging to 2 classes.\n"
     ]
    },
    {
     "data": {
      "text/plain": [
       "<keras_preprocessing.image.directory_iterator.DirectoryIterator at 0x1cfff9f71c8>"
      ]
     },
     "execution_count": 65,
     "metadata": {},
     "output_type": "execute_result"
    }
   ],
   "source": [
    "image_gen.flow_from_directory(train_path)"
   ]
  },
  {
   "cell_type": "code",
   "execution_count": 66,
   "metadata": {},
   "outputs": [
    {
     "name": "stdout",
     "output_type": "stream",
     "text": [
      "Found 2600 images belonging to 2 classes.\n"
     ]
    },
    {
     "data": {
      "text/plain": [
       "<keras_preprocessing.image.directory_iterator.DirectoryIterator at 0x1cfffa0e4c8>"
      ]
     },
     "execution_count": 66,
     "metadata": {},
     "output_type": "execute_result"
    }
   ],
   "source": [
    "image_gen.flow_from_directory(test_path)"
   ]
  },
  {
   "cell_type": "markdown",
   "metadata": {},
   "source": [
    "# Creating the Model"
   ]
  },
  {
   "cell_type": "code",
   "execution_count": 67,
   "metadata": {},
   "outputs": [],
   "source": [
    "from tensorflow.keras.models import Sequential\n",
    "from tensorflow.keras.layers import Activation, Dropout, Flatten, Dense, Conv2D, MaxPooling2D"
   ]
  },
  {
   "cell_type": "code",
   "execution_count": 68,
   "metadata": {},
   "outputs": [],
   "source": [
    "#https://stats.stackexchange.com/questions/148139/rules-for-selecting-convolutional-neural-network-hyperparameters\n",
    "model = Sequential()\n",
    "\n",
    "model.add(Conv2D(filters=32, kernel_size=(3,3),input_shape=image_shape, activation='relu',))\n",
    "model.add(MaxPooling2D(pool_size=(2, 2)))\n",
    "\n",
    "model.add(Conv2D(filters=64, kernel_size=(3,3),input_shape=image_shape, activation='relu',))\n",
    "model.add(MaxPooling2D(pool_size=(2, 2)))\n",
    "\n",
    "model.add(Conv2D(filters=64, kernel_size=(3,3),input_shape=image_shape, activation='relu',))\n",
    "model.add(MaxPooling2D(pool_size=(2, 2)))\n",
    "\n",
    "\n",
    "model.add(Flatten())\n",
    "\n",
    "\n",
    "model.add(Dense(128))\n",
    "model.add(Activation('relu'))\n",
    "\n",
    "# Dropouts help reduce overfitting by randomly turning neurons off during training.\n",
    "# Here we say randomly turn off 50% of neurons.\n",
    "model.add(Dropout(0.5))\n",
    "\n",
    "# Last layer, remember its binary so we use sigmoid\n",
    "model.add(Dense(1))\n",
    "model.add(Activation('sigmoid'))\n",
    "\n",
    "model.compile(loss='binary_crossentropy',\n",
    "              optimizer='adam',\n",
    "              metrics=['accuracy'])"
   ]
  },
  {
   "cell_type": "code",
   "execution_count": 69,
   "metadata": {},
   "outputs": [
    {
     "name": "stdout",
     "output_type": "stream",
     "text": [
      "Model: \"sequential\"\n",
      "_________________________________________________________________\n",
      "Layer (type)                 Output Shape              Param #   \n",
      "=================================================================\n",
      "conv2d (Conv2D)              (None, 128, 128, 32)      896       \n",
      "_________________________________________________________________\n",
      "max_pooling2d (MaxPooling2D) (None, 64, 64, 32)        0         \n",
      "_________________________________________________________________\n",
      "conv2d_1 (Conv2D)            (None, 62, 62, 64)        18496     \n",
      "_________________________________________________________________\n",
      "max_pooling2d_1 (MaxPooling2 (None, 31, 31, 64)        0         \n",
      "_________________________________________________________________\n",
      "conv2d_2 (Conv2D)            (None, 29, 29, 64)        36928     \n",
      "_________________________________________________________________\n",
      "max_pooling2d_2 (MaxPooling2 (None, 14, 14, 64)        0         \n",
      "_________________________________________________________________\n",
      "flatten (Flatten)            (None, 12544)             0         \n",
      "_________________________________________________________________\n",
      "dense (Dense)                (None, 128)               1605760   \n",
      "_________________________________________________________________\n",
      "activation (Activation)      (None, 128)               0         \n",
      "_________________________________________________________________\n",
      "dropout (Dropout)            (None, 128)               0         \n",
      "_________________________________________________________________\n",
      "dense_1 (Dense)              (None, 1)                 129       \n",
      "_________________________________________________________________\n",
      "activation_1 (Activation)    (None, 1)                 0         \n",
      "=================================================================\n",
      "Total params: 1,662,209\n",
      "Trainable params: 1,662,209\n",
      "Non-trainable params: 0\n",
      "_________________________________________________________________\n"
     ]
    }
   ],
   "source": [
    "model.summary()"
   ]
  },
  {
   "cell_type": "markdown",
   "metadata": {},
   "source": [
    "## Early Stopping"
   ]
  },
  {
   "cell_type": "code",
   "execution_count": 70,
   "metadata": {},
   "outputs": [],
   "source": [
    "from tensorflow.keras.callbacks import EarlyStopping"
   ]
  },
  {
   "cell_type": "code",
   "execution_count": 71,
   "metadata": {},
   "outputs": [],
   "source": [
    "early_stop = EarlyStopping(monitor='val_loss',patience=2)"
   ]
  },
  {
   "cell_type": "markdown",
   "metadata": {},
   "source": [
    "## Training the Model"
   ]
  },
  {
   "cell_type": "code",
   "execution_count": 74,
   "metadata": {},
   "outputs": [
    {
     "name": "stdout",
     "output_type": "stream",
     "text": [
      "Help on method flow_from_directory in module keras_preprocessing.image.image_data_generator:\n",
      "\n",
      "flow_from_directory(directory, target_size=(256, 256), color_mode='rgb', classes=None, class_mode='categorical', batch_size=32, shuffle=True, seed=None, save_to_dir=None, save_prefix='', save_format='png', follow_links=False, subset=None, interpolation='nearest') method of tensorflow.python.keras.preprocessing.image.ImageDataGenerator instance\n",
      "    Takes the path to a directory & generates batches of augmented data.\n",
      "    \n",
      "    # Arguments\n",
      "        directory: string, path to the target directory.\n",
      "            It should contain one subdirectory per class.\n",
      "            Any PNG, JPG, BMP, PPM or TIF images\n",
      "            inside each of the subdirectories directory tree\n",
      "            will be included in the generator.\n",
      "            See [this script](\n",
      "            https://gist.github.com/fchollet/0830affa1f7f19fd47b06d4cf89ed44d)\n",
      "            for more details.\n",
      "        target_size: Tuple of integers `(height, width)`,\n",
      "            default: `(256, 256)`.\n",
      "            The dimensions to which all images found will be resized.\n",
      "        color_mode: One of \"grayscale\", \"rgb\", \"rgba\". Default: \"rgb\".\n",
      "            Whether the images will be converted to\n",
      "            have 1, 3, or 4 channels.\n",
      "        classes: Optional list of class subdirectories\n",
      "            (e.g. `['dogs', 'cats']`). Default: None.\n",
      "            If not provided, the list of classes will be automatically\n",
      "            inferred from the subdirectory names/structure\n",
      "            under `directory`, where each subdirectory will\n",
      "            be treated as a different class\n",
      "            (and the order of the classes, which will map to the label\n",
      "            indices, will be alphanumeric).\n",
      "            The dictionary containing the mapping from class names to class\n",
      "            indices can be obtained via the attribute `class_indices`.\n",
      "        class_mode: One of \"categorical\", \"binary\", \"sparse\",\n",
      "            \"input\", or None. Default: \"categorical\".\n",
      "            Determines the type of label arrays that are returned:\n",
      "            - \"categorical\" will be 2D one-hot encoded labels,\n",
      "            - \"binary\" will be 1D binary labels,\n",
      "                \"sparse\" will be 1D integer labels,\n",
      "            - \"input\" will be images identical\n",
      "                to input images (mainly used to work with autoencoders).\n",
      "            - If None, no labels are returned\n",
      "              (the generator will only yield batches of image data,\n",
      "              which is useful to use with `model.predict_generator()`).\n",
      "              Please note that in case of class_mode None,\n",
      "              the data still needs to reside in a subdirectory\n",
      "              of `directory` for it to work correctly.\n",
      "        batch_size: Size of the batches of data (default: 32).\n",
      "        shuffle: Whether to shuffle the data (default: True)\n",
      "            If set to False, sorts the data in alphanumeric order.\n",
      "        seed: Optional random seed for shuffling and transformations.\n",
      "        save_to_dir: None or str (default: None).\n",
      "            This allows you to optionally specify\n",
      "            a directory to which to save\n",
      "            the augmented pictures being generated\n",
      "            (useful for visualizing what you are doing).\n",
      "        save_prefix: Str. Prefix to use for filenames of saved pictures\n",
      "            (only relevant if `save_to_dir` is set).\n",
      "        save_format: One of \"png\", \"jpeg\"\n",
      "            (only relevant if `save_to_dir` is set). Default: \"png\".\n",
      "        follow_links: Whether to follow symlinks inside\n",
      "            class subdirectories (default: False).\n",
      "        subset: Subset of data (`\"training\"` or `\"validation\"`) if\n",
      "            `validation_split` is set in `ImageDataGenerator`.\n",
      "        interpolation: Interpolation method used to\n",
      "            resample the image if the\n",
      "            target size is different from that of the loaded image.\n",
      "            Supported methods are `\"nearest\"`, `\"bilinear\"`,\n",
      "            and `\"bicubic\"`.\n",
      "            If PIL version 1.1.3 or newer is installed, `\"lanczos\"` is also\n",
      "            supported. If PIL version 3.4.0 or newer is installed,\n",
      "            `\"box\"` and `\"hamming\"` are also supported.\n",
      "            By default, `\"nearest\"` is used.\n",
      "    \n",
      "    # Returns\n",
      "        A `DirectoryIterator` yielding tuples of `(x, y)`\n",
      "            where `x` is a numpy array containing a batch\n",
      "            of images with shape `(batch_size, *target_size, channels)`\n",
      "            and `y` is a numpy array of corresponding labels.\n",
      "\n"
     ]
    }
   ],
   "source": [
    "help(image_gen.flow_from_directory)"
   ]
  },
  {
   "cell_type": "code",
   "execution_count": 77,
   "metadata": {},
   "outputs": [],
   "source": [
    "batch_size = 16"
   ]
  },
  {
   "cell_type": "code",
   "execution_count": 78,
   "metadata": {},
   "outputs": [
    {
     "name": "stdout",
     "output_type": "stream",
     "text": [
      "Found 24958 images belonging to 2 classes.\n"
     ]
    }
   ],
   "source": [
    "train_image_gen = image_gen.flow_from_directory(train_path,\n",
    "                                               target_size=image_shape[:2],\n",
    "                                                color_mode='rgb',\n",
    "                                               batch_size=batch_size,\n",
    "                                               class_mode='binary')"
   ]
  },
  {
   "cell_type": "code",
   "execution_count": 113,
   "metadata": {},
   "outputs": [
    {
     "name": "stdout",
     "output_type": "stream",
     "text": [
      "Found 2600 images belonging to 2 classes.\n"
     ]
    }
   ],
   "source": [
    "test_image_gen = image_gen.flow_from_directory(test_path,\n",
    "                                               target_size=image_shape[:2],\n",
    "                                               color_mode='rgb',\n",
    "                                               batch_size=batch_size,\n",
    "                                               class_mode='binary',shuffle=False)"
   ]
  },
  {
   "cell_type": "code",
   "execution_count": 82,
   "metadata": {},
   "outputs": [
    {
     "data": {
      "text/plain": [
       "{'parasitized': 0, 'uninfected': 1}"
      ]
     },
     "execution_count": 82,
     "metadata": {},
     "output_type": "execute_result"
    }
   ],
   "source": [
    "train_image_gen.class_indices"
   ]
  },
  {
   "cell_type": "code",
   "execution_count": 83,
   "metadata": {},
   "outputs": [],
   "source": [
    "import warnings\n",
    "warnings.filterwarnings('ignore')"
   ]
  },
  {
   "cell_type": "code",
   "execution_count": 84,
   "metadata": {
    "scrolled": true
   },
   "outputs": [
    {
     "name": "stdout",
     "output_type": "stream",
     "text": [
      "Epoch 1/20\n",
      "1560/1560 [==============================] - 97s 62ms/step - loss: 0.4588 - accuracy: 0.8060 - val_loss: 0.3180 - val_accuracy: 0.9112\n",
      "Epoch 2/20\n",
      "1560/1560 [==============================] - 97s 62ms/step - loss: 0.2411 - accuracy: 0.9300 - val_loss: 0.1947 - val_accuracy: 0.9412\n",
      "Epoch 3/20\n",
      "1560/1560 [==============================] - 95s 61ms/step - loss: 0.2015 - accuracy: 0.9372 - val_loss: 0.1841 - val_accuracy: 0.9423\n",
      "Epoch 4/20\n",
      "1560/1560 [==============================] - 98s 63ms/step - loss: 0.1670 - accuracy: 0.9485 - val_loss: 0.1693 - val_accuracy: 0.9431\n",
      "Epoch 5/20\n",
      "1560/1560 [==============================] - 98s 63ms/step - loss: 0.1606 - accuracy: 0.9500 - val_loss: 0.1882 - val_accuracy: 0.9388\n",
      "Epoch 6/20\n",
      "1560/1560 [==============================] - 97s 62ms/step - loss: 0.1583 - accuracy: 0.9514 - val_loss: 0.1464 - val_accuracy: 0.9542\n",
      "Epoch 7/20\n",
      "1560/1560 [==============================] - 97s 62ms/step - loss: 0.1559 - accuracy: 0.9497 - val_loss: 0.1595 - val_accuracy: 0.9500\n",
      "Epoch 8/20\n",
      "1560/1560 [==============================] - 98s 63ms/step - loss: 0.1506 - accuracy: 0.9517 - val_loss: 0.1523 - val_accuracy: 0.9496\n"
     ]
    }
   ],
   "source": [
    "results = model.fit_generator(train_image_gen,epochs=20,\n",
    "                              validation_data=test_image_gen,\n",
    "                             callbacks=[early_stop])"
   ]
  },
  {
   "cell_type": "code",
   "execution_count": 88,
   "metadata": {},
   "outputs": [],
   "source": [
    "from tensorflow.keras.models import load_model\n",
    "model.save('malaria_detector.h5')"
   ]
  },
  {
   "cell_type": "markdown",
   "metadata": {},
   "source": [
    "# Evaluating the Model"
   ]
  },
  {
   "cell_type": "code",
   "execution_count": 89,
   "metadata": {},
   "outputs": [],
   "source": [
    "losses = pd.DataFrame(model.history.history)"
   ]
  },
  {
   "cell_type": "code",
   "execution_count": 90,
   "metadata": {},
   "outputs": [
    {
     "data": {
      "text/plain": [
       "<matplotlib.axes._subplots.AxesSubplot at 0x1d1f987d648>"
      ]
     },
     "execution_count": 90,
     "metadata": {},
     "output_type": "execute_result"
    },
    {
     "data": {
      "image/png": "[encoded data removed]",
      "text/plain": [
       "<Figure size 432x288 with 1 Axes>"
      ]
     },
     "metadata": {
      "needs_background": "light"
     },
     "output_type": "display_data"
    }
   ],
   "source": [
    "losses[['loss','val_loss']].plot()"
   ]
  },
  {
   "cell_type": "code",
   "execution_count": 91,
   "metadata": {},
   "outputs": [
    {
     "data": {
      "text/plain": [
       "['loss', 'accuracy']"
      ]
     },
     "execution_count": 91,
     "metadata": {},
     "output_type": "execute_result"
    }
   ],
   "source": [
    "model.metrics_names"
   ]
  },
  {
   "cell_type": "code",
   "execution_count": 114,
   "metadata": {},
   "outputs": [
    {
     "data": {
      "text/plain": [
       "[0.14881458843521134, 0.94884616]"
      ]
     },
     "execution_count": 114,
     "metadata": {},
     "output_type": "execute_result"
    }
   ],
   "source": [
    "model.evaluate_generator(test_image_gen)"
   ]
  },
  {
   "cell_type": "code",
   "execution_count": 97,
   "metadata": {},
   "outputs": [],
   "source": [
    "from tensorflow.keras.preprocessing import image"
   ]
  },
  {
   "cell_type": "code",
   "execution_count": 115,
   "metadata": {},
   "outputs": [],
   "source": [
    "# https://datascience.stackexchange.com/questions/13894/how-to-get-predictions-with-predict-generator-on-streaming-test-data-in-keras\n",
    "pred_probabilities = model.predict_generator(test_image_gen)"
   ]
  },
  {
   "cell_type": "code",
   "execution_count": 116,
   "metadata": {},
   "outputs": [
    {
     "data": {
      "text/plain": [
       "array([[2.2703409e-04],\n",
       "       [2.1749735e-04],\n",
       "       [5.4228306e-04],\n",
       "       ...,\n",
       "       [9.7448182e-01],\n",
       "       [9.7615612e-01],\n",
       "       [9.6059412e-01]], dtype=float32)"
      ]
     },
     "execution_count": 116,
     "metadata": {},
     "output_type": "execute_result"
    }
   ],
   "source": [
    "pred_probabilities"
   ]
  },
  {
   "cell_type": "code",
   "execution_count": 117,
   "metadata": {},
   "outputs": [
    {
     "data": {
      "text/plain": [
       "array([0, 0, 0, ..., 1, 1, 1])"
      ]
     },
     "execution_count": 117,
     "metadata": {},
     "output_type": "execute_result"
    }
   ],
   "source": [
    "test_image_gen.classes"
   ]
  },
  {
   "cell_type": "code",
   "execution_count": 118,
   "metadata": {},
   "outputs": [],
   "source": [
    "predictions = pred_probabilities > 0.5"
   ]
  },
  {
   "cell_type": "code",
   "execution_count": 119,
   "metadata": {},
   "outputs": [
    {
     "data": {
      "text/plain": [
       "array([[False],\n",
       "       [False],\n",
       "       [False],\n",
       "       ...,\n",
       "       [ True],\n",
       "       [ True],\n",
       "       [ True]])"
      ]
     },
     "execution_count": 119,
     "metadata": {},
     "output_type": "execute_result"
    }
   ],
   "source": [
    "# Numpy can treat this as True/False for us\n",
    "predictions"
   ]
  },
  {
   "cell_type": "code",
   "execution_count": 120,
   "metadata": {},
   "outputs": [],
   "source": [
    "from sklearn.metrics import classification_report,confusion_matrix"
   ]
  },
  {
   "cell_type": "code",
   "execution_count": 121,
   "metadata": {},
   "outputs": [
    {
     "name": "stdout",
     "output_type": "stream",
     "text": [
      "              precision    recall  f1-score   support\n",
      "\n",
      "           0       0.96      0.94      0.95      1300\n",
      "           1       0.94      0.96      0.95      1300\n",
      "\n",
      "    accuracy                           0.95      2600\n",
      "   macro avg       0.95      0.95      0.95      2600\n",
      "weighted avg       0.95      0.95      0.95      2600\n",
      "\n"
     ]
    }
   ],
   "source": [
    "print(classification_report(test_image_gen.classes,predictions))"
   ]
  },
  {
   "cell_type": "code",
   "execution_count": 122,
   "metadata": {},
   "outputs": [
    {
     "data": {
      "text/plain": [
       "array([[1220,   80],\n",
       "       [  46, 1254]], dtype=int64)"
      ]
     },
     "execution_count": 122,
     "metadata": {},
     "output_type": "execute_result"
    }
   ],
   "source": [
    "confusion_matrix(test_image_gen.classes,predictions)"
   ]
  },
  {
   "cell_type": "markdown",
   "metadata": {},
   "source": [
    "# Predicting on an Image"
   ]
  },
  {
   "cell_type": "code",
   "execution_count": 124,
   "metadata": {},
   "outputs": [
    {
     "data": {
      "text/plain": [
       "'C:\\\\Users\\\\Marcial\\\\Pierian-Data-Courses\\\\cell_images\\\\train\\\\\\\\parasitized\\\\C100P61ThinF_IMG_20150918_144104_cell_162.png'"
      ]
     },
     "execution_count": 124,
     "metadata": {},
     "output_type": "execute_result"
    }
   ],
   "source": [
    "# Your file path will be different!\n",
    "para_cell"
   ]
  },
  {
   "cell_type": "code",
   "execution_count": 132,
   "metadata": {},
   "outputs": [],
   "source": [
    "my_image = image.load_img(para_cell,target_size=image_shape)"
   ]
  },
  {
   "cell_type": "code",
   "execution_count": 137,
   "metadata": {},
   "outputs": [
    {
     "data": {
      "image/png": "[encoded data removed]",
      "text/plain": [
       "<PIL.Image.Image image mode=RGB size=130x130 at 0x1D205C4ECC8>"
      ]
     },
     "execution_count": 137,
     "metadata": {},
     "output_type": "execute_result"
    }
   ],
   "source": [
    "my_image"
   ]
  },
  {
   "cell_type": "code",
   "execution_count": 138,
   "metadata": {},
   "outputs": [
    {
     "data": {
      "text/plain": [
       "PIL.Image.Image"
      ]
     },
     "execution_count": 138,
     "metadata": {},
     "output_type": "execute_result"
    }
   ],
   "source": [
    "type(my_image)"
   ]
  },
  {
   "cell_type": "code",
   "execution_count": 139,
   "metadata": {},
   "outputs": [],
   "source": [
    "my_image = image.img_to_array(my_image)"
   ]
  },
  {
   "cell_type": "code",
   "execution_count": 142,
   "metadata": {},
   "outputs": [
    {
     "data": {
      "text/plain": [
       "numpy.ndarray"
      ]
     },
     "execution_count": 142,
     "metadata": {},
     "output_type": "execute_result"
    }
   ],
   "source": [
    "type(my_image)"
   ]
  },
  {
   "cell_type": "code",
   "execution_count": 143,
   "metadata": {},
   "outputs": [
    {
     "data": {
      "text/plain": [
       "(130, 130, 3)"
      ]
     },
     "execution_count": 143,
     "metadata": {},
     "output_type": "execute_result"
    }
   ],
   "source": [
    "my_image.shape"
   ]
  },
  {
   "cell_type": "code",
   "execution_count": 144,
   "metadata": {},
   "outputs": [],
   "source": [
    "my_image = np.expand_dims(my_image, axis=0)"
   ]
  },
  {
   "cell_type": "code",
   "execution_count": 145,
   "metadata": {},
   "outputs": [
    {
     "data": {
      "text/plain": [
       "(1, 130, 130, 3)"
      ]
     },
     "execution_count": 145,
     "metadata": {},
     "output_type": "execute_result"
    }
   ],
   "source": [
    "my_image.shape"
   ]
  },
  {
   "cell_type": "code",
   "execution_count": 146,
   "metadata": {},
   "outputs": [
    {
     "data": {
      "text/plain": [
       "array([[0.]], dtype=float32)"
      ]
     },
     "execution_count": 146,
     "metadata": {},
     "output_type": "execute_result"
    }
   ],
   "source": [
    "model.predict(my_image)"
   ]
  },
  {
   "cell_type": "code",
   "execution_count": 147,
   "metadata": {},
   "outputs": [
    {
     "data": {
      "text/plain": [
       "{'parasitized': 0, 'uninfected': 1}"
      ]
     },
     "execution_count": 147,
     "metadata": {},
     "output_type": "execute_result"
    }
   ],
   "source": [
    "train_image_gen.class_indices"
   ]
  },
  {
   "cell_type": "code",
   "execution_count": 148,
   "metadata": {},
   "outputs": [
    {
     "data": {
      "text/plain": [
       "{'parasitized': 0, 'uninfected': 1}"
      ]
     },
     "execution_count": 148,
     "metadata": {},
     "output_type": "execute_result"
    }
   ],
   "source": [
    "test_image_gen.class_indices"
   ]
  },
  {
   "cell_type": "markdown",
   "metadata": {},
   "source": [
    "# Great Job!"
   ]
  }
 ],
 "metadata": {
  "kernelspec": {
   "display_name": "Python 3",
   "language": "python",
   "name": "python3"
  },
  "language_info": {
   "codemirror_mode": {
    "name": "ipython",
    "version": 3
   },
   "file_extension": ".py",
   "mimetype": "text/x-python",
   "name": "python",
   "nbconvert_exporter": "python",
   "pygments_lexer": "ipython3",
   "version": "3.7.7"
  },
  "varInspector": {
   "cols": {
    "lenName": 16,
    "lenType": 16,
    "lenVar": 40
   },
   "kernels_config": {
    "python": {
     "delete_cmd_postfix": "",
     "delete_cmd_prefix": "del ",
     "library": "var_list.py",
     "varRefreshCmd": "print(var_dic_list())"
    },
    "r": {
     "delete_cmd_postfix": ") ",
     "delete_cmd_prefix": "rm(",
     "library": "var_list.r",
     "varRefreshCmd": "cat(var_dic_list()) "
    }
   },
   "types_to_exclude": [
    "module",
    "function",
    "builtin_function_or_method",
    "instance",
    "_Feature"
   ],
   "window_display": false
  }
 },
 "nbformat": 4,
 "nbformat_minor": 2
}
