{
 "cells": [
  {
   "cell_type": "code",
   "execution_count": 1,
   "metadata": {
    "ExecuteTime": {
     "end_time": "2020-05-02T13:54:59.513544Z",
     "start_time": "2020-05-02T13:54:57.643219Z"
    }
   },
   "outputs": [
    {
     "name": "stdout",
     "output_type": "stream",
     "text": [
      "2.1.0\n"
     ]
    }
   ],
   "source": [
    "import tensorflow as tf\n",
    "print(tf.__version__)"
   ]
  },
  {
   "cell_type": "code",
   "execution_count": 2,
   "metadata": {
    "ExecuteTime": {
     "end_time": "2020-05-02T13:54:59.783569Z",
     "start_time": "2020-05-02T13:54:59.515696Z"
    }
   },
   "outputs": [],
   "source": [
    "# Other imports\n",
    "import pandas as pd\n",
    "import numpy as np\n",
    "import matplotlib.pyplot as plt"
   ]
  },
  {
   "cell_type": "code",
   "execution_count": 3,
   "metadata": {
    "ExecuteTime": {
     "end_time": "2020-05-02T13:55:07.048145Z",
     "start_time": "2020-05-02T13:54:59.786385Z"
    }
   },
   "outputs": [
    {
     "name": "stdout",
     "output_type": "stream",
     "text": [
      "--2020-05-02 15:54:59--  https://raw.githubusercontent.com/lazyprogrammer/machine_learning_examples/master/tf2.0/moore.csv\n",
      "Resolving raw.githubusercontent.com (raw.githubusercontent.com)... 151.101.236.133\n",
      "Connecting to raw.githubusercontent.com (raw.githubusercontent.com)|151.101.236.133|:443... connected.\n",
      "HTTP request sent, awaiting response... 200 OK\n",
      "Length: 2302 (2.2K) [text/plain]\n",
      "Saving to: ‘moore.csv.1’\n",
      "\n",
      "moore.csv.1         100%[===================>]   2.25K  --.-KB/s    in 0.001s  \n",
      "\n",
      "2020-05-02 15:55:06 (1.77 MB/s) - ‘moore.csv.1’ saved [2302/2302]\n",
      "\n"
     ]
    }
   ],
   "source": [
    "# Get the data\n",
    "!wget https://raw.githubusercontent.com/lazyprogrammer/machine_learning_examples/master/tf2.0/moore.csv"
   ]
  },
  {
   "cell_type": "code",
   "execution_count": 4,
   "metadata": {
    "ExecuteTime": {
     "end_time": "2020-05-02T13:55:07.072158Z",
     "start_time": "2020-05-02T13:55:07.051176Z"
    }
   },
   "outputs": [],
   "source": [
    "# Load in the data\n",
    "data = pd.read_csv('moore.csv', header=None).values\n",
    "X = data[:,0].reshape(-1, 1) # make it a 2-D array of size N x D where D = 1\n",
    "Y = data[:,1]"
   ]
  },
  {
   "cell_type": "code",
   "execution_count": 5,
   "metadata": {
    "ExecuteTime": {
     "end_time": "2020-05-02T13:55:07.151170Z",
     "start_time": "2020-05-02T13:55:07.074605Z"
    }
   },
   "outputs": [
    {
     "data": {
      "text/plain": [
       "array([[       1971,        2300],\n",
       "       [       1972,        3500],\n",
       "       [       1973,        2500],\n",
       "       [       1973,        2500],\n",
       "       [       1974,        4100],\n",
       "       [       1974,        4500],\n",
       "       [       1974,        8000],\n",
       "       [       1975,        3510],\n",
       "       [       1976,        5000],\n",
       "       [       1976,        8500],\n",
       "       [       1976,        6500],\n",
       "       [       1978,        9000],\n",
       "       [       1978,       29000],\n",
       "       [       1979,       17500],\n",
       "       [       1979,       29000],\n",
       "       [       1979,       68000],\n",
       "       [       1981,       11500],\n",
       "       [       1982,       55000],\n",
       "       [       1982,      134000],\n",
       "       [       1983,       22000],\n",
       "       [       1984,       63000],\n",
       "       [       1984,      190000],\n",
       "       [       1985,      275000],\n",
       "       [       1985,       25000],\n",
       "       [       1985,       16000],\n",
       "       [       1986,      110000],\n",
       "       [       1986,      375000],\n",
       "       [       1986,       30000],\n",
       "       [       1987,      385000],\n",
       "       [       1987,      730000],\n",
       "       [       1987,      273000],\n",
       "       [       1987,      553000],\n",
       "       [       1988,      180000],\n",
       "       [       1988,      250000],\n",
       "       [       1989,      600000],\n",
       "       [       1989,     1000000],\n",
       "       [       1989,     1180235],\n",
       "       [       1989,      310000],\n",
       "       [       1990,     1200000],\n",
       "       [       1991,     1350000],\n",
       "       [       1991,       35000],\n",
       "       [       1992,      600000],\n",
       "       [       1992,      900000],\n",
       "       [       1993,     2800000],\n",
       "       [       1993,     3100000],\n",
       "       [       1994,      578977],\n",
       "       [       1994,     2500000],\n",
       "       [       1995,     2500000],\n",
       "       [       1999,      111000],\n",
       "       [       1995,     5500000],\n",
       "       [       1996,     4300000],\n",
       "       [       1997,    10000000],\n",
       "       [       1997,     7500000],\n",
       "       [       1997,     8800000],\n",
       "       [       1998,     7500000],\n",
       "       [       1999,     9500000],\n",
       "       [       1999,    13500000],\n",
       "       [       2000,    21000000],\n",
       "       [       2000,    21000000],\n",
       "       [       1999,    27400000],\n",
       "       [       1999,    21300000],\n",
       "       [       1999,    22000000],\n",
       "       [       2000,    42000000],\n",
       "       [       2001,   191000000],\n",
       "       [       2001,    45000000],\n",
       "       [       2002,    55000000],\n",
       "       [       2004,   112000000],\n",
       "       [       2004,   400000000],\n",
       "       [       2005,   169000000],\n",
       "       [       2006,   184000000],\n",
       "       [       2005,   228000000],\n",
       "       [       2006,   362000000],\n",
       "       [       2007,   540000000],\n",
       "       [       2008,    47000000],\n",
       "       [       2003,    54300000],\n",
       "       [       2003,   105900000],\n",
       "       [       2002,   220000000],\n",
       "       [       2005,   165000000],\n",
       "       [       2005,   250000000],\n",
       "       [       2006,   291000000],\n",
       "       [       2007,   169000000],\n",
       "       [       2003,   410000000],\n",
       "       [       2008,   600000000],\n",
       "       [       2009,   760000000],\n",
       "       [       2011,  1870000000],\n",
       "       [       2012,   432000000],\n",
       "       [       2007,   463000000],\n",
       "       [       2007,    26000000],\n",
       "       [       2008,   230000000],\n",
       "       [       2004,   592000000],\n",
       "       [       2007,   411000000],\n",
       "       [       2008,   731000000],\n",
       "       [       2008,   758000000],\n",
       "       [       2007,   789000000],\n",
       "       [       2009,   904000000],\n",
       "       [       2010,  1000000000],\n",
       "       [       2012,  2990000000],\n",
       "       [       2013,  1000000000],\n",
       "       [       2011,  1160000000],\n",
       "       [       2010,  1170000000],\n",
       "       [       2010,  1200000000],\n",
       "       [       2012,  1200000000],\n",
       "       [       2012,  1303000000],\n",
       "       [       2010,  1400000000],\n",
       "       [       2012,  1400000000],\n",
       "       [       2014,  1400000000],\n",
       "       [       2006,  1700000000],\n",
       "       [       2015,  1750000000],\n",
       "       [       2013,  1860000000],\n",
       "       [       2015,  1900000000],\n",
       "       [       2008,  1900000000],\n",
       "       [       2010,  2000000000],\n",
       "       [       2014,  2000000000],\n",
       "       [       2015,  2000000000],\n",
       "       [       2015,  3000000000],\n",
       "       [       2012,  2100000000],\n",
       "       [       2011,  2270000000],\n",
       "       [       2010,  2300000000],\n",
       "       [       2014,  2600000000],\n",
       "       [       2011,  2600000000],\n",
       "       [       2012,  2750000000],\n",
       "       [       2014,  3000000000],\n",
       "       [       2016,  3000000000],\n",
       "       [       2017,  5300000000],\n",
       "       [       2017,  5300000000],\n",
       "       [       2018,  8500000000],\n",
       "       [       2012,  3100000000],\n",
       "       [       2016,  3200000000],\n",
       "       [       2016,  3300000000],\n",
       "       [       2015,  3990000000],\n",
       "       [       2013,  4200000000],\n",
       "       [       2017,  4300000000],\n",
       "       [       2014,  4310000000],\n",
       "       [       2017,  4800000000],\n",
       "       [       2017,  4800000000],\n",
       "       [       2017,  4800000000],\n",
       "       [       2012,  5000000000],\n",
       "       [       2013,  5000000000],\n",
       "       [       2014,  5560000000],\n",
       "       [       2017,  6100000000],\n",
       "       [       2018,  6900000000],\n",
       "       [       2016,  4000000000],\n",
       "       [       2018,  6900000000],\n",
       "       [       2017,  5500000000],\n",
       "       [       2018,  5500000000],\n",
       "       [       2017,  7000000000],\n",
       "       [       2015,  7100000000],\n",
       "       [       2017,  8000000000],\n",
       "       [       2016,  7200000000],\n",
       "       [       2017,  8000000000],\n",
       "       [       2016,  8000000000],\n",
       "       [       2017,  9700000000],\n",
       "       [       2017,   250000000],\n",
       "       [       2015, 10000000000],\n",
       "       [       2017,  5450000000],\n",
       "       [       2018, 10000000000],\n",
       "       [       2017,  4300000000],\n",
       "       [       2017, 18000000000],\n",
       "       [       2017, 19200000000],\n",
       "       [       2018,  8876000000],\n",
       "       [       2018, 23600000000],\n",
       "       [       2018,  9000000000]])"
      ]
     },
     "execution_count": 5,
     "metadata": {},
     "output_type": "execute_result"
    }
   ],
   "source": [
    "data"
   ]
  },
  {
   "cell_type": "code",
   "execution_count": 6,
   "metadata": {
    "ExecuteTime": {
     "end_time": "2020-05-02T13:55:07.213712Z",
     "start_time": "2020-05-02T13:55:07.173377Z"
    }
   },
   "outputs": [
    {
     "data": {
      "text/plain": [
       "array([[1971],\n",
       "       [1972],\n",
       "       [1973],\n",
       "       [1973],\n",
       "       [1974],\n",
       "       [1974],\n",
       "       [1974],\n",
       "       [1975],\n",
       "       [1976],\n",
       "       [1976],\n",
       "       [1976],\n",
       "       [1978],\n",
       "       [1978],\n",
       "       [1979],\n",
       "       [1979],\n",
       "       [1979],\n",
       "       [1981],\n",
       "       [1982],\n",
       "       [1982],\n",
       "       [1983],\n",
       "       [1984],\n",
       "       [1984],\n",
       "       [1985],\n",
       "       [1985],\n",
       "       [1985],\n",
       "       [1986],\n",
       "       [1986],\n",
       "       [1986],\n",
       "       [1987],\n",
       "       [1987],\n",
       "       [1987],\n",
       "       [1987],\n",
       "       [1988],\n",
       "       [1988],\n",
       "       [1989],\n",
       "       [1989],\n",
       "       [1989],\n",
       "       [1989],\n",
       "       [1990],\n",
       "       [1991],\n",
       "       [1991],\n",
       "       [1992],\n",
       "       [1992],\n",
       "       [1993],\n",
       "       [1993],\n",
       "       [1994],\n",
       "       [1994],\n",
       "       [1995],\n",
       "       [1999],\n",
       "       [1995],\n",
       "       [1996],\n",
       "       [1997],\n",
       "       [1997],\n",
       "       [1997],\n",
       "       [1998],\n",
       "       [1999],\n",
       "       [1999],\n",
       "       [2000],\n",
       "       [2000],\n",
       "       [1999],\n",
       "       [1999],\n",
       "       [1999],\n",
       "       [2000],\n",
       "       [2001],\n",
       "       [2001],\n",
       "       [2002],\n",
       "       [2004],\n",
       "       [2004],\n",
       "       [2005],\n",
       "       [2006],\n",
       "       [2005],\n",
       "       [2006],\n",
       "       [2007],\n",
       "       [2008],\n",
       "       [2003],\n",
       "       [2003],\n",
       "       [2002],\n",
       "       [2005],\n",
       "       [2005],\n",
       "       [2006],\n",
       "       [2007],\n",
       "       [2003],\n",
       "       [2008],\n",
       "       [2009],\n",
       "       [2011],\n",
       "       [2012],\n",
       "       [2007],\n",
       "       [2007],\n",
       "       [2008],\n",
       "       [2004],\n",
       "       [2007],\n",
       "       [2008],\n",
       "       [2008],\n",
       "       [2007],\n",
       "       [2009],\n",
       "       [2010],\n",
       "       [2012],\n",
       "       [2013],\n",
       "       [2011],\n",
       "       [2010],\n",
       "       [2010],\n",
       "       [2012],\n",
       "       [2012],\n",
       "       [2010],\n",
       "       [2012],\n",
       "       [2014],\n",
       "       [2006],\n",
       "       [2015],\n",
       "       [2013],\n",
       "       [2015],\n",
       "       [2008],\n",
       "       [2010],\n",
       "       [2014],\n",
       "       [2015],\n",
       "       [2015],\n",
       "       [2012],\n",
       "       [2011],\n",
       "       [2010],\n",
       "       [2014],\n",
       "       [2011],\n",
       "       [2012],\n",
       "       [2014],\n",
       "       [2016],\n",
       "       [2017],\n",
       "       [2017],\n",
       "       [2018],\n",
       "       [2012],\n",
       "       [2016],\n",
       "       [2016],\n",
       "       [2015],\n",
       "       [2013],\n",
       "       [2017],\n",
       "       [2014],\n",
       "       [2017],\n",
       "       [2017],\n",
       "       [2017],\n",
       "       [2012],\n",
       "       [2013],\n",
       "       [2014],\n",
       "       [2017],\n",
       "       [2018],\n",
       "       [2016],\n",
       "       [2018],\n",
       "       [2017],\n",
       "       [2018],\n",
       "       [2017],\n",
       "       [2015],\n",
       "       [2017],\n",
       "       [2016],\n",
       "       [2017],\n",
       "       [2016],\n",
       "       [2017],\n",
       "       [2017],\n",
       "       [2015],\n",
       "       [2017],\n",
       "       [2018],\n",
       "       [2017],\n",
       "       [2017],\n",
       "       [2017],\n",
       "       [2018],\n",
       "       [2018],\n",
       "       [2018]])"
      ]
     },
     "execution_count": 6,
     "metadata": {},
     "output_type": "execute_result"
    }
   ],
   "source": [
    "X"
   ]
  },
  {
   "cell_type": "code",
   "execution_count": 7,
   "metadata": {
    "ExecuteTime": {
     "end_time": "2020-05-02T13:55:07.280649Z",
     "start_time": "2020-05-02T13:55:07.224302Z"
    }
   },
   "outputs": [
    {
     "data": {
      "text/plain": [
       "array([       2300,        3500,        2500,        2500,        4100,\n",
       "              4500,        8000,        3510,        5000,        8500,\n",
       "              6500,        9000,       29000,       17500,       29000,\n",
       "             68000,       11500,       55000,      134000,       22000,\n",
       "             63000,      190000,      275000,       25000,       16000,\n",
       "            110000,      375000,       30000,      385000,      730000,\n",
       "            273000,      553000,      180000,      250000,      600000,\n",
       "           1000000,     1180235,      310000,     1200000,     1350000,\n",
       "             35000,      600000,      900000,     2800000,     3100000,\n",
       "            578977,     2500000,     2500000,      111000,     5500000,\n",
       "           4300000,    10000000,     7500000,     8800000,     7500000,\n",
       "           9500000,    13500000,    21000000,    21000000,    27400000,\n",
       "          21300000,    22000000,    42000000,   191000000,    45000000,\n",
       "          55000000,   112000000,   400000000,   169000000,   184000000,\n",
       "         228000000,   362000000,   540000000,    47000000,    54300000,\n",
       "         105900000,   220000000,   165000000,   250000000,   291000000,\n",
       "         169000000,   410000000,   600000000,   760000000,  1870000000,\n",
       "         432000000,   463000000,    26000000,   230000000,   592000000,\n",
       "         411000000,   731000000,   758000000,   789000000,   904000000,\n",
       "        1000000000,  2990000000,  1000000000,  1160000000,  1170000000,\n",
       "        1200000000,  1200000000,  1303000000,  1400000000,  1400000000,\n",
       "        1400000000,  1700000000,  1750000000,  1860000000,  1900000000,\n",
       "        1900000000,  2000000000,  2000000000,  2000000000,  3000000000,\n",
       "        2100000000,  2270000000,  2300000000,  2600000000,  2600000000,\n",
       "        2750000000,  3000000000,  3000000000,  5300000000,  5300000000,\n",
       "        8500000000,  3100000000,  3200000000,  3300000000,  3990000000,\n",
       "        4200000000,  4300000000,  4310000000,  4800000000,  4800000000,\n",
       "        4800000000,  5000000000,  5000000000,  5560000000,  6100000000,\n",
       "        6900000000,  4000000000,  6900000000,  5500000000,  5500000000,\n",
       "        7000000000,  7100000000,  8000000000,  7200000000,  8000000000,\n",
       "        8000000000,  9700000000,   250000000, 10000000000,  5450000000,\n",
       "       10000000000,  4300000000, 18000000000, 19200000000,  8876000000,\n",
       "       23600000000,  9000000000])"
      ]
     },
     "execution_count": 7,
     "metadata": {},
     "output_type": "execute_result"
    }
   ],
   "source": [
    "Y"
   ]
  },
  {
   "cell_type": "code",
   "execution_count": 8,
   "metadata": {
    "ExecuteTime": {
     "end_time": "2020-05-02T13:55:07.573526Z",
     "start_time": "2020-05-02T13:55:07.284655Z"
    }
   },
   "outputs": [
    {
     "data": {
      "text/plain": [
       "<matplotlib.collections.PathCollection at 0x7fa663eac550>"
      ]
     },
     "execution_count": 8,
     "metadata": {},
     "output_type": "execute_result"
    },
    {
     "data": {
      "image/png": "[encoded data removed]",
      "text/plain": [
       "<Figure size 432x288 with 1 Axes>"
      ]
     },
     "metadata": {
      "needs_background": "light"
     },
     "output_type": "display_data"
    }
   ],
   "source": [
    "# Plot the data - it is exponential!\n",
    "plt.scatter(X, Y)"
   ]
  },
  {
   "cell_type": "code",
   "execution_count": 9,
   "metadata": {
    "ExecuteTime": {
     "end_time": "2020-05-02T13:55:07.786267Z",
     "start_time": "2020-05-02T13:55:07.576410Z"
    }
   },
   "outputs": [
    {
     "data": {
      "text/plain": [
       "<matplotlib.collections.PathCollection at 0x7fa661e1d710>"
      ]
     },
     "execution_count": 9,
     "metadata": {},
     "output_type": "execute_result"
    },
    {
     "data": {
      "image/png": "[encoded data removed]",
      "text/plain": [
       "<Figure size 432x288 with 1 Axes>"
      ]
     },
     "metadata": {
      "needs_background": "light"
     },
     "output_type": "display_data"
    }
   ],
   "source": [
    "# Since we want a linear model, let's take the log\n",
    "Y = np.log(Y)\n",
    "plt.scatter(X, Y)\n",
    "# that's better"
   ]
  },
  {
   "cell_type": "code",
   "execution_count": 10,
   "metadata": {
    "ExecuteTime": {
     "end_time": "2020-05-02T13:55:07.792776Z",
     "start_time": "2020-05-02T13:55:07.788452Z"
    }
   },
   "outputs": [],
   "source": [
    "# Let's also center the X data so the values are not too large\n",
    "# We could scale it too but then we'd have to reverse the transformation later\n",
    "X = X - X.mean()"
   ]
  },
  {
   "cell_type": "code",
   "execution_count": 11,
   "metadata": {
    "ExecuteTime": {
     "end_time": "2020-05-02T13:55:07.869827Z",
     "start_time": "2020-05-02T13:55:07.794755Z"
    }
   },
   "outputs": [
    {
     "data": {
      "text/plain": [
       "array([[-31.19753086],\n",
       "       [-30.19753086],\n",
       "       [-29.19753086],\n",
       "       [-29.19753086],\n",
       "       [-28.19753086],\n",
       "       [-28.19753086],\n",
       "       [-28.19753086],\n",
       "       [-27.19753086],\n",
       "       [-26.19753086],\n",
       "       [-26.19753086],\n",
       "       [-26.19753086],\n",
       "       [-24.19753086],\n",
       "       [-24.19753086],\n",
       "       [-23.19753086],\n",
       "       [-23.19753086],\n",
       "       [-23.19753086],\n",
       "       [-21.19753086],\n",
       "       [-20.19753086],\n",
       "       [-20.19753086],\n",
       "       [-19.19753086],\n",
       "       [-18.19753086],\n",
       "       [-18.19753086],\n",
       "       [-17.19753086],\n",
       "       [-17.19753086],\n",
       "       [-17.19753086],\n",
       "       [-16.19753086],\n",
       "       [-16.19753086],\n",
       "       [-16.19753086],\n",
       "       [-15.19753086],\n",
       "       [-15.19753086],\n",
       "       [-15.19753086],\n",
       "       [-15.19753086],\n",
       "       [-14.19753086],\n",
       "       [-14.19753086],\n",
       "       [-13.19753086],\n",
       "       [-13.19753086],\n",
       "       [-13.19753086],\n",
       "       [-13.19753086],\n",
       "       [-12.19753086],\n",
       "       [-11.19753086],\n",
       "       [-11.19753086],\n",
       "       [-10.19753086],\n",
       "       [-10.19753086],\n",
       "       [ -9.19753086],\n",
       "       [ -9.19753086],\n",
       "       [ -8.19753086],\n",
       "       [ -8.19753086],\n",
       "       [ -7.19753086],\n",
       "       [ -3.19753086],\n",
       "       [ -7.19753086],\n",
       "       [ -6.19753086],\n",
       "       [ -5.19753086],\n",
       "       [ -5.19753086],\n",
       "       [ -5.19753086],\n",
       "       [ -4.19753086],\n",
       "       [ -3.19753086],\n",
       "       [ -3.19753086],\n",
       "       [ -2.19753086],\n",
       "       [ -2.19753086],\n",
       "       [ -3.19753086],\n",
       "       [ -3.19753086],\n",
       "       [ -3.19753086],\n",
       "       [ -2.19753086],\n",
       "       [ -1.19753086],\n",
       "       [ -1.19753086],\n",
       "       [ -0.19753086],\n",
       "       [  1.80246914],\n",
       "       [  1.80246914],\n",
       "       [  2.80246914],\n",
       "       [  3.80246914],\n",
       "       [  2.80246914],\n",
       "       [  3.80246914],\n",
       "       [  4.80246914],\n",
       "       [  5.80246914],\n",
       "       [  0.80246914],\n",
       "       [  0.80246914],\n",
       "       [ -0.19753086],\n",
       "       [  2.80246914],\n",
       "       [  2.80246914],\n",
       "       [  3.80246914],\n",
       "       [  4.80246914],\n",
       "       [  0.80246914],\n",
       "       [  5.80246914],\n",
       "       [  6.80246914],\n",
       "       [  8.80246914],\n",
       "       [  9.80246914],\n",
       "       [  4.80246914],\n",
       "       [  4.80246914],\n",
       "       [  5.80246914],\n",
       "       [  1.80246914],\n",
       "       [  4.80246914],\n",
       "       [  5.80246914],\n",
       "       [  5.80246914],\n",
       "       [  4.80246914],\n",
       "       [  6.80246914],\n",
       "       [  7.80246914],\n",
       "       [  9.80246914],\n",
       "       [ 10.80246914],\n",
       "       [  8.80246914],\n",
       "       [  7.80246914],\n",
       "       [  7.80246914],\n",
       "       [  9.80246914],\n",
       "       [  9.80246914],\n",
       "       [  7.80246914],\n",
       "       [  9.80246914],\n",
       "       [ 11.80246914],\n",
       "       [  3.80246914],\n",
       "       [ 12.80246914],\n",
       "       [ 10.80246914],\n",
       "       [ 12.80246914],\n",
       "       [  5.80246914],\n",
       "       [  7.80246914],\n",
       "       [ 11.80246914],\n",
       "       [ 12.80246914],\n",
       "       [ 12.80246914],\n",
       "       [  9.80246914],\n",
       "       [  8.80246914],\n",
       "       [  7.80246914],\n",
       "       [ 11.80246914],\n",
       "       [  8.80246914],\n",
       "       [  9.80246914],\n",
       "       [ 11.80246914],\n",
       "       [ 13.80246914],\n",
       "       [ 14.80246914],\n",
       "       [ 14.80246914],\n",
       "       [ 15.80246914],\n",
       "       [  9.80246914],\n",
       "       [ 13.80246914],\n",
       "       [ 13.80246914],\n",
       "       [ 12.80246914],\n",
       "       [ 10.80246914],\n",
       "       [ 14.80246914],\n",
       "       [ 11.80246914],\n",
       "       [ 14.80246914],\n",
       "       [ 14.80246914],\n",
       "       [ 14.80246914],\n",
       "       [  9.80246914],\n",
       "       [ 10.80246914],\n",
       "       [ 11.80246914],\n",
       "       [ 14.80246914],\n",
       "       [ 15.80246914],\n",
       "       [ 13.80246914],\n",
       "       [ 15.80246914],\n",
       "       [ 14.80246914],\n",
       "       [ 15.80246914],\n",
       "       [ 14.80246914],\n",
       "       [ 12.80246914],\n",
       "       [ 14.80246914],\n",
       "       [ 13.80246914],\n",
       "       [ 14.80246914],\n",
       "       [ 13.80246914],\n",
       "       [ 14.80246914],\n",
       "       [ 14.80246914],\n",
       "       [ 12.80246914],\n",
       "       [ 14.80246914],\n",
       "       [ 15.80246914],\n",
       "       [ 14.80246914],\n",
       "       [ 14.80246914],\n",
       "       [ 14.80246914],\n",
       "       [ 15.80246914],\n",
       "       [ 15.80246914],\n",
       "       [ 15.80246914]])"
      ]
     },
     "execution_count": 11,
     "metadata": {},
     "output_type": "execute_result"
    }
   ],
   "source": [
    "X"
   ]
  },
  {
   "cell_type": "code",
   "execution_count": 12,
   "metadata": {
    "ExecuteTime": {
     "end_time": "2020-05-02T13:55:11.716694Z",
     "start_time": "2020-05-02T13:55:07.872204Z"
    }
   },
   "outputs": [
    {
     "name": "stdout",
     "output_type": "stream",
     "text": [
      "Train on 162 samples\n",
      "Epoch 1/200\n",
      "162/162 [==============================] - 0s 1ms/sample - loss: 445.2409\n",
      "Epoch 2/200\n",
      "162/162 [==============================] - 0s 66us/sample - loss: 295.7923\n",
      "Epoch 3/200\n",
      "162/162 [==============================] - 0s 87us/sample - loss: 296.1893\n",
      "Epoch 4/200\n",
      "162/162 [==============================] - 0s 59us/sample - loss: 213.6970\n",
      "Epoch 5/200\n",
      "162/162 [==============================] - 0s 76us/sample - loss: 207.6412\n",
      "Epoch 6/200\n",
      "162/162 [==============================] - 0s 112us/sample - loss: 117.9234\n",
      "Epoch 7/200\n",
      "162/162 [==============================] - 0s 103us/sample - loss: 98.3261\n",
      "Epoch 8/200\n",
      "162/162 [==============================] - 0s 118us/sample - loss: 80.7904\n",
      "Epoch 9/200\n",
      "162/162 [==============================] - 0s 103us/sample - loss: 53.4809\n",
      "Epoch 10/200\n",
      "162/162 [==============================] - 0s 92us/sample - loss: 36.1822\n",
      "Epoch 11/200\n",
      "162/162 [==============================] - 0s 94us/sample - loss: 28.6174\n",
      "Epoch 12/200\n",
      "162/162 [==============================] - 0s 93us/sample - loss: 20.2236\n",
      "Epoch 13/200\n",
      "162/162 [==============================] - 0s 115us/sample - loss: 16.5684\n",
      "Epoch 14/200\n",
      "162/162 [==============================] - 0s 158us/sample - loss: 14.1832\n",
      "Epoch 15/200\n",
      "162/162 [==============================] - 0s 108us/sample - loss: 10.8115\n",
      "Epoch 16/200\n",
      "162/162 [==============================] - 0s 71us/sample - loss: 17.2881\n",
      "Epoch 17/200\n",
      "162/162 [==============================] - 0s 109us/sample - loss: 15.1758\n",
      "Epoch 18/200\n",
      "162/162 [==============================] - 0s 98us/sample - loss: 9.3471\n",
      "Epoch 19/200\n",
      "162/162 [==============================] - 0s 119us/sample - loss: 6.2223\n",
      "Epoch 20/200\n",
      "162/162 [==============================] - 0s 81us/sample - loss: 4.3407\n",
      "Epoch 21/200\n",
      "162/162 [==============================] - 0s 166us/sample - loss: 3.5386\n",
      "Epoch 22/200\n",
      "162/162 [==============================] - 0s 96us/sample - loss: 3.3627\n",
      "Epoch 23/200\n",
      "162/162 [==============================] - 0s 92us/sample - loss: 1.8004\n",
      "Epoch 24/200\n",
      "162/162 [==============================] - 0s 73us/sample - loss: 1.3135\n",
      "Epoch 25/200\n",
      "162/162 [==============================] - 0s 101us/sample - loss: 1.0788\n",
      "Epoch 26/200\n",
      "162/162 [==============================] - 0s 135us/sample - loss: 1.0233\n",
      "Epoch 27/200\n",
      "162/162 [==============================] - 0s 95us/sample - loss: 1.0054\n",
      "Epoch 28/200\n",
      "162/162 [==============================] - 0s 84us/sample - loss: 1.1859\n",
      "Epoch 29/200\n",
      "162/162 [==============================] - 0s 98us/sample - loss: 1.1422\n",
      "Epoch 30/200\n",
      "162/162 [==============================] - 0s 109us/sample - loss: 0.9999\n",
      "Epoch 31/200\n",
      "162/162 [==============================] - 0s 96us/sample - loss: 1.1132\n",
      "Epoch 32/200\n",
      "162/162 [==============================] - 0s 119us/sample - loss: 0.9790\n",
      "Epoch 33/200\n",
      "162/162 [==============================] - 0s 78us/sample - loss: 1.0348\n",
      "Epoch 34/200\n",
      "162/162 [==============================] - 0s 164us/sample - loss: 0.9853\n",
      "Epoch 35/200\n",
      "162/162 [==============================] - 0s 111us/sample - loss: 1.0156\n",
      "Epoch 36/200\n",
      "162/162 [==============================] - 0s 72us/sample - loss: 0.9364\n",
      "Epoch 37/200\n",
      "162/162 [==============================] - 0s 117us/sample - loss: 1.0078\n",
      "Epoch 38/200\n",
      "162/162 [==============================] - 0s 96us/sample - loss: 0.9875\n",
      "Epoch 39/200\n",
      "162/162 [==============================] - 0s 101us/sample - loss: 0.9019\n",
      "Epoch 40/200\n",
      "162/162 [==============================] - 0s 103us/sample - loss: 0.9010\n",
      "Epoch 41/200\n",
      "162/162 [==============================] - 0s 68us/sample - loss: 0.9092\n",
      "Epoch 42/200\n",
      "162/162 [==============================] - 0s 87us/sample - loss: 0.9187\n",
      "Epoch 43/200\n",
      "162/162 [==============================] - 0s 114us/sample - loss: 0.9162\n",
      "Epoch 44/200\n",
      "162/162 [==============================] - 0s 126us/sample - loss: 1.0044\n",
      "Epoch 45/200\n",
      "162/162 [==============================] - 0s 73us/sample - loss: 0.9552\n",
      "Epoch 46/200\n",
      "162/162 [==============================] - 0s 112us/sample - loss: 1.3209\n",
      "Epoch 47/200\n",
      "162/162 [==============================] - 0s 102us/sample - loss: 1.8946\n",
      "Epoch 48/200\n",
      "162/162 [==============================] - 0s 111us/sample - loss: 1.7439\n",
      "Epoch 49/200\n",
      "162/162 [==============================] - 0s 102us/sample - loss: 1.5152\n",
      "Epoch 50/200\n",
      "162/162 [==============================] - 0s 99us/sample - loss: 1.3308\n",
      "Epoch 51/200\n",
      "162/162 [==============================] - 0s 74us/sample - loss: 0.9959\n",
      "Epoch 52/200\n",
      "162/162 [==============================] - 0s 78us/sample - loss: 2.5004\n",
      "Epoch 53/200\n",
      "162/162 [==============================] - 0s 95us/sample - loss: 1.4383\n",
      "Epoch 54/200\n",
      "162/162 [==============================] - 0s 97us/sample - loss: 0.9242\n",
      "Epoch 55/200\n",
      "162/162 [==============================] - 0s 68us/sample - loss: 1.1221\n",
      "Epoch 56/200\n",
      "162/162 [==============================] - 0s 82us/sample - loss: 0.9395\n",
      "Epoch 57/200\n",
      "162/162 [==============================] - 0s 143us/sample - loss: 0.8730\n",
      "Epoch 58/200\n",
      "162/162 [==============================] - 0s 94us/sample - loss: 0.9188\n",
      "Epoch 59/200\n",
      "162/162 [==============================] - 0s 55us/sample - loss: 0.9337\n",
      "Epoch 60/200\n",
      "162/162 [==============================] - 0s 100us/sample - loss: 0.8723\n",
      "Epoch 61/200\n",
      "162/162 [==============================] - 0s 88us/sample - loss: 0.8833\n",
      "Epoch 62/200\n",
      "162/162 [==============================] - 0s 80us/sample - loss: 0.8818\n",
      "Epoch 63/200\n",
      "162/162 [==============================] - 0s 83us/sample - loss: 0.8961\n",
      "Epoch 64/200\n",
      "162/162 [==============================] - 0s 88us/sample - loss: 0.9060\n",
      "Epoch 65/200\n",
      "162/162 [==============================] - 0s 68us/sample - loss: 0.8693\n",
      "Epoch 66/200\n",
      "162/162 [==============================] - 0s 97us/sample - loss: 0.8764\n",
      "Epoch 67/200\n",
      "162/162 [==============================] - 0s 77us/sample - loss: 0.8746\n",
      "Epoch 68/200\n",
      "162/162 [==============================] - 0s 87us/sample - loss: 0.8796\n",
      "Epoch 69/200\n",
      "162/162 [==============================] - 0s 78us/sample - loss: 0.8725\n",
      "Epoch 70/200\n",
      "162/162 [==============================] - 0s 75us/sample - loss: 0.8713\n",
      "Epoch 71/200\n",
      "162/162 [==============================] - 0s 81us/sample - loss: 0.8715\n",
      "Epoch 72/200\n",
      "162/162 [==============================] - 0s 75us/sample - loss: 0.8781\n",
      "Epoch 73/200\n",
      "162/162 [==============================] - 0s 76us/sample - loss: 0.8726\n",
      "Epoch 74/200\n",
      "162/162 [==============================] - 0s 109us/sample - loss: 0.8812\n",
      "Epoch 75/200\n",
      "162/162 [==============================] - 0s 102us/sample - loss: 0.8978\n",
      "Epoch 76/200\n",
      "162/162 [==============================] - 0s 85us/sample - loss: 0.8685\n",
      "Epoch 77/200\n",
      "162/162 [==============================] - 0s 83us/sample - loss: 0.9052\n",
      "Epoch 78/200\n",
      "162/162 [==============================] - 0s 86us/sample - loss: 0.8936\n",
      "Epoch 79/200\n",
      "162/162 [==============================] - 0s 96us/sample - loss: 0.8720\n",
      "Epoch 80/200\n",
      "162/162 [==============================] - 0s 88us/sample - loss: 0.8741\n",
      "Epoch 81/200\n",
      "162/162 [==============================] - 0s 83us/sample - loss: 0.8695\n",
      "Epoch 82/200\n",
      "162/162 [==============================] - 0s 63us/sample - loss: 0.8710\n",
      "Epoch 83/200\n",
      "162/162 [==============================] - 0s 69us/sample - loss: 0.8757\n",
      "Epoch 84/200\n",
      "162/162 [==============================] - 0s 82us/sample - loss: 0.8793\n",
      "Epoch 85/200\n",
      "162/162 [==============================] - 0s 115us/sample - loss: 0.9032\n",
      "Epoch 86/200\n",
      "162/162 [==============================] - 0s 84us/sample - loss: 0.9060\n",
      "Epoch 87/200\n",
      "162/162 [==============================] - 0s 85us/sample - loss: 0.8660\n",
      "Epoch 88/200\n",
      "162/162 [==============================] - 0s 78us/sample - loss: 0.8806\n",
      "Epoch 89/200\n",
      "162/162 [==============================] - 0s 103us/sample - loss: 0.9096\n",
      "Epoch 90/200\n",
      "162/162 [==============================] - 0s 71us/sample - loss: 0.9355\n",
      "Epoch 91/200\n",
      "162/162 [==============================] - 0s 89us/sample - loss: 0.8800\n",
      "Epoch 92/200\n",
      "162/162 [==============================] - 0s 92us/sample - loss: 0.8896\n",
      "Epoch 93/200\n",
      "162/162 [==============================] - 0s 79us/sample - loss: 0.9182\n",
      "Epoch 94/200\n",
      "162/162 [==============================] - 0s 85us/sample - loss: 0.8731\n",
      "Epoch 95/200\n"
     ]
    },
    {
     "name": "stdout",
     "output_type": "stream",
     "text": [
      "162/162 [==============================] - 0s 106us/sample - loss: 0.8717\n",
      "Epoch 96/200\n",
      "162/162 [==============================] - 0s 89us/sample - loss: 0.8762\n",
      "Epoch 97/200\n",
      "162/162 [==============================] - 0s 74us/sample - loss: 0.8789\n",
      "Epoch 98/200\n",
      "162/162 [==============================] - 0s 62us/sample - loss: 0.8909\n",
      "Epoch 99/200\n",
      "162/162 [==============================] - 0s 87us/sample - loss: 0.8867\n",
      "Epoch 100/200\n",
      "162/162 [==============================] - 0s 62us/sample - loss: 0.8674\n",
      "Epoch 101/200\n",
      "162/162 [==============================] - 0s 99us/sample - loss: 0.8740\n",
      "Epoch 102/200\n",
      "162/162 [==============================] - 0s 83us/sample - loss: 0.8830\n",
      "Epoch 103/200\n",
      "162/162 [==============================] - 0s 74us/sample - loss: 0.8867\n",
      "Epoch 104/200\n",
      "162/162 [==============================] - 0s 73us/sample - loss: 0.8815\n",
      "Epoch 105/200\n",
      "162/162 [==============================] - 0s 80us/sample - loss: 0.8782\n",
      "Epoch 106/200\n",
      "162/162 [==============================] - 0s 88us/sample - loss: 0.8723\n",
      "Epoch 107/200\n",
      "162/162 [==============================] - 0s 83us/sample - loss: 0.8749\n",
      "Epoch 108/200\n",
      "162/162 [==============================] - 0s 112us/sample - loss: 0.8868\n",
      "Epoch 109/200\n",
      "162/162 [==============================] - 0s 68us/sample - loss: 0.8757\n",
      "Epoch 110/200\n",
      "162/162 [==============================] - 0s 107us/sample - loss: 0.8812\n",
      "Epoch 111/200\n",
      "162/162 [==============================] - 0s 86us/sample - loss: 0.8758\n",
      "Epoch 112/200\n",
      "162/162 [==============================] - 0s 88us/sample - loss: 0.8663\n",
      "Epoch 113/200\n",
      "162/162 [==============================] - 0s 77us/sample - loss: 0.8772\n",
      "Epoch 114/200\n",
      "162/162 [==============================] - 0s 78us/sample - loss: 0.8792\n",
      "Epoch 115/200\n",
      "162/162 [==============================] - 0s 76us/sample - loss: 0.8878\n",
      "Epoch 116/200\n",
      "162/162 [==============================] - 0s 75us/sample - loss: 0.8802\n",
      "Epoch 117/200\n",
      "162/162 [==============================] - 0s 103us/sample - loss: 0.9132\n",
      "Epoch 118/200\n",
      "162/162 [==============================] - 0s 82us/sample - loss: 0.8882\n",
      "Epoch 119/200\n",
      "162/162 [==============================] - 0s 85us/sample - loss: 0.8730\n",
      "Epoch 120/200\n",
      "162/162 [==============================] - 0s 87us/sample - loss: 0.8706\n",
      "Epoch 121/200\n",
      "162/162 [==============================] - 0s 74us/sample - loss: 0.8831\n",
      "Epoch 122/200\n",
      "162/162 [==============================] - 0s 86us/sample - loss: 0.8804\n",
      "Epoch 123/200\n",
      "162/162 [==============================] - 0s 70us/sample - loss: 0.8728\n",
      "Epoch 124/200\n",
      "162/162 [==============================] - 0s 91us/sample - loss: 0.8735\n",
      "Epoch 125/200\n",
      "162/162 [==============================] - 0s 69us/sample - loss: 0.8768\n",
      "Epoch 126/200\n",
      "162/162 [==============================] - 0s 88us/sample - loss: 0.8777\n",
      "Epoch 127/200\n",
      "162/162 [==============================] - 0s 83us/sample - loss: 0.8706\n",
      "Epoch 128/200\n",
      "162/162 [==============================] - 0s 99us/sample - loss: 0.8704\n",
      "Epoch 129/200\n",
      "162/162 [==============================] - 0s 77us/sample - loss: 0.8729\n",
      "Epoch 130/200\n",
      "162/162 [==============================] - 0s 107us/sample - loss: 0.8729\n",
      "Epoch 131/200\n",
      "162/162 [==============================] - 0s 90us/sample - loss: 0.8743\n",
      "Epoch 132/200\n",
      "162/162 [==============================] - 0s 88us/sample - loss: 0.8776\n",
      "Epoch 133/200\n",
      "162/162 [==============================] - 0s 80us/sample - loss: 0.8768\n",
      "Epoch 134/200\n",
      "162/162 [==============================] - 0s 82us/sample - loss: 0.8917\n",
      "Epoch 135/200\n",
      "162/162 [==============================] - 0s 104us/sample - loss: 0.8867\n",
      "Epoch 136/200\n",
      "162/162 [==============================] - 0s 89us/sample - loss: 0.8830\n",
      "Epoch 137/200\n",
      "162/162 [==============================] - 0s 98us/sample - loss: 0.8765\n",
      "Epoch 138/200\n",
      "162/162 [==============================] - 0s 81us/sample - loss: 0.8727\n",
      "Epoch 139/200\n",
      "162/162 [==============================] - 0s 74us/sample - loss: 0.8719\n",
      "Epoch 140/200\n",
      "162/162 [==============================] - 0s 96us/sample - loss: 0.8744\n",
      "Epoch 141/200\n",
      "162/162 [==============================] - 0s 112us/sample - loss: 0.8729\n",
      "Epoch 142/200\n",
      "162/162 [==============================] - 0s 95us/sample - loss: 0.8765\n",
      "Epoch 143/200\n",
      "162/162 [==============================] - 0s 84us/sample - loss: 0.8702\n",
      "Epoch 144/200\n",
      "162/162 [==============================] - 0s 91us/sample - loss: 0.8777\n",
      "Epoch 145/200\n",
      "162/162 [==============================] - 0s 104us/sample - loss: 0.8665\n",
      "Epoch 146/200\n",
      "162/162 [==============================] - 0s 79us/sample - loss: 0.8731\n",
      "Epoch 147/200\n",
      "162/162 [==============================] - 0s 112us/sample - loss: 0.8707\n",
      "Epoch 148/200\n",
      "162/162 [==============================] - 0s 73us/sample - loss: 0.8742\n",
      "Epoch 149/200\n",
      "162/162 [==============================] - 0s 93us/sample - loss: 0.8742\n",
      "Epoch 150/200\n",
      "162/162 [==============================] - 0s 89us/sample - loss: 0.8773\n",
      "Epoch 151/200\n",
      "162/162 [==============================] - 0s 131us/sample - loss: 0.8797\n",
      "Epoch 152/200\n",
      "162/162 [==============================] - 0s 82us/sample - loss: 0.8794\n",
      "Epoch 153/200\n",
      "162/162 [==============================] - 0s 82us/sample - loss: 0.8931\n",
      "Epoch 154/200\n",
      "162/162 [==============================] - 0s 84us/sample - loss: 0.8865\n",
      "Epoch 155/200\n",
      "162/162 [==============================] - 0s 77us/sample - loss: 0.8707\n",
      "Epoch 156/200\n",
      "162/162 [==============================] - 0s 96us/sample - loss: 0.9422\n",
      "Epoch 157/200\n",
      "162/162 [==============================] - 0s 72us/sample - loss: 0.8920\n",
      "Epoch 158/200\n",
      "162/162 [==============================] - 0s 79us/sample - loss: 0.8796\n",
      "Epoch 159/200\n",
      "162/162 [==============================] - 0s 78us/sample - loss: 0.8795\n",
      "Epoch 160/200\n",
      "162/162 [==============================] - 0s 90us/sample - loss: 0.8783\n",
      "Epoch 161/200\n",
      "162/162 [==============================] - 0s 81us/sample - loss: 0.8722\n",
      "Epoch 162/200\n",
      "162/162 [==============================] - 0s 81us/sample - loss: 0.8713\n",
      "Epoch 163/200\n",
      "162/162 [==============================] - 0s 92us/sample - loss: 0.8724\n",
      "Epoch 164/200\n",
      "162/162 [==============================] - 0s 74us/sample - loss: 0.8702\n",
      "Epoch 165/200\n",
      "162/162 [==============================] - 0s 92us/sample - loss: 0.8731\n",
      "Epoch 166/200\n",
      "162/162 [==============================] - 0s 54us/sample - loss: 0.9023\n",
      "Epoch 167/200\n",
      "162/162 [==============================] - 0s 160us/sample - loss: 0.8939\n",
      "Epoch 168/200\n",
      "162/162 [==============================] - 0s 113us/sample - loss: 0.8609\n",
      "Epoch 169/200\n",
      "162/162 [==============================] - 0s 70us/sample - loss: 0.8906\n",
      "Epoch 170/200\n",
      "162/162 [==============================] - 0s 66us/sample - loss: 0.8821\n",
      "Epoch 171/200\n",
      "162/162 [==============================] - 0s 106us/sample - loss: 0.8800\n",
      "Epoch 172/200\n",
      "162/162 [==============================] - 0s 82us/sample - loss: 0.8850\n",
      "Epoch 173/200\n",
      "162/162 [==============================] - 0s 63us/sample - loss: 0.8836\n",
      "Epoch 174/200\n",
      "162/162 [==============================] - 0s 123us/sample - loss: 0.8933\n",
      "Epoch 175/200\n",
      "162/162 [==============================] - 0s 97us/sample - loss: 0.8732\n",
      "Epoch 176/200\n",
      "162/162 [==============================] - 0s 58us/sample - loss: 0.8959\n",
      "Epoch 177/200\n",
      "162/162 [==============================] - 0s 76us/sample - loss: 0.9029\n",
      "Epoch 178/200\n",
      "162/162 [==============================] - 0s 67us/sample - loss: 0.8777\n",
      "Epoch 179/200\n",
      "162/162 [==============================] - 0s 95us/sample - loss: 0.8789\n",
      "Epoch 180/200\n",
      "162/162 [==============================] - 0s 72us/sample - loss: 0.8814\n",
      "Epoch 181/200\n",
      "162/162 [==============================] - 0s 76us/sample - loss: 0.8893\n",
      "Epoch 182/200\n",
      "162/162 [==============================] - 0s 82us/sample - loss: 0.8744\n",
      "Epoch 183/200\n",
      "162/162 [==============================] - 0s 72us/sample - loss: 0.8717\n",
      "Epoch 184/200\n",
      "162/162 [==============================] - 0s 99us/sample - loss: 0.8735\n",
      "Epoch 185/200\n",
      "162/162 [==============================] - 0s 110us/sample - loss: 0.8722\n",
      "Epoch 186/200\n",
      "162/162 [==============================] - 0s 81us/sample - loss: 0.8726\n",
      "Epoch 187/200\n",
      "162/162 [==============================] - 0s 103us/sample - loss: 0.8744\n",
      "Epoch 188/200\n",
      "162/162 [==============================] - 0s 76us/sample - loss: 0.8733\n",
      "Epoch 189/200\n"
     ]
    },
    {
     "name": "stdout",
     "output_type": "stream",
     "text": [
      "162/162 [==============================] - 0s 86us/sample - loss: 0.8731\n",
      "Epoch 190/200\n",
      "162/162 [==============================] - 0s 78us/sample - loss: 0.8712\n",
      "Epoch 191/200\n",
      "162/162 [==============================] - 0s 97us/sample - loss: 0.8688\n",
      "Epoch 192/200\n",
      "162/162 [==============================] - 0s 63us/sample - loss: 0.8735\n",
      "Epoch 193/200\n",
      "162/162 [==============================] - 0s 77us/sample - loss: 0.8731\n",
      "Epoch 194/200\n",
      "162/162 [==============================] - 0s 84us/sample - loss: 0.8718\n",
      "Epoch 195/200\n",
      "162/162 [==============================] - 0s 66us/sample - loss: 0.8746\n",
      "Epoch 196/200\n",
      "162/162 [==============================] - 0s 82us/sample - loss: 0.8777\n",
      "Epoch 197/200\n",
      "162/162 [==============================] - 0s 72us/sample - loss: 0.8782\n",
      "Epoch 198/200\n",
      "162/162 [==============================] - 0s 73us/sample - loss: 0.8894\n",
      "Epoch 199/200\n",
      "162/162 [==============================] - 0s 94us/sample - loss: 0.8740\n",
      "Epoch 200/200\n",
      "162/162 [==============================] - 0s 90us/sample - loss: 0.8758\n"
     ]
    }
   ],
   "source": [
    "# Now create our Tensorflow model\n",
    "model = tf.keras.models.Sequential([\n",
    "  tf.keras.layers.Input(shape=(1,)),\n",
    "  tf.keras.layers.Dense(1)\n",
    "])\n",
    "\n",
    "model.compile(optimizer=tf.keras.optimizers.SGD(0.001, 0.9), loss='mse')\n",
    "# model.compile(optimizer='adam', loss='mse')\n",
    "\n",
    "\n",
    "# learning rate scheduler\n",
    "def schedule(epoch, lr):\n",
    "  if epoch >= 50:\n",
    "    return 0.0001\n",
    "  return 0.001\n",
    " \n",
    "\n",
    "scheduler = tf.keras.callbacks.LearningRateScheduler(schedule)\n",
    "\n",
    "\n",
    "# Train the model\n",
    "r = model.fit(X, Y, epochs=200, callbacks=[scheduler])"
   ]
  },
  {
   "cell_type": "code",
   "execution_count": 13,
   "metadata": {
    "ExecuteTime": {
     "end_time": "2020-05-02T13:55:11.900459Z",
     "start_time": "2020-05-02T13:55:11.722162Z"
    }
   },
   "outputs": [
    {
     "data": {
      "text/plain": [
       "[<matplotlib.lines.Line2D at 0x7fa6585fed90>]"
      ]
     },
     "execution_count": 13,
     "metadata": {},
     "output_type": "execute_result"
    },
    {
     "data": {
      "image/png": "[encoded data removed]",
      "text/plain": [
       "<Figure size 432x288 with 1 Axes>"
      ]
     },
     "metadata": {
      "needs_background": "light"
     },
     "output_type": "display_data"
    }
   ],
   "source": [
    "# Plot the loss\n",
    "plt.plot(r.history['loss'], label='loss')"
   ]
  },
  {
   "cell_type": "code",
   "execution_count": 14,
   "metadata": {
    "ExecuteTime": {
     "end_time": "2020-05-02T13:55:11.909004Z",
     "start_time": "2020-05-02T13:55:11.902744Z"
    }
   },
   "outputs": [
    {
     "name": "stdout",
     "output_type": "stream",
     "text": [
      "[<tensorflow.python.keras.layers.core.Dense object at 0x7fa661de8250>]\n",
      "[array([[0.3393325]], dtype=float32), array([17.769707], dtype=float32)]\n"
     ]
    }
   ],
   "source": [
    "# Get the slope of the line\n",
    "# The slope of the line is related to the doubling rate of transistor count\n",
    "print(model.layers) # Note: there is only 1 layer, the \"Input\" layer doesn't count\n",
    "print(model.layers[0].get_weights())"
   ]
  },
  {
   "cell_type": "code",
   "execution_count": 15,
   "metadata": {
    "ExecuteTime": {
     "end_time": "2020-05-02T13:55:12.003057Z",
     "start_time": "2020-05-02T13:55:11.910397Z"
    }
   },
   "outputs": [
    {
     "data": {
      "text/plain": [
       "0.3393325"
      ]
     },
     "execution_count": 15,
     "metadata": {},
     "output_type": "execute_result"
    }
   ],
   "source": [
    "# The slope of the line is:\n",
    "a = model.layers[0].get_weights()[0][0,0]\n",
    "a"
   ]
  },
  {
   "cell_type": "markdown",
   "metadata": {
    "ExecuteTime": {
     "end_time": "2020-05-02T13:45:47.665422Z",
     "start_time": "2020-05-02T13:45:47.637818Z"
    }
   },
   "source": [
    "Our original model for exponential growth is:\n",
    "\n",
    "$$ C = A_0 r^t $$\n",
    "\n",
    "Where $ C $ is transistor the count and $ t $ is the year.\n",
    "\n",
    "$ r $ is the rate of growth. For example, when $ t $ goes from 1 to 2, $ C $ increases by a factor of $ r $. When $ t $ goes from 2 to 3, $ C $ increases by a factor of $ r $ again.\n",
    "\n",
    "When we take the log of both sides, we get:\n",
    "\n",
    "$$ \\log C = \\log r * t + \\log A_0 $$\n",
    "\n",
    "This is our linear equation:\n",
    "\n",
    "$$ \\hat{y} = ax + b $$\n",
    "\n",
    "Where:\n",
    "\n",
    "$$ \\hat{y} = \\log C $$\n",
    "$$ a = \\log r $$\n",
    "$$ x = t $$\n",
    "$$ b = \\log A_0 $$\n",
    "\n",
    "We are interested in $ r $, because that's the rate of growth. Given our regression weights, we know that:\n",
    "\n",
    "$$ a = 0.34188038 $$\n",
    "\n",
    "so that:\n",
    "\n",
    "$$ r = e^{0.34188038} = 1.4076 $$\n",
    "\n",
    "To find the time it takes for transistor count to double, we simply need to find the amount of time it takes for $ C $ to increase to $ 2C $.\n",
    "\n",
    "Let's call the original starting time $ t $, to correspond with the initial transistor count $ C $.\n",
    "\n",
    "Let's call the end time $ t' $, to correspond with the final transistor count $ 2C $.\n",
    "\n",
    "Then we also have:\n",
    "\n",
    "$$ 2C = A_0 r ^ {t'} $$\n",
    "\n",
    "Combine this with our original equation:\n",
    "\n",
    "$$ C = A_0 r^t $$\n",
    "\n",
    "We get (by dividing the 2 equations):\n",
    "\n",
    "$$ 2C/C = (A_0 r ^ {t'}) / A_0 r^t $$\n",
    "\n",
    "Which simplifies to:\n",
    "\n",
    "$$ 2 = r^{(t' - t)} $$\n",
    "\n",
    "Solve for $ t' - t $:\n",
    "\n",
    "$$ t' - t = \\frac{\\log 2}{\\log r} = \\frac{\\log2}{a}$$\n",
    "\n",
    "\n",
    "Important note! We haven't specified what the starting time $ t $ actually is, and we don't have to since we just proved that this holds for any $ t $."
   ]
  },
  {
   "cell_type": "code",
   "execution_count": 16,
   "metadata": {
    "ExecuteTime": {
     "end_time": "2020-05-02T13:55:12.059514Z",
     "start_time": "2020-05-02T13:55:12.012373Z"
    }
   },
   "outputs": [
    {
     "name": "stdout",
     "output_type": "stream",
     "text": [
      "Time to double: 2.0426784897360815\n"
     ]
    }
   ],
   "source": [
    "print(\"Time to double:\", np.log(2) / a)"
   ]
  },
  {
   "cell_type": "code",
   "execution_count": 17,
   "metadata": {
    "ExecuteTime": {
     "end_time": "2020-05-02T13:55:12.122773Z",
     "start_time": "2020-05-02T13:55:12.063273Z"
    }
   },
   "outputs": [
    {
     "name": "stdout",
     "output_type": "stream",
     "text": [
      "0.341682487387313 17.764939393631764\n",
      "Time to double: 2.0286295205239204\n"
     ]
    }
   ],
   "source": [
    "# If you know the analytical solution\n",
    "X = np.array(X).flatten()\n",
    "Y = np.array(Y)\n",
    "denominator = X.dot(X) - X.mean() * X.sum()\n",
    "a = ( X.dot(Y) - Y.mean()*X.sum() ) / denominator\n",
    "b = ( Y.mean() * X.dot(X) - X.mean() * X.dot(Y) ) / denominator\n",
    "print(a, b)\n",
    "print(\"Time to double:\", np.log(2) / a)"
   ]
  },
  {
   "cell_type": "markdown",
   "metadata": {},
   "source": [
    "# Part 2: Making Predictions\n",
    "\n",
    "This goes with the lecture \"Making Predictions\""
   ]
  },
  {
   "cell_type": "code",
   "execution_count": 18,
   "metadata": {
    "ExecuteTime": {
     "end_time": "2020-05-02T13:55:12.498989Z",
     "start_time": "2020-05-02T13:55:12.125648Z"
    }
   },
   "outputs": [
    {
     "data": {
      "text/plain": [
       "[<matplotlib.lines.Line2D at 0x7fa658654f10>]"
      ]
     },
     "execution_count": 18,
     "metadata": {},
     "output_type": "execute_result"
    },
    {
     "data": {
      "image/png": "[encoded data removed]",
      "text/plain": [
       "<Figure size 432x288 with 1 Axes>"
      ]
     },
     "metadata": {
      "needs_background": "light"
     },
     "output_type": "display_data"
    }
   ],
   "source": [
    "# Make sure the line fits our data\n",
    "Yhat = model.predict(X).flatten()\n",
    "plt.scatter(X, Y)\n",
    "plt.plot(X, Yhat)"
   ]
  },
  {
   "cell_type": "code",
   "execution_count": 19,
   "metadata": {
    "ExecuteTime": {
     "end_time": "2020-05-02T13:55:12.507382Z",
     "start_time": "2020-05-02T13:55:12.501217Z"
    },
    "code_folding": []
   },
   "outputs": [
    {
     "data": {
      "text/plain": [
       "True"
      ]
     },
     "execution_count": 19,
     "metadata": {},
     "output_type": "execute_result"
    }
   ],
   "source": [
    "# Manual calculation\n",
    "\n",
    "# Get the weights\n",
    "w, b = model.layers[0].get_weights()\n",
    "\n",
    "# Reshape X because we flattened it again earlier\n",
    "X = X.reshape(-1, 1)\n",
    "\n",
    "# (N x 1) x (1 x 1) + (1) --> (N x 1)\n",
    "Yhat2 = (X.dot(w) + b).flatten()\n",
    "\n",
    "# Don't use == for floating points\n",
    "np.allclose(Yhat, Yhat2)"
   ]
  },
  {
   "cell_type": "code",
   "execution_count": null,
   "metadata": {},
   "outputs": [],
   "source": []
  }
 ],
 "metadata": {
  "kernelspec": {
   "display_name": "Python 3",
   "language": "python",
   "name": "python3"
  },
  "language_info": {
   "codemirror_mode": {
    "name": "ipython",
    "version": 3
   },
   "file_extension": ".py",
   "mimetype": "text/x-python",
   "name": "python",
   "nbconvert_exporter": "python",
   "pygments_lexer": "ipython3",
   "version": "3.7.7"
  },
  "varInspector": {
   "cols": {
    "lenName": 16,
    "lenType": 16,
    "lenVar": 40
   },
   "kernels_config": {
    "python": {
     "delete_cmd_postfix": "",
     "delete_cmd_prefix": "del ",
     "library": "var_list.py",
     "varRefreshCmd": "print(var_dic_list())"
    },
    "r": {
     "delete_cmd_postfix": ") ",
     "delete_cmd_prefix": "rm(",
     "library": "var_list.r",
     "varRefreshCmd": "cat(var_dic_list()) "
    }
   },
   "types_to_exclude": [
    "module",
    "function",
    "builtin_function_or_method",
    "instance",
    "_Feature"
   ],
   "window_display": false
  }
 },
 "nbformat": 4,
 "nbformat_minor": 4
}
