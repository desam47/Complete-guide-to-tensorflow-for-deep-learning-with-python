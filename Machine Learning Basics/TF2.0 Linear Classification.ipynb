{
 "cells": [
  {
   "cell_type": "code",
   "execution_count": 2,
   "metadata": {
    "ExecuteTime": {
     "end_time": "2020-05-02T13:14:19.462826Z",
     "start_time": "2020-05-02T13:13:58.593536Z"
    }
   },
   "outputs": [
    {
     "name": "stdout",
     "output_type": "stream",
     "text": [
      "2.1.0\n"
     ]
    }
   ],
   "source": [
    "import tensorflow as tf\n",
    "print (tf.__version__)"
   ]
  },
  {
   "cell_type": "code",
   "execution_count": 3,
   "metadata": {
    "ExecuteTime": {
     "end_time": "2020-05-02T13:16:46.506245Z",
     "start_time": "2020-05-02T13:16:46.502314Z"
    }
   },
   "outputs": [],
   "source": [
    "# Load in the data\n",
    "from sklearn.datasets import load_breast_cancer"
   ]
  },
  {
   "cell_type": "code",
   "execution_count": 4,
   "metadata": {
    "ExecuteTime": {
     "end_time": "2020-05-02T13:17:23.837662Z",
     "start_time": "2020-05-02T13:17:23.736326Z"
    }
   },
   "outputs": [],
   "source": [
    "#load the data\n",
    "data = load_breast_cancer()"
   ]
  },
  {
   "cell_type": "code",
   "execution_count": 5,
   "metadata": {
    "ExecuteTime": {
     "end_time": "2020-05-02T13:17:53.209593Z",
     "start_time": "2020-05-02T13:17:53.180796Z"
    }
   },
   "outputs": [
    {
     "data": {
      "text/plain": [
       "sklearn.utils.Bunch"
      ]
     },
     "execution_count": 5,
     "metadata": {},
     "output_type": "execute_result"
    }
   ],
   "source": [
    "# check the type of 'data'\n",
    "type(data)"
   ]
  },
  {
   "cell_type": "code",
   "execution_count": 6,
   "metadata": {
    "ExecuteTime": {
     "end_time": "2020-05-02T13:20:37.325167Z",
     "start_time": "2020-05-02T13:20:37.268303Z"
    }
   },
   "outputs": [
    {
     "data": {
      "text/plain": [
       "dict_keys(['data', 'target', 'target_names', 'DESCR', 'feature_names', 'filename'])"
      ]
     },
     "execution_count": 6,
     "metadata": {},
     "output_type": "execute_result"
    }
   ],
   "source": [
    "# note: it is a Bunch object\n",
    "# this basically acts like a dictionary where you can treat the keys like attributes\n",
    "data.keys()"
   ]
  },
  {
   "cell_type": "code",
   "execution_count": 7,
   "metadata": {
    "ExecuteTime": {
     "end_time": "2020-05-02T13:20:52.608895Z",
     "start_time": "2020-05-02T13:20:52.575881Z"
    }
   },
   "outputs": [
    {
     "data": {
      "text/plain": [
       "(569, 30)"
      ]
     },
     "execution_count": 7,
     "metadata": {},
     "output_type": "execute_result"
    }
   ],
   "source": [
    "# 'data' (the attribute) means the input data\n",
    "data.data.shape\n",
    "# it has 569 samples, 30 features"
   ]
  },
  {
   "cell_type": "code",
   "execution_count": 8,
   "metadata": {
    "ExecuteTime": {
     "end_time": "2020-05-02T13:21:04.994454Z",
     "start_time": "2020-05-02T13:21:04.973591Z"
    }
   },
   "outputs": [
    {
     "data": {
      "text/plain": [
       "array([0, 0, 0, 0, 0, 0, 0, 0, 0, 0, 0, 0, 0, 0, 0, 0, 0, 0, 0, 1, 1, 1,\n",
       "       0, 0, 0, 0, 0, 0, 0, 0, 0, 0, 0, 0, 0, 0, 0, 1, 0, 0, 0, 0, 0, 0,\n",
       "       0, 0, 1, 0, 1, 1, 1, 1, 1, 0, 0, 1, 0, 0, 1, 1, 1, 1, 0, 1, 0, 0,\n",
       "       1, 1, 1, 1, 0, 1, 0, 0, 1, 0, 1, 0, 0, 1, 1, 1, 0, 0, 1, 0, 0, 0,\n",
       "       1, 1, 1, 0, 1, 1, 0, 0, 1, 1, 1, 0, 0, 1, 1, 1, 1, 0, 1, 1, 0, 1,\n",
       "       1, 1, 1, 1, 1, 1, 1, 0, 0, 0, 1, 0, 0, 1, 1, 1, 0, 0, 1, 0, 1, 0,\n",
       "       0, 1, 0, 0, 1, 1, 0, 1, 1, 0, 1, 1, 1, 1, 0, 1, 1, 1, 1, 1, 1, 1,\n",
       "       1, 1, 0, 1, 1, 1, 1, 0, 0, 1, 0, 1, 1, 0, 0, 1, 1, 0, 0, 1, 1, 1,\n",
       "       1, 0, 1, 1, 0, 0, 0, 1, 0, 1, 0, 1, 1, 1, 0, 1, 1, 0, 0, 1, 0, 0,\n",
       "       0, 0, 1, 0, 0, 0, 1, 0, 1, 0, 1, 1, 0, 1, 0, 0, 0, 0, 1, 1, 0, 0,\n",
       "       1, 1, 1, 0, 1, 1, 1, 1, 1, 0, 0, 1, 1, 0, 1, 1, 0, 0, 1, 0, 1, 1,\n",
       "       1, 1, 0, 1, 1, 1, 1, 1, 0, 1, 0, 0, 0, 0, 0, 0, 0, 0, 0, 0, 0, 0,\n",
       "       0, 0, 1, 1, 1, 1, 1, 1, 0, 1, 0, 1, 1, 0, 1, 1, 0, 1, 0, 0, 1, 1,\n",
       "       1, 1, 1, 1, 1, 1, 1, 1, 1, 1, 1, 0, 1, 1, 0, 1, 0, 1, 1, 1, 1, 1,\n",
       "       1, 1, 1, 1, 1, 1, 1, 1, 1, 0, 1, 1, 1, 0, 1, 0, 1, 1, 1, 1, 0, 0,\n",
       "       0, 1, 1, 1, 1, 0, 1, 0, 1, 0, 1, 1, 1, 0, 1, 1, 1, 1, 1, 1, 1, 0,\n",
       "       0, 0, 1, 1, 1, 1, 1, 1, 1, 1, 1, 1, 1, 0, 0, 1, 0, 0, 0, 1, 0, 0,\n",
       "       1, 1, 1, 1, 1, 0, 1, 1, 1, 1, 1, 0, 1, 1, 1, 0, 1, 1, 0, 0, 1, 1,\n",
       "       1, 1, 1, 1, 0, 1, 1, 1, 1, 1, 1, 1, 0, 1, 1, 1, 1, 1, 0, 1, 1, 0,\n",
       "       1, 1, 1, 1, 1, 1, 1, 1, 1, 1, 1, 1, 0, 1, 0, 0, 1, 0, 1, 1, 1, 1,\n",
       "       1, 0, 1, 1, 0, 1, 0, 1, 1, 0, 1, 0, 1, 1, 1, 1, 1, 1, 1, 1, 0, 0,\n",
       "       1, 1, 1, 1, 1, 1, 0, 1, 1, 1, 1, 1, 1, 1, 1, 1, 1, 0, 1, 1, 1, 1,\n",
       "       1, 1, 1, 0, 1, 0, 1, 1, 0, 1, 1, 1, 1, 1, 0, 0, 1, 0, 1, 0, 1, 1,\n",
       "       1, 1, 1, 0, 1, 1, 0, 1, 0, 1, 0, 0, 1, 1, 1, 0, 1, 1, 1, 1, 1, 1,\n",
       "       1, 1, 1, 1, 1, 0, 1, 0, 0, 1, 1, 1, 1, 1, 1, 1, 1, 1, 1, 1, 1, 1,\n",
       "       1, 1, 1, 1, 1, 1, 1, 1, 1, 1, 1, 1, 0, 0, 0, 0, 0, 0, 1])"
      ]
     },
     "execution_count": 8,
     "metadata": {},
     "output_type": "execute_result"
    }
   ],
   "source": [
    "# 'targets'\n",
    "data.target\n",
    "# note how the targets are just 0s and 1s\n",
    "# normally, when you have K targets, they are labeled 0..K-1"
   ]
  },
  {
   "cell_type": "code",
   "execution_count": 9,
   "metadata": {
    "ExecuteTime": {
     "end_time": "2020-05-02T13:21:23.086773Z",
     "start_time": "2020-05-02T13:21:23.059583Z"
    }
   },
   "outputs": [
    {
     "data": {
      "text/plain": [
       "array(['malignant', 'benign'], dtype='<U9')"
      ]
     },
     "execution_count": 9,
     "metadata": {},
     "output_type": "execute_result"
    }
   ],
   "source": [
    "# their meaning is not lost\n",
    "data.target_names"
   ]
  },
  {
   "cell_type": "code",
   "execution_count": 10,
   "metadata": {
    "ExecuteTime": {
     "end_time": "2020-05-02T13:21:47.205227Z",
     "start_time": "2020-05-02T13:21:47.183525Z"
    }
   },
   "outputs": [
    {
     "data": {
      "text/plain": [
       "(569,)"
      ]
     },
     "execution_count": 10,
     "metadata": {},
     "output_type": "execute_result"
    }
   ],
   "source": [
    "# there are also 569 corresponding targets\n",
    "data.target.shape"
   ]
  },
  {
   "cell_type": "code",
   "execution_count": 11,
   "metadata": {
    "ExecuteTime": {
     "end_time": "2020-05-02T13:21:58.699751Z",
     "start_time": "2020-05-02T13:21:58.659971Z"
    }
   },
   "outputs": [
    {
     "data": {
      "text/plain": [
       "array(['mean radius', 'mean texture', 'mean perimeter', 'mean area',\n",
       "       'mean smoothness', 'mean compactness', 'mean concavity',\n",
       "       'mean concave points', 'mean symmetry', 'mean fractal dimension',\n",
       "       'radius error', 'texture error', 'perimeter error', 'area error',\n",
       "       'smoothness error', 'compactness error', 'concavity error',\n",
       "       'concave points error', 'symmetry error',\n",
       "       'fractal dimension error', 'worst radius', 'worst texture',\n",
       "       'worst perimeter', 'worst area', 'worst smoothness',\n",
       "       'worst compactness', 'worst concavity', 'worst concave points',\n",
       "       'worst symmetry', 'worst fractal dimension'], dtype='<U23')"
      ]
     },
     "execution_count": 11,
     "metadata": {},
     "output_type": "execute_result"
    }
   ],
   "source": [
    "# you can also determine the meaning of each feature\n",
    "data.feature_names"
   ]
  },
  {
   "cell_type": "code",
   "execution_count": 13,
   "metadata": {
    "ExecuteTime": {
     "end_time": "2020-05-02T13:22:46.397033Z",
     "start_time": "2020-05-02T13:22:46.379578Z"
    }
   },
   "outputs": [],
   "source": [
    "# normally we would put all of our imports at the top\n",
    "# but this lets us tell a story\n",
    "from sklearn.model_selection import train_test_split\n",
    "\n",
    "\n",
    "# split the data into train and test sets\n",
    "# this lets us simulate how our model will perform in the future\n",
    "X_train, X_test, y_train, y_test = train_test_split(data.data, data.target, test_size=0.33)\n",
    "N, D = X_train.shape"
   ]
  },
  {
   "cell_type": "code",
   "execution_count": 14,
   "metadata": {
    "ExecuteTime": {
     "end_time": "2020-05-02T13:22:57.532879Z",
     "start_time": "2020-05-02T13:22:57.516032Z"
    }
   },
   "outputs": [],
   "source": [
    "# Scale the data\n",
    "# you'll learn why scaling is needed in a later course\n",
    "from sklearn.preprocessing import StandardScaler\n",
    "\n",
    "scaler = StandardScaler()\n",
    "X_train = scaler.fit_transform(X_train)\n",
    "X_test = scaler.transform(X_test)"
   ]
  },
  {
   "cell_type": "code",
   "execution_count": 15,
   "metadata": {
    "ExecuteTime": {
     "end_time": "2020-05-02T13:24:11.541614Z",
     "start_time": "2020-05-02T13:24:04.059364Z"
    }
   },
   "outputs": [
    {
     "name": "stdout",
     "output_type": "stream",
     "text": [
      "Train on 381 samples, validate on 188 samples\n",
      "Epoch 1/100\n",
      "381/381 [==============================] - 2s 4ms/sample - loss: 0.9977 - accuracy: 0.3228 - val_loss: 0.8948 - val_accuracy: 0.3830\n",
      "Epoch 2/100\n",
      "381/381 [==============================] - 0s 124us/sample - loss: 0.8959 - accuracy: 0.3858 - val_loss: 0.7989 - val_accuracy: 0.4787\n",
      "Epoch 3/100\n",
      "381/381 [==============================] - 0s 112us/sample - loss: 0.8017 - accuracy: 0.4646 - val_loss: 0.7161 - val_accuracy: 0.5638\n",
      "Epoch 4/100\n",
      "381/381 [==============================] - 0s 103us/sample - loss: 0.7223 - accuracy: 0.5302 - val_loss: 0.6431 - val_accuracy: 0.6436\n",
      "Epoch 5/100\n",
      "381/381 [==============================] - 0s 100us/sample - loss: 0.6505 - accuracy: 0.6299 - val_loss: 0.5821 - val_accuracy: 0.7234\n",
      "Epoch 6/100\n",
      "381/381 [==============================] - 0s 92us/sample - loss: 0.5913 - accuracy: 0.7192 - val_loss: 0.5296 - val_accuracy: 0.7766\n",
      "Epoch 7/100\n",
      "381/381 [==============================] - 0s 112us/sample - loss: 0.5395 - accuracy: 0.7953 - val_loss: 0.4855 - val_accuracy: 0.8191\n",
      "Epoch 8/100\n",
      "381/381 [==============================] - 0s 115us/sample - loss: 0.4954 - accuracy: 0.8346 - val_loss: 0.4481 - val_accuracy: 0.8564\n",
      "Epoch 9/100\n",
      "381/381 [==============================] - 0s 101us/sample - loss: 0.4577 - accuracy: 0.8714 - val_loss: 0.4163 - val_accuracy: 0.8617\n",
      "Epoch 10/100\n",
      "381/381 [==============================] - 0s 119us/sample - loss: 0.4261 - accuracy: 0.8793 - val_loss: 0.3884 - val_accuracy: 0.8883\n",
      "Epoch 11/100\n",
      "381/381 [==============================] - 0s 107us/sample - loss: 0.3980 - accuracy: 0.8871 - val_loss: 0.3646 - val_accuracy: 0.8883\n",
      "Epoch 12/100\n",
      "381/381 [==============================] - 0s 138us/sample - loss: 0.3743 - accuracy: 0.8950 - val_loss: 0.3435 - val_accuracy: 0.8936\n",
      "Epoch 13/100\n",
      "381/381 [==============================] - 0s 126us/sample - loss: 0.3531 - accuracy: 0.9108 - val_loss: 0.3252 - val_accuracy: 0.9043\n",
      "Epoch 14/100\n",
      "381/381 [==============================] - 0s 96us/sample - loss: 0.3350 - accuracy: 0.9186 - val_loss: 0.3088 - val_accuracy: 0.9096\n",
      "Epoch 15/100\n",
      "381/381 [==============================] - 0s 115us/sample - loss: 0.3187 - accuracy: 0.9239 - val_loss: 0.2943 - val_accuracy: 0.9149\n",
      "Epoch 16/100\n",
      "381/381 [==============================] - 0s 111us/sample - loss: 0.3041 - accuracy: 0.9396 - val_loss: 0.2818 - val_accuracy: 0.9255\n",
      "Epoch 17/100\n",
      "381/381 [==============================] - 0s 114us/sample - loss: 0.2914 - accuracy: 0.9423 - val_loss: 0.2703 - val_accuracy: 0.9309\n",
      "Epoch 18/100\n",
      "381/381 [==============================] - 0s 90us/sample - loss: 0.2803 - accuracy: 0.9423 - val_loss: 0.2596 - val_accuracy: 0.9468\n",
      "Epoch 19/100\n",
      "381/381 [==============================] - 0s 120us/sample - loss: 0.2697 - accuracy: 0.9449 - val_loss: 0.2501 - val_accuracy: 0.9521\n",
      "Epoch 20/100\n",
      "381/381 [==============================] - 0s 106us/sample - loss: 0.2602 - accuracy: 0.9449 - val_loss: 0.2415 - val_accuracy: 0.9521\n",
      "Epoch 21/100\n",
      "381/381 [==============================] - 0s 104us/sample - loss: 0.2518 - accuracy: 0.9475 - val_loss: 0.2335 - val_accuracy: 0.9574\n",
      "Epoch 22/100\n",
      "381/381 [==============================] - 0s 116us/sample - loss: 0.2441 - accuracy: 0.9554 - val_loss: 0.2261 - val_accuracy: 0.9628\n",
      "Epoch 23/100\n",
      "381/381 [==============================] - 0s 109us/sample - loss: 0.2368 - accuracy: 0.9554 - val_loss: 0.2194 - val_accuracy: 0.9628\n",
      "Epoch 24/100\n",
      "381/381 [==============================] - 0s 96us/sample - loss: 0.2303 - accuracy: 0.9554 - val_loss: 0.2131 - val_accuracy: 0.9628\n",
      "Epoch 25/100\n",
      "381/381 [==============================] - 0s 112us/sample - loss: 0.2242 - accuracy: 0.9554 - val_loss: 0.2073 - val_accuracy: 0.9628\n",
      "Epoch 26/100\n",
      "381/381 [==============================] - 0s 118us/sample - loss: 0.2185 - accuracy: 0.9580 - val_loss: 0.2019 - val_accuracy: 0.9628\n",
      "Epoch 27/100\n",
      "381/381 [==============================] - 0s 107us/sample - loss: 0.2132 - accuracy: 0.9554 - val_loss: 0.1968 - val_accuracy: 0.9628\n",
      "Epoch 28/100\n",
      "381/381 [==============================] - 0s 120us/sample - loss: 0.2084 - accuracy: 0.9580 - val_loss: 0.1921 - val_accuracy: 0.9628\n",
      "Epoch 29/100\n",
      "381/381 [==============================] - 0s 109us/sample - loss: 0.2039 - accuracy: 0.9606 - val_loss: 0.1875 - val_accuracy: 0.9628\n",
      "Epoch 30/100\n",
      "381/381 [==============================] - 0s 109us/sample - loss: 0.1994 - accuracy: 0.9606 - val_loss: 0.1833 - val_accuracy: 0.9628\n",
      "Epoch 31/100\n",
      "381/381 [==============================] - 0s 114us/sample - loss: 0.1955 - accuracy: 0.9606 - val_loss: 0.1793 - val_accuracy: 0.9628\n",
      "Epoch 32/100\n",
      "381/381 [==============================] - 0s 93us/sample - loss: 0.1916 - accuracy: 0.9606 - val_loss: 0.1756 - val_accuracy: 0.9628\n",
      "Epoch 33/100\n",
      "381/381 [==============================] - 0s 95us/sample - loss: 0.1881 - accuracy: 0.9606 - val_loss: 0.1719 - val_accuracy: 0.9628\n",
      "Epoch 34/100\n",
      "381/381 [==============================] - 0s 126us/sample - loss: 0.1847 - accuracy: 0.9606 - val_loss: 0.1686 - val_accuracy: 0.9681\n",
      "Epoch 35/100\n",
      "381/381 [==============================] - 0s 107us/sample - loss: 0.1815 - accuracy: 0.9606 - val_loss: 0.1653 - val_accuracy: 0.9787\n",
      "Epoch 36/100\n",
      "381/381 [==============================] - 0s 124us/sample - loss: 0.1784 - accuracy: 0.9606 - val_loss: 0.1622 - val_accuracy: 0.9787\n",
      "Epoch 37/100\n",
      "381/381 [==============================] - 0s 99us/sample - loss: 0.1756 - accuracy: 0.9606 - val_loss: 0.1593 - val_accuracy: 0.9787\n",
      "Epoch 38/100\n",
      "381/381 [==============================] - 0s 141us/sample - loss: 0.1728 - accuracy: 0.9606 - val_loss: 0.1565 - val_accuracy: 0.9787\n",
      "Epoch 39/100\n",
      "381/381 [==============================] - 0s 113us/sample - loss: 0.1701 - accuracy: 0.9606 - val_loss: 0.1539 - val_accuracy: 0.9787\n",
      "Epoch 40/100\n",
      "381/381 [==============================] - 0s 213us/sample - loss: 0.1676 - accuracy: 0.9606 - val_loss: 0.1513 - val_accuracy: 0.9787\n",
      "Epoch 41/100\n",
      "381/381 [==============================] - 0s 238us/sample - loss: 0.1652 - accuracy: 0.9633 - val_loss: 0.1490 - val_accuracy: 0.9787\n",
      "Epoch 42/100\n",
      "381/381 [==============================] - 0s 257us/sample - loss: 0.1629 - accuracy: 0.9633 - val_loss: 0.1465 - val_accuracy: 0.9787\n",
      "Epoch 43/100\n",
      "381/381 [==============================] - 0s 205us/sample - loss: 0.1607 - accuracy: 0.9633 - val_loss: 0.1443 - val_accuracy: 0.9787\n",
      "Epoch 44/100\n",
      "381/381 [==============================] - 0s 290us/sample - loss: 0.1587 - accuracy: 0.9633 - val_loss: 0.1420 - val_accuracy: 0.9787\n",
      "Epoch 45/100\n",
      "381/381 [==============================] - 0s 279us/sample - loss: 0.1566 - accuracy: 0.9633 - val_loss: 0.1399 - val_accuracy: 0.9787\n",
      "Epoch 46/100\n",
      "381/381 [==============================] - 0s 263us/sample - loss: 0.1546 - accuracy: 0.9633 - val_loss: 0.1380 - val_accuracy: 0.9787\n",
      "Epoch 47/100\n",
      "381/381 [==============================] - 0s 239us/sample - loss: 0.1528 - accuracy: 0.9659 - val_loss: 0.1360 - val_accuracy: 0.9787\n",
      "Epoch 48/100\n",
      "381/381 [==============================] - 0s 250us/sample - loss: 0.1509 - accuracy: 0.9659 - val_loss: 0.1342 - val_accuracy: 0.9787\n",
      "Epoch 49/100\n",
      "381/381 [==============================] - 0s 232us/sample - loss: 0.1492 - accuracy: 0.9685 - val_loss: 0.1325 - val_accuracy: 0.9787\n",
      "Epoch 50/100\n",
      "381/381 [==============================] - 0s 312us/sample - loss: 0.1475 - accuracy: 0.9685 - val_loss: 0.1307 - val_accuracy: 0.9787\n",
      "Epoch 51/100\n",
      "381/381 [==============================] - 0s 301us/sample - loss: 0.1459 - accuracy: 0.9685 - val_loss: 0.1290 - val_accuracy: 0.9787\n",
      "Epoch 52/100\n",
      "381/381 [==============================] - 0s 210us/sample - loss: 0.1444 - accuracy: 0.9685 - val_loss: 0.1274 - val_accuracy: 0.9787\n",
      "Epoch 53/100\n",
      "381/381 [==============================] - 0s 257us/sample - loss: 0.1428 - accuracy: 0.9685 - val_loss: 0.1258 - val_accuracy: 0.9787\n",
      "Epoch 54/100\n",
      "381/381 [==============================] - 0s 296us/sample - loss: 0.1414 - accuracy: 0.9685 - val_loss: 0.1243 - val_accuracy: 0.9787\n",
      "Epoch 55/100\n",
      "381/381 [==============================] - 0s 153us/sample - loss: 0.1399 - accuracy: 0.9685 - val_loss: 0.1228 - val_accuracy: 0.9787\n",
      "Epoch 56/100\n"
     ]
    },
    {
     "name": "stdout",
     "output_type": "stream",
     "text": [
      "381/381 [==============================] - 0s 115us/sample - loss: 0.1386 - accuracy: 0.9685 - val_loss: 0.1214 - val_accuracy: 0.9787\n",
      "Epoch 57/100\n",
      "381/381 [==============================] - 0s 110us/sample - loss: 0.1372 - accuracy: 0.9685 - val_loss: 0.1201 - val_accuracy: 0.9787\n",
      "Epoch 58/100\n",
      "381/381 [==============================] - 0s 138us/sample - loss: 0.1360 - accuracy: 0.9685 - val_loss: 0.1188 - val_accuracy: 0.9787\n",
      "Epoch 59/100\n",
      "381/381 [==============================] - 0s 84us/sample - loss: 0.1347 - accuracy: 0.9685 - val_loss: 0.1175 - val_accuracy: 0.9787\n",
      "Epoch 60/100\n",
      "381/381 [==============================] - 0s 91us/sample - loss: 0.1335 - accuracy: 0.9685 - val_loss: 0.1162 - val_accuracy: 0.9787\n",
      "Epoch 61/100\n",
      "381/381 [==============================] - 0s 81us/sample - loss: 0.1324 - accuracy: 0.9685 - val_loss: 0.1151 - val_accuracy: 0.9787\n",
      "Epoch 62/100\n",
      "381/381 [==============================] - 0s 114us/sample - loss: 0.1312 - accuracy: 0.9685 - val_loss: 0.1138 - val_accuracy: 0.9787\n",
      "Epoch 63/100\n",
      "381/381 [==============================] - 0s 98us/sample - loss: 0.1301 - accuracy: 0.9685 - val_loss: 0.1128 - val_accuracy: 0.9787\n",
      "Epoch 64/100\n",
      "381/381 [==============================] - 0s 105us/sample - loss: 0.1290 - accuracy: 0.9685 - val_loss: 0.1117 - val_accuracy: 0.9787\n",
      "Epoch 65/100\n",
      "381/381 [==============================] - 0s 97us/sample - loss: 0.1279 - accuracy: 0.9685 - val_loss: 0.1106 - val_accuracy: 0.9787\n",
      "Epoch 66/100\n",
      "381/381 [==============================] - 0s 97us/sample - loss: 0.1269 - accuracy: 0.9685 - val_loss: 0.1096 - val_accuracy: 0.9840\n",
      "Epoch 67/100\n",
      "381/381 [==============================] - 0s 101us/sample - loss: 0.1259 - accuracy: 0.9685 - val_loss: 0.1086 - val_accuracy: 0.9840\n",
      "Epoch 68/100\n",
      "381/381 [==============================] - 0s 101us/sample - loss: 0.1249 - accuracy: 0.9685 - val_loss: 0.1076 - val_accuracy: 0.9840\n",
      "Epoch 69/100\n",
      "381/381 [==============================] - 0s 85us/sample - loss: 0.1240 - accuracy: 0.9685 - val_loss: 0.1067 - val_accuracy: 0.9840\n",
      "Epoch 70/100\n",
      "381/381 [==============================] - 0s 99us/sample - loss: 0.1231 - accuracy: 0.9685 - val_loss: 0.1057 - val_accuracy: 0.9840\n",
      "Epoch 71/100\n",
      "381/381 [==============================] - 0s 110us/sample - loss: 0.1221 - accuracy: 0.9685 - val_loss: 0.1048 - val_accuracy: 0.9840\n",
      "Epoch 72/100\n",
      "381/381 [==============================] - 0s 95us/sample - loss: 0.1212 - accuracy: 0.9685 - val_loss: 0.1039 - val_accuracy: 0.9840\n",
      "Epoch 73/100\n",
      "381/381 [==============================] - 0s 95us/sample - loss: 0.1204 - accuracy: 0.9711 - val_loss: 0.1031 - val_accuracy: 0.9840\n",
      "Epoch 74/100\n",
      "381/381 [==============================] - 0s 105us/sample - loss: 0.1196 - accuracy: 0.9711 - val_loss: 0.1022 - val_accuracy: 0.9840\n",
      "Epoch 75/100\n",
      "381/381 [==============================] - 0s 88us/sample - loss: 0.1187 - accuracy: 0.9711 - val_loss: 0.1014 - val_accuracy: 0.9840\n",
      "Epoch 76/100\n",
      "381/381 [==============================] - 0s 97us/sample - loss: 0.1179 - accuracy: 0.9711 - val_loss: 0.1006 - val_accuracy: 0.9840\n",
      "Epoch 77/100\n",
      "381/381 [==============================] - 0s 98us/sample - loss: 0.1171 - accuracy: 0.9738 - val_loss: 0.0998 - val_accuracy: 0.9840\n",
      "Epoch 78/100\n",
      "381/381 [==============================] - 0s 87us/sample - loss: 0.1164 - accuracy: 0.9738 - val_loss: 0.0991 - val_accuracy: 0.9840\n",
      "Epoch 79/100\n",
      "381/381 [==============================] - 0s 88us/sample - loss: 0.1156 - accuracy: 0.9738 - val_loss: 0.0984 - val_accuracy: 0.9840\n",
      "Epoch 80/100\n",
      "381/381 [==============================] - 0s 89us/sample - loss: 0.1149 - accuracy: 0.9738 - val_loss: 0.0976 - val_accuracy: 0.9840\n",
      "Epoch 81/100\n",
      "381/381 [==============================] - 0s 90us/sample - loss: 0.1141 - accuracy: 0.9738 - val_loss: 0.0970 - val_accuracy: 0.9840\n",
      "Epoch 82/100\n",
      "381/381 [==============================] - 0s 93us/sample - loss: 0.1135 - accuracy: 0.9738 - val_loss: 0.0963 - val_accuracy: 0.9840\n",
      "Epoch 83/100\n",
      "381/381 [==============================] - 0s 94us/sample - loss: 0.1128 - accuracy: 0.9738 - val_loss: 0.0956 - val_accuracy: 0.9840\n",
      "Epoch 84/100\n",
      "381/381 [==============================] - 0s 101us/sample - loss: 0.1121 - accuracy: 0.9738 - val_loss: 0.0949 - val_accuracy: 0.9840\n",
      "Epoch 85/100\n",
      "381/381 [==============================] - 0s 105us/sample - loss: 0.1114 - accuracy: 0.9738 - val_loss: 0.0943 - val_accuracy: 0.9840\n",
      "Epoch 86/100\n",
      "381/381 [==============================] - 0s 97us/sample - loss: 0.1107 - accuracy: 0.9738 - val_loss: 0.0937 - val_accuracy: 0.9840\n",
      "Epoch 87/100\n",
      "381/381 [==============================] - 0s 112us/sample - loss: 0.1101 - accuracy: 0.9738 - val_loss: 0.0931 - val_accuracy: 0.9840\n",
      "Epoch 88/100\n",
      "381/381 [==============================] - 0s 136us/sample - loss: 0.1095 - accuracy: 0.9738 - val_loss: 0.0925 - val_accuracy: 0.9840\n",
      "Epoch 89/100\n",
      "381/381 [==============================] - 0s 129us/sample - loss: 0.1089 - accuracy: 0.9738 - val_loss: 0.0919 - val_accuracy: 0.9840\n",
      "Epoch 90/100\n",
      "381/381 [==============================] - 0s 107us/sample - loss: 0.1083 - accuracy: 0.9738 - val_loss: 0.0913 - val_accuracy: 0.9840\n",
      "Epoch 91/100\n",
      "381/381 [==============================] - 0s 114us/sample - loss: 0.1077 - accuracy: 0.9738 - val_loss: 0.0907 - val_accuracy: 0.9840\n",
      "Epoch 92/100\n",
      "381/381 [==============================] - 0s 125us/sample - loss: 0.1071 - accuracy: 0.9738 - val_loss: 0.0902 - val_accuracy: 0.9840\n",
      "Epoch 93/100\n",
      "381/381 [==============================] - 0s 105us/sample - loss: 0.1065 - accuracy: 0.9738 - val_loss: 0.0897 - val_accuracy: 0.9840\n",
      "Epoch 94/100\n",
      "381/381 [==============================] - 0s 122us/sample - loss: 0.1060 - accuracy: 0.9738 - val_loss: 0.0891 - val_accuracy: 0.9840\n",
      "Epoch 95/100\n",
      "381/381 [==============================] - 0s 132us/sample - loss: 0.1054 - accuracy: 0.9764 - val_loss: 0.0886 - val_accuracy: 0.9840\n",
      "Epoch 96/100\n",
      "381/381 [==============================] - 0s 93us/sample - loss: 0.1049 - accuracy: 0.9764 - val_loss: 0.0881 - val_accuracy: 0.9787\n",
      "Epoch 97/100\n",
      "381/381 [==============================] - 0s 91us/sample - loss: 0.1044 - accuracy: 0.9764 - val_loss: 0.0876 - val_accuracy: 0.9787\n",
      "Epoch 98/100\n",
      "381/381 [==============================] - 0s 96us/sample - loss: 0.1038 - accuracy: 0.9764 - val_loss: 0.0871 - val_accuracy: 0.9787\n",
      "Epoch 99/100\n",
      "381/381 [==============================] - 0s 105us/sample - loss: 0.1033 - accuracy: 0.9790 - val_loss: 0.0867 - val_accuracy: 0.9787\n",
      "Epoch 100/100\n",
      "381/381 [==============================] - 0s 97us/sample - loss: 0.1028 - accuracy: 0.9790 - val_loss: 0.0862 - val_accuracy: 0.9787\n",
      "381/381 [==============================] - 0s 32us/sample - loss: 0.1025 - accuracy: 0.9790\n",
      "Train score: [0.10253416074151442, 0.9790026]\n",
      "188/188 [==============================] - 0s 56us/sample - loss: 0.0862 - accuracy: 0.9787\n",
      "Test score: [0.08624732843104829, 0.9787234]\n"
     ]
    }
   ],
   "source": [
    "# Now all the fun Tensorflow stuff\n",
    "# Build the model\n",
    "\n",
    "model = tf.keras.models.Sequential([\n",
    "  tf.keras.layers.Input(shape=(D,)),\n",
    "  tf.keras.layers.Dense(1, activation='sigmoid')\n",
    "])\n",
    "\n",
    "# Alternatively, you can do:\n",
    "# model = tf.keras.models.Sequential()\n",
    "# model.add(tf.keras.layers.Dense(1, input_shape=(D,), activation='sigmoid'))\n",
    "\n",
    "model.compile(optimizer='adam',\n",
    "              loss='binary_crossentropy',\n",
    "              metrics=['accuracy'])\n",
    "\n",
    "\n",
    "# Train the model\n",
    "r = model.fit(X_train, y_train, validation_data=(X_test, y_test), epochs=100)\n",
    "\n",
    "\n",
    "# Evaluate the model - evaluate() returns loss and accuracy\n",
    "print(\"Train score:\", model.evaluate(X_train, y_train))\n",
    "print(\"Test score:\", model.evaluate(X_test, y_test))"
   ]
  },
  {
   "cell_type": "code",
   "execution_count": 16,
   "metadata": {
    "ExecuteTime": {
     "end_time": "2020-05-02T13:26:20.658787Z",
     "start_time": "2020-05-02T13:26:19.522732Z"
    }
   },
   "outputs": [
    {
     "data": {
      "text/plain": [
       "<matplotlib.legend.Legend at 0x7f2a1850e390>"
      ]
     },
     "execution_count": 16,
     "metadata": {},
     "output_type": "execute_result"
    },
    {
     "data": {
      "image/png": "[encoded data removed]",
      "text/plain": [
       "<Figure size 432x288 with 1 Axes>"
      ]
     },
     "metadata": {
      "needs_background": "light"
     },
     "output_type": "display_data"
    }
   ],
   "source": [
    "# Plot what's returned by model.fit()\n",
    "import matplotlib.pyplot as plt\n",
    "plt.plot(r.history['loss'], label='loss')\n",
    "plt.plot(r.history['val_loss'], label='val_loss')\n",
    "plt.legend()"
   ]
  },
  {
   "cell_type": "code",
   "execution_count": 17,
   "metadata": {
    "ExecuteTime": {
     "end_time": "2020-05-02T13:26:46.153295Z",
     "start_time": "2020-05-02T13:26:45.928917Z"
    }
   },
   "outputs": [
    {
     "data": {
      "text/plain": [
       "<matplotlib.legend.Legend at 0x7f29fcdbe310>"
      ]
     },
     "execution_count": 17,
     "metadata": {},
     "output_type": "execute_result"
    },
    {
     "data": {
      "image/png": "[encoded data removed]",
      "text/plain": [
       "<Figure size 432x288 with 1 Axes>"
      ]
     },
     "metadata": {
      "needs_background": "light"
     },
     "output_type": "display_data"
    }
   ],
   "source": [
    "# Plot the accuracy too\n",
    "plt.plot(r.history['accuracy'], label='acc')\n",
    "plt.plot(r.history['val_accuracy'], label='val_acc')\n",
    "plt.legend()"
   ]
  },
  {
   "cell_type": "code",
   "execution_count": null,
   "metadata": {},
   "outputs": [],
   "source": []
  }
 ],
 "metadata": {
  "kernelspec": {
   "display_name": "Python 3",
   "language": "python",
   "name": "python3"
  },
  "language_info": {
   "codemirror_mode": {
    "name": "ipython",
    "version": 3
   },
   "file_extension": ".py",
   "mimetype": "text/x-python",
   "name": "python",
   "nbconvert_exporter": "python",
   "pygments_lexer": "ipython3",
   "version": "3.7.7"
  },
  "varInspector": {
   "cols": {
    "lenName": 16,
    "lenType": 16,
    "lenVar": 40
   },
   "kernels_config": {
    "python": {
     "delete_cmd_postfix": "",
     "delete_cmd_prefix": "del ",
     "library": "var_list.py",
     "varRefreshCmd": "print(var_dic_list())"
    },
    "r": {
     "delete_cmd_postfix": ") ",
     "delete_cmd_prefix": "rm(",
     "library": "var_list.r",
     "varRefreshCmd": "cat(var_dic_list()) "
    }
   },
   "types_to_exclude": [
    "module",
    "function",
    "builtin_function_or_method",
    "instance",
    "_Feature"
   ],
   "window_display": false
  }
 },
 "nbformat": 4,
 "nbformat_minor": 4
}
